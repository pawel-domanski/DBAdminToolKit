{
    "metadata": {
        "kernelspec": {
            "name": "SQL",
            "display_name": "SQL",
            "language": "sql"
        },
        "language_info": {
            "name": "sql",
            "version": ""
        }
    },
    "nbformat_minor": 2,
    "nbformat": 4,
    "cells": [
        {
            "cell_type": "markdown",
            "source": [
                "# SQL Server 2017 Diagnostic Information Queries"
            ],
            "metadata": {
                "azdata_cell_guid": "e7ad296a-7812-471f-8c79-f276d55af297"
            }
        },
        {
            "cell_type": "markdown",
            "source": [
                "## Version Info\n",
                "\n",
                "SQL and OS Version information for current instance "
            ],
            "metadata": {
                "azdata_cell_guid": "82461aa4-6165-4902-925b-522d3cd6d62c"
            }
        },
        {
            "cell_type": "code",
            "source": [
                "SELECT @@SERVERNAME AS [Server Name], @@VERSION AS [SQL Server and OS Version Info];\n",
                ""
            ],
            "metadata": {
                "azdata_cell_guid": "51124cfd-c0c9-4671-be28-de85994ca78d"
            },
            "outputs": [
                {
                    "output_type": "display_data",
                    "data": {
                        "text/html": "(1 row affected)"
                    },
                    "metadata": {}
                },
                {
                    "output_type": "display_data",
                    "data": {
                        "text/html": "Total execution time: 00:00:00.0041519"
                    },
                    "metadata": {}
                },
                {
                    "output_type": "execute_result",
                    "execution_count": 1,
                    "data": {
                        "application/vnd.dataresource+json": {
                            "schema": {
                                "fields": [
                                    {
                                        "name": "Server Name"
                                    },
                                    {
                                        "name": "SQL Server and OS Version Info"
                                    }
                                ]
                            },
                            "data": [
                                {
                                    "0": "DESKTOP-RSQ39TA\\SQL2017",
                                    "1": "Microsoft SQL Server 2017 (RTM-CU9-GDR) (KB4293805) - 14.0.3035.2 (X64) \n\tJul  6 2018 18:24:36 \n\tCopyright (C) 2017 Microsoft Corporation\n\tDeveloper Edition (64-bit) on Windows 10 Pro 10.0 <X64> (Build 17763: )\n"
                                }
                            ]
                        },
                        "text/html": "<table><tr><th>Server Name</th><th>SQL Server and OS Version Info</th></tr><tr><td>DESKTOP-RSQ39TA\\SQL2017</td><td>Microsoft SQL Server 2017 (RTM-CU9-GDR) (KB4293805) - 14.0.3035.2 (X64) \n\tJul  6 2018 18:24:36 \n\tCopyright (C) 2017 Microsoft Corporation\n\tDeveloper Edition (64-bit) on Windows 10 Pro 10.0 &lt;X64&gt; (Build 17763: )\n</td></tr></table>"
                    },
                    "metadata": {}
                }
            ],
            "execution_count": 1
        },
        {
            "cell_type": "markdown",
            "source": [
                "## Core Counts\n",
                "\n",
                "Get socket, physical core and logical core count from the SQL Server Error log."
            ],
            "metadata": {
                "azdata_cell_guid": "5877e28b-96fc-493b-8a64-9bb58ddc73bc"
            }
        },
        {
            "cell_type": "code",
            "source": [
                "EXEC sys.xp_readerrorlog 0, 1, N'detected', N'socket';\n",
                ""
            ],
            "metadata": {
                "azdata_cell_guid": "bb8b8812-8cd5-4db8-81cb-7137530a0fde"
            },
            "outputs": [
                {
                    "output_type": "display_data",
                    "data": {
                        "text/html": "(1 row affected)"
                    },
                    "metadata": {}
                },
                {
                    "output_type": "display_data",
                    "data": {
                        "text/html": "Total execution time: 00:00:00.503"
                    },
                    "metadata": {}
                },
                {
                    "output_type": "execute_result",
                    "metadata": {},
                    "execution_count": 1,
                    "data": {
                        "application/vnd.dataresource+json": {
                            "schema": {
                                "fields": [
                                    {
                                        "name": "LogDate"
                                    },
                                    {
                                        "name": "ProcessInfo"
                                    },
                                    {
                                        "name": "Text"
                                    }
                                ]
                            },
                            "data": [
                                {
                                    "0": "2020-01-27 09:50:40.090",
                                    "1": "Server",
                                    "2": "SQL Server detected 1 sockets with 2 cores per socket and 4 logical processors per socket, 4 total logical processors; using 4 logical processors based on SQL Server licensing. This is an informational message; no user action is required."
                                }
                            ]
                        },
                        "text/html": "<table><tr><th>LogDate</th><th>ProcessInfo</th><th>Text</th></tr><tr><td>2020-01-27 09:50:40.090</td><td>Server</td><td>SQL Server detected 1 sockets with 2 cores per socket and 4 logical processors per socket, 4 total logical processors; using 4 logical processors based on SQL Server licensing. This is an informational message; no user action is required.</td></tr></table>"
                    }
                }
            ],
            "execution_count": 1
        },
        {
            "cell_type": "markdown",
            "source": [
                "## Server Properties\n",
                "\n",
                "Get selected server properties"
            ],
            "metadata": {
                "azdata_cell_guid": "09aee860-2aff-457d-b48d-ffd888631a02"
            }
        },
        {
            "cell_type": "code",
            "source": [
                "SELECT SERVERPROPERTY('MachineName') AS [MachineName], \n",
                "SERVERPROPERTY('ServerName') AS [ServerName],  \n",
                "SERVERPROPERTY('InstanceName') AS [Instance], \n",
                "SERVERPROPERTY('IsClustered') AS [IsClustered], \n",
                "SERVERPROPERTY('ComputerNamePhysicalNetBIOS') AS [ComputerNamePhysicalNetBIOS], \n",
                "SERVERPROPERTY('Edition') AS [Edition], \n",
                "SERVERPROPERTY('ProductLevel') AS [ProductLevel],\t\t\t\t-- What servicing branch (RTM/SP/CU)\n",
                "SERVERPROPERTY('ProductUpdateLevel') AS [ProductUpdateLevel],\t-- Within a servicing branch, what CU# is applied\n",
                "SERVERPROPERTY('ProductVersion') AS [ProductVersion],\n",
                "SERVERPROPERTY('ProductMajorVersion') AS [ProductMajorVersion], \n",
                "SERVERPROPERTY('ProductMinorVersion') AS [ProductMinorVersion], \n",
                "SERVERPROPERTY('ProductBuild') AS [ProductBuild], \n",
                "SERVERPROPERTY('ProductBuildType') AS [ProductBuildType],\t\t\t  -- Is this a GDR or OD hotfix (NULL if on a CU build)\n",
                "SERVERPROPERTY('ProductUpdateReference') AS [ProductUpdateReference], -- KB article number that is applicable for this build\n",
                "SERVERPROPERTY('ProcessID') AS [ProcessID],\n",
                "SERVERPROPERTY('Collation') AS [Collation], \n",
                "SERVERPROPERTY('IsFullTextInstalled') AS [IsFullTextInstalled], \n",
                "SERVERPROPERTY('IsIntegratedSecurityOnly') AS [IsIntegratedSecurityOnly],\n",
                "SERVERPROPERTY('FilestreamConfiguredLevel') AS [FilestreamConfiguredLevel],\n",
                "SERVERPROPERTY('IsHadrEnabled') AS [IsHadrEnabled], \n",
                "SERVERPROPERTY('HadrManagerStatus') AS [HadrManagerStatus],\n",
                "SERVERPROPERTY('InstanceDefaultDataPath') AS [InstanceDefaultDataPath],\n",
                "SERVERPROPERTY('InstanceDefaultLogPath') AS [InstanceDefaultLogPath],\n",
                "SERVERPROPERTY('BuildClrVersion') AS [Build CLR Version],\n",
                "SERVERPROPERTY('IsXTPSupported') AS [IsXTPSupported],\n",
                "SERVERPROPERTY('IsPolybaseInstalled') AS [IsPolybaseInstalled],\t\t\t\t-- New for SQL Server 2016\n",
                "SERVERPROPERTY('IsAdvancedAnalyticsInstalled') AS [IsRServicesInstalled];\t-- New for SQL Server 2016\n",
                ""
            ],
            "metadata": {
                "azdata_cell_guid": "54dacd46-875f-47db-a3c6-31c75cfe8dce",
                "tags": [
                    "hide_input"
                ]
            },
            "outputs": [
                {
                    "output_type": "display_data",
                    "data": {
                        "text/html": "(1 row affected)"
                    },
                    "metadata": {}
                },
                {
                    "output_type": "display_data",
                    "data": {
                        "text/html": "Total execution time: 00:00:00.071"
                    },
                    "metadata": {}
                },
                {
                    "output_type": "execute_result",
                    "metadata": {},
                    "execution_count": 2,
                    "data": {
                        "application/vnd.dataresource+json": {
                            "schema": {
                                "fields": [
                                    {
                                        "name": "MachineName"
                                    },
                                    {
                                        "name": "ServerName"
                                    },
                                    {
                                        "name": "Instance"
                                    },
                                    {
                                        "name": "IsClustered"
                                    },
                                    {
                                        "name": "ComputerNamePhysicalNetBIOS"
                                    },
                                    {
                                        "name": "Edition"
                                    },
                                    {
                                        "name": "ProductLevel"
                                    },
                                    {
                                        "name": "ProductUpdateLevel"
                                    },
                                    {
                                        "name": "ProductVersion"
                                    },
                                    {
                                        "name": "ProductMajorVersion"
                                    },
                                    {
                                        "name": "ProductMinorVersion"
                                    },
                                    {
                                        "name": "ProductBuild"
                                    },
                                    {
                                        "name": "ProductBuildType"
                                    },
                                    {
                                        "name": "ProductUpdateReference"
                                    },
                                    {
                                        "name": "ProcessID"
                                    },
                                    {
                                        "name": "Collation"
                                    },
                                    {
                                        "name": "IsFullTextInstalled"
                                    },
                                    {
                                        "name": "IsIntegratedSecurityOnly"
                                    },
                                    {
                                        "name": "FilestreamConfiguredLevel"
                                    },
                                    {
                                        "name": "IsHadrEnabled"
                                    },
                                    {
                                        "name": "HadrManagerStatus"
                                    },
                                    {
                                        "name": "InstanceDefaultDataPath"
                                    },
                                    {
                                        "name": "InstanceDefaultLogPath"
                                    },
                                    {
                                        "name": "Build CLR Version"
                                    },
                                    {
                                        "name": "IsXTPSupported"
                                    },
                                    {
                                        "name": "IsPolybaseInstalled"
                                    },
                                    {
                                        "name": "IsRServicesInstalled"
                                    }
                                ]
                            },
                            "data": [
                                {
                                    "0": "LAPTOP-GCI8LPLG",
                                    "1": "LAPTOP-GCI8LPLG",
                                    "2": "NULL",
                                    "3": "0",
                                    "4": "LAPTOP-GCI8LPLG",
                                    "5": "Developer Edition (64-bit)",
                                    "6": "RTM",
                                    "7": "NULL",
                                    "8": "14.0.2027.2",
                                    "9": "14",
                                    "10": "0",
                                    "11": "2027",
                                    "12": "GDR",
                                    "13": "KB4505224",
                                    "14": "19188",
                                    "15": "Polish_CI_AS",
                                    "16": "0",
                                    "17": "0",
                                    "18": "0",
                                    "19": "0",
                                    "20": "1",
                                    "21": "C:\\Program Files\\Microsoft SQL Server\\MSSQL14.MSSQLSERVER\\MSSQL\\DATA\\",
                                    "22": "C:\\Program Files\\Microsoft SQL Server\\MSSQL14.MSSQLSERVER\\MSSQL\\DATA\\",
                                    "23": "v4.0.30319",
                                    "24": "1",
                                    "25": "0",
                                    "26": "0"
                                }
                            ]
                        },
                        "text/html": "<table><tr><th>MachineName</th><th>ServerName</th><th>Instance</th><th>IsClustered</th><th>ComputerNamePhysicalNetBIOS</th><th>Edition</th><th>ProductLevel</th><th>ProductUpdateLevel</th><th>ProductVersion</th><th>ProductMajorVersion</th><th>ProductMinorVersion</th><th>ProductBuild</th><th>ProductBuildType</th><th>ProductUpdateReference</th><th>ProcessID</th><th>Collation</th><th>IsFullTextInstalled</th><th>IsIntegratedSecurityOnly</th><th>FilestreamConfiguredLevel</th><th>IsHadrEnabled</th><th>HadrManagerStatus</th><th>InstanceDefaultDataPath</th><th>InstanceDefaultLogPath</th><th>Build CLR Version</th><th>IsXTPSupported</th><th>IsPolybaseInstalled</th><th>IsRServicesInstalled</th></tr><tr><td>LAPTOP-GCI8LPLG</td><td>LAPTOP-GCI8LPLG</td><td>NULL</td><td>0</td><td>LAPTOP-GCI8LPLG</td><td>Developer Edition (64-bit)</td><td>RTM</td><td>NULL</td><td>14.0.2027.2</td><td>14</td><td>0</td><td>2027</td><td>GDR</td><td>KB4505224</td><td>19188</td><td>Polish_CI_AS</td><td>0</td><td>0</td><td>0</td><td>0</td><td>1</td><td>C:\\Program Files\\Microsoft SQL Server\\MSSQL14.MSSQLSERVER\\MSSQL\\DATA\\</td><td>C:\\Program Files\\Microsoft SQL Server\\MSSQL14.MSSQLSERVER\\MSSQL\\DATA\\</td><td>v4.0.30319</td><td>1</td><td>0</td><td>0</td></tr></table>"
                    }
                }
            ],
            "execution_count": 2
        },
        {
            "cell_type": "markdown",
            "source": [
                "## Configuration Values\n",
                "\n",
                "Get instance-level configuration values for instance "
            ],
            "metadata": {
                "azdata_cell_guid": "6cc65fba-4e59-4e9b-b5c9-a2b59122a46a"
            }
        },
        {
            "cell_type": "code",
            "source": [
                "SELECT name, value, value_in_use, minimum, maximum, [description], is_dynamic, is_advanced\n",
                "FROM sys.configurations WITH (NOLOCK)\n",
                "ORDER BY name OPTION (RECOMPILE);\n",
                ""
            ],
            "metadata": {
                "azdata_cell_guid": "03c04bda-4a74-40ac-a7ba-a2da24595e06",
                "tags": [
                    "hide_input"
                ]
            },
            "outputs": [
                {
                    "output_type": "display_data",
                    "data": {
                        "text/html": "(77 rows affected)"
                    },
                    "metadata": {}
                },
                {
                    "output_type": "display_data",
                    "data": {
                        "text/html": "Total execution time: 00:00:00.103"
                    },
                    "metadata": {}
                },
                {
                    "output_type": "execute_result",
                    "metadata": {},
                    "execution_count": 3,
                    "data": {
                        "application/vnd.dataresource+json": {
                            "schema": {
                                "fields": [
                                    {
                                        "name": "name"
                                    },
                                    {
                                        "name": "value"
                                    },
                                    {
                                        "name": "value_in_use"
                                    },
                                    {
                                        "name": "minimum"
                                    },
                                    {
                                        "name": "maximum"
                                    },
                                    {
                                        "name": "description"
                                    },
                                    {
                                        "name": "is_dynamic"
                                    },
                                    {
                                        "name": "is_advanced"
                                    }
                                ]
                            },
                            "data": [
                                {
                                    "0": "access check cache bucket count",
                                    "1": "0",
                                    "2": "0",
                                    "3": "0",
                                    "4": "65536",
                                    "5": "Default hash bucket count for the access check result security cache",
                                    "6": "1",
                                    "7": "1"
                                },
                                {
                                    "0": "access check cache quota",
                                    "1": "0",
                                    "2": "0",
                                    "3": "0",
                                    "4": "2147483647",
                                    "5": "Default quota for the access check result security cache",
                                    "6": "1",
                                    "7": "1"
                                },
                                {
                                    "0": "Ad Hoc Distributed Queries",
                                    "1": "0",
                                    "2": "0",
                                    "3": "0",
                                    "4": "1",
                                    "5": "Enable or disable Ad Hoc Distributed Queries",
                                    "6": "1",
                                    "7": "1"
                                },
                                {
                                    "0": "affinity I/O mask",
                                    "1": "0",
                                    "2": "0",
                                    "3": "-2147483648",
                                    "4": "2147483647",
                                    "5": "affinity I/O mask",
                                    "6": "0",
                                    "7": "1"
                                },
                                {
                                    "0": "affinity mask",
                                    "1": "8",
                                    "2": "8",
                                    "3": "-2147483648",
                                    "4": "2147483647",
                                    "5": "affinity mask",
                                    "6": "1",
                                    "7": "1"
                                },
                                {
                                    "0": "affinity64 I/O mask",
                                    "1": "0",
                                    "2": "0",
                                    "3": "-2147483648",
                                    "4": "2147483647",
                                    "5": "affinity64 I/O mask",
                                    "6": "0",
                                    "7": "1"
                                },
                                {
                                    "0": "affinity64 mask",
                                    "1": "0",
                                    "2": "0",
                                    "3": "-2147483648",
                                    "4": "2147483647",
                                    "5": "affinity64 mask",
                                    "6": "1",
                                    "7": "1"
                                },
                                {
                                    "0": "Agent XPs",
                                    "1": "1",
                                    "2": "1",
                                    "3": "0",
                                    "4": "1",
                                    "5": "Enable or disable Agent XPs",
                                    "6": "1",
                                    "7": "1"
                                },
                                {
                                    "0": "allow polybase export",
                                    "1": "0",
                                    "2": "0",
                                    "3": "0",
                                    "4": "1",
                                    "5": "Allow INSERT into a Hadoop external table",
                                    "6": "1",
                                    "7": "0"
                                },
                                {
                                    "0": "allow updates",
                                    "1": "0",
                                    "2": "0",
                                    "3": "0",
                                    "4": "1",
                                    "5": "Allow updates to system tables",
                                    "6": "1",
                                    "7": "0"
                                },
                                {
                                    "0": "automatic soft-NUMA disabled",
                                    "1": "0",
                                    "2": "0",
                                    "3": "0",
                                    "4": "1",
                                    "5": "Automatic soft-NUMA is enabled by default",
                                    "6": "0",
                                    "7": "1"
                                },
                                {
                                    "0": "backup checksum default",
                                    "1": "0",
                                    "2": "0",
                                    "3": "0",
                                    "4": "1",
                                    "5": "Enable checksum of backups by default",
                                    "6": "1",
                                    "7": "0"
                                },
                                {
                                    "0": "backup compression default",
                                    "1": "0",
                                    "2": "0",
                                    "3": "0",
                                    "4": "1",
                                    "5": "Enable compression of backups by default",
                                    "6": "1",
                                    "7": "0"
                                },
                                {
                                    "0": "blocked process threshold (s)",
                                    "1": "0",
                                    "2": "0",
                                    "3": "0",
                                    "4": "86400",
                                    "5": "Blocked process reporting threshold",
                                    "6": "1",
                                    "7": "1"
                                },
                                {
                                    "0": "c2 audit mode",
                                    "1": "0",
                                    "2": "0",
                                    "3": "0",
                                    "4": "1",
                                    "5": "c2 audit mode",
                                    "6": "0",
                                    "7": "1"
                                },
                                {
                                    "0": "clr enabled",
                                    "1": "1",
                                    "2": "1",
                                    "3": "0",
                                    "4": "1",
                                    "5": "CLR user code execution enabled in the server",
                                    "6": "1",
                                    "7": "0"
                                },
                                {
                                    "0": "clr strict security",
                                    "1": "1",
                                    "2": "1",
                                    "3": "0",
                                    "4": "1",
                                    "5": "CLR strict security enabled in the server",
                                    "6": "1",
                                    "7": "1"
                                },
                                {
                                    "0": "common criteria compliance enabled",
                                    "1": "0",
                                    "2": "0",
                                    "3": "0",
                                    "4": "1",
                                    "5": "Common Criteria compliance mode enabled",
                                    "6": "0",
                                    "7": "1"
                                },
                                {
                                    "0": "contained database authentication",
                                    "1": "0",
                                    "2": "0",
                                    "3": "0",
                                    "4": "1",
                                    "5": "Enables contained databases and contained authentication",
                                    "6": "1",
                                    "7": "0"
                                },
                                {
                                    "0": "cost threshold for parallelism",
                                    "1": "5",
                                    "2": "5",
                                    "3": "0",
                                    "4": "32767",
                                    "5": "cost threshold for parallelism",
                                    "6": "1",
                                    "7": "1"
                                },
                                {
                                    "0": "cross db ownership chaining",
                                    "1": "0",
                                    "2": "0",
                                    "3": "0",
                                    "4": "1",
                                    "5": "Allow cross db ownership chaining",
                                    "6": "1",
                                    "7": "0"
                                },
                                {
                                    "0": "cursor threshold",
                                    "1": "-1",
                                    "2": "-1",
                                    "3": "-1",
                                    "4": "2147483647",
                                    "5": "cursor threshold",
                                    "6": "1",
                                    "7": "1"
                                },
                                {
                                    "0": "Database Mail XPs",
                                    "1": "0",
                                    "2": "0",
                                    "3": "0",
                                    "4": "1",
                                    "5": "Enable or disable Database Mail XPs",
                                    "6": "1",
                                    "7": "1"
                                },
                                {
                                    "0": "default full-text language",
                                    "1": "1033",
                                    "2": "1033",
                                    "3": "0",
                                    "4": "2147483647",
                                    "5": "default full-text language",
                                    "6": "1",
                                    "7": "1"
                                },
                                {
                                    "0": "default language",
                                    "1": "0",
                                    "2": "0",
                                    "3": "0",
                                    "4": "9999",
                                    "5": "default language",
                                    "6": "1",
                                    "7": "0"
                                },
                                {
                                    "0": "default trace enabled",
                                    "1": "1",
                                    "2": "1",
                                    "3": "0",
                                    "4": "1",
                                    "5": "Enable or disable the default trace",
                                    "6": "1",
                                    "7": "1"
                                },
                                {
                                    "0": "disallow results from triggers",
                                    "1": "0",
                                    "2": "0",
                                    "3": "0",
                                    "4": "1",
                                    "5": "Disallow returning results from triggers",
                                    "6": "1",
                                    "7": "1"
                                },
                                {
                                    "0": "EKM provider enabled",
                                    "1": "0",
                                    "2": "0",
                                    "3": "0",
                                    "4": "1",
                                    "5": "Enable or disable EKM provider",
                                    "6": "1",
                                    "7": "1"
                                },
                                {
                                    "0": "external scripts enabled",
                                    "1": "0",
                                    "2": "0",
                                    "3": "0",
                                    "4": "1",
                                    "5": "Allows execution of external scripts",
                                    "6": "0",
                                    "7": "0"
                                },
                                {
                                    "0": "filestream access level",
                                    "1": "0",
                                    "2": "0",
                                    "3": "0",
                                    "4": "2",
                                    "5": "Sets the FILESTREAM access level",
                                    "6": "1",
                                    "7": "0"
                                },
                                {
                                    "0": "fill factor (%)",
                                    "1": "0",
                                    "2": "0",
                                    "3": "0",
                                    "4": "100",
                                    "5": "Default fill factor percentage",
                                    "6": "0",
                                    "7": "1"
                                },
                                {
                                    "0": "ft crawl bandwidth (max)",
                                    "1": "100",
                                    "2": "100",
                                    "3": "0",
                                    "4": "32767",
                                    "5": "Max number of full-text crawl buffers",
                                    "6": "1",
                                    "7": "1"
                                },
                                {
                                    "0": "ft crawl bandwidth (min)",
                                    "1": "0",
                                    "2": "0",
                                    "3": "0",
                                    "4": "32767",
                                    "5": "Number of reserved full-text crawl buffers",
                                    "6": "1",
                                    "7": "1"
                                },
                                {
                                    "0": "ft notify bandwidth (max)",
                                    "1": "100",
                                    "2": "100",
                                    "3": "0",
                                    "4": "32767",
                                    "5": "Max number of full-text notifications buffers",
                                    "6": "1",
                                    "7": "1"
                                },
                                {
                                    "0": "ft notify bandwidth (min)",
                                    "1": "0",
                                    "2": "0",
                                    "3": "0",
                                    "4": "32767",
                                    "5": "Number of reserved full-text notifications buffers",
                                    "6": "1",
                                    "7": "1"
                                },
                                {
                                    "0": "hadoop connectivity",
                                    "1": "0",
                                    "2": "0",
                                    "3": "0",
                                    "4": "7",
                                    "5": "Configure SQL Server to connect to external Hadoop or Microsoft Azure storage blob data sources through PolyBase",
                                    "6": "0",
                                    "7": "0"
                                },
                                {
                                    "0": "index create memory (KB)",
                                    "1": "0",
                                    "2": "0",
                                    "3": "704",
                                    "4": "2147483647",
                                    "5": "Memory for index create sorts (kBytes)",
                                    "6": "1",
                                    "7": "1"
                                },
                                {
                                    "0": "in-doubt xact resolution",
                                    "1": "0",
                                    "2": "0",
                                    "3": "0",
                                    "4": "2",
                                    "5": "Recovery policy for DTC transactions with unknown outcome",
                                    "6": "1",
                                    "7": "1"
                                },
                                {
                                    "0": "lightweight pooling",
                                    "1": "0",
                                    "2": "0",
                                    "3": "0",
                                    "4": "1",
                                    "5": "User mode scheduler uses lightweight pooling",
                                    "6": "0",
                                    "7": "1"
                                },
                                {
                                    "0": "locks",
                                    "1": "0",
                                    "2": "0",
                                    "3": "5000",
                                    "4": "2147483647",
                                    "5": "Number of locks for all users",
                                    "6": "0",
                                    "7": "1"
                                },
                                {
                                    "0": "max degree of parallelism",
                                    "1": "0",
                                    "2": "0",
                                    "3": "0",
                                    "4": "32767",
                                    "5": "maximum degree of parallelism",
                                    "6": "1",
                                    "7": "1"
                                },
                                {
                                    "0": "max full-text crawl range",
                                    "1": "4",
                                    "2": "4",
                                    "3": "0",
                                    "4": "256",
                                    "5": "Maximum  crawl ranges allowed in full-text indexing",
                                    "6": "1",
                                    "7": "1"
                                },
                                {
                                    "0": "max server memory (MB)",
                                    "1": "2048",
                                    "2": "2048",
                                    "3": "128",
                                    "4": "2147483647",
                                    "5": "Maximum size of server memory (MB)",
                                    "6": "1",
                                    "7": "1"
                                },
                                {
                                    "0": "max text repl size (B)",
                                    "1": "65536",
                                    "2": "65536",
                                    "3": "-1",
                                    "4": "2147483647",
                                    "5": "Maximum size of a text field in replication.",
                                    "6": "1",
                                    "7": "0"
                                },
                                {
                                    "0": "max worker threads",
                                    "1": "0",
                                    "2": "0",
                                    "3": "128",
                                    "4": "65535",
                                    "5": "Maximum worker threads",
                                    "6": "1",
                                    "7": "1"
                                },
                                {
                                    "0": "media retention",
                                    "1": "0",
                                    "2": "0",
                                    "3": "0",
                                    "4": "365",
                                    "5": "Tape retention period in days",
                                    "6": "1",
                                    "7": "1"
                                },
                                {
                                    "0": "min memory per query (KB)",
                                    "1": "1024",
                                    "2": "1024",
                                    "3": "512",
                                    "4": "2147483647",
                                    "5": "minimum memory per query (kBytes)",
                                    "6": "1",
                                    "7": "1"
                                },
                                {
                                    "0": "min server memory (MB)",
                                    "1": "0",
                                    "2": "16",
                                    "3": "0",
                                    "4": "2147483647",
                                    "5": "Minimum size of server memory (MB)",
                                    "6": "1",
                                    "7": "1"
                                },
                                {
                                    "0": "nested triggers",
                                    "1": "1",
                                    "2": "1",
                                    "3": "0",
                                    "4": "1",
                                    "5": "Allow triggers to be invoked within triggers",
                                    "6": "1",
                                    "7": "0"
                                },
                                {
                                    "0": "network packet size (B)",
                                    "1": "4096",
                                    "2": "4096",
                                    "3": "512",
                                    "4": "32767",
                                    "5": "Network packet size",
                                    "6": "1",
                                    "7": "1"
                                },
                                {
                                    "0": "Ole Automation Procedures",
                                    "1": "0",
                                    "2": "0",
                                    "3": "0",
                                    "4": "1",
                                    "5": "Enable or disable Ole Automation Procedures",
                                    "6": "1",
                                    "7": "1"
                                },
                                {
                                    "0": "open objects",
                                    "1": "0",
                                    "2": "0",
                                    "3": "0",
                                    "4": "2147483647",
                                    "5": "Number of open database objects",
                                    "6": "0",
                                    "7": "1"
                                },
                                {
                                    "0": "optimize for ad hoc workloads",
                                    "1": "0",
                                    "2": "0",
                                    "3": "0",
                                    "4": "1",
                                    "5": "When this option is set, plan cache size is further reduced for single-use adhoc OLTP workload.",
                                    "6": "1",
                                    "7": "1"
                                },
                                {
                                    "0": "PH timeout (s)",
                                    "1": "60",
                                    "2": "60",
                                    "3": "1",
                                    "4": "3600",
                                    "5": "DB connection timeout for full-text protocol handler (s)",
                                    "6": "1",
                                    "7": "1"
                                },
                                {
                                    "0": "polybase network encryption",
                                    "1": "1",
                                    "2": "1",
                                    "3": "0",
                                    "4": "1",
                                    "5": "Configure SQL Server to encrypt control and data channels when using PolyBase",
                                    "6": "0",
                                    "7": "0"
                                },
                                {
                                    "0": "precompute rank",
                                    "1": "0",
                                    "2": "0",
                                    "3": "0",
                                    "4": "1",
                                    "5": "Use precomputed rank for full-text query",
                                    "6": "1",
                                    "7": "1"
                                },
                                {
                                    "0": "priority boost",
                                    "1": "0",
                                    "2": "0",
                                    "3": "0",
                                    "4": "1",
                                    "5": "Priority boost",
                                    "6": "0",
                                    "7": "1"
                                },
                                {
                                    "0": "query governor cost limit",
                                    "1": "0",
                                    "2": "0",
                                    "3": "0",
                                    "4": "2147483647",
                                    "5": "Maximum estimated cost allowed by query governor",
                                    "6": "1",
                                    "7": "1"
                                },
                                {
                                    "0": "query wait (s)",
                                    "1": "-1",
                                    "2": "-1",
                                    "3": "-1",
                                    "4": "2147483647",
                                    "5": "maximum time to wait for query memory (s)",
                                    "6": "1",
                                    "7": "1"
                                },
                                {
                                    "0": "recovery interval (min)",
                                    "1": "0",
                                    "2": "0",
                                    "3": "0",
                                    "4": "32767",
                                    "5": "Maximum recovery interval in minutes",
                                    "6": "1",
                                    "7": "1"
                                },
                                {
                                    "0": "remote access",
                                    "1": "1",
                                    "2": "1",
                                    "3": "0",
                                    "4": "1",
                                    "5": "Allow remote access",
                                    "6": "0",
                                    "7": "0"
                                },
                                {
                                    "0": "remote admin connections",
                                    "1": "0",
                                    "2": "0",
                                    "3": "0",
                                    "4": "1",
                                    "5": "Dedicated Admin Connections are allowed from remote clients",
                                    "6": "1",
                                    "7": "0"
                                },
                                {
                                    "0": "remote data archive",
                                    "1": "0",
                                    "2": "0",
                                    "3": "0",
                                    "4": "1",
                                    "5": "Allow the use of the REMOTE_DATA_ARCHIVE data access for databases",
                                    "6": "1",
                                    "7": "0"
                                },
                                {
                                    "0": "remote login timeout (s)",
                                    "1": "10",
                                    "2": "10",
                                    "3": "0",
                                    "4": "2147483647",
                                    "5": "remote login timeout",
                                    "6": "1",
                                    "7": "0"
                                },
                                {
                                    "0": "remote proc trans",
                                    "1": "0",
                                    "2": "0",
                                    "3": "0",
                                    "4": "1",
                                    "5": "Create DTC transaction for remote procedures",
                                    "6": "1",
                                    "7": "0"
                                },
                                {
                                    "0": "remote query timeout (s)",
                                    "1": "600",
                                    "2": "600",
                                    "3": "0",
                                    "4": "2147483647",
                                    "5": "remote query timeout",
                                    "6": "1",
                                    "7": "0"
                                },
                                {
                                    "0": "Replication XPs",
                                    "1": "0",
                                    "2": "0",
                                    "3": "0",
                                    "4": "1",
                                    "5": "Enable or disable Replication XPs",
                                    "6": "1",
                                    "7": "1"
                                },
                                {
                                    "0": "scan for startup procs",
                                    "1": "1",
                                    "2": "1",
                                    "3": "0",
                                    "4": "1",
                                    "5": "scan for startup stored procedures",
                                    "6": "0",
                                    "7": "1"
                                },
                                {
                                    "0": "server trigger recursion",
                                    "1": "1",
                                    "2": "1",
                                    "3": "0",
                                    "4": "1",
                                    "5": "Allow recursion for server level triggers",
                                    "6": "1",
                                    "7": "0"
                                },
                                {
                                    "0": "set working set size",
                                    "1": "0",
                                    "2": "0",
                                    "3": "0",
                                    "4": "1",
                                    "5": "set working set size",
                                    "6": "0",
                                    "7": "1"
                                },
                                {
                                    "0": "show advanced options",
                                    "1": "0",
                                    "2": "0",
                                    "3": "0",
                                    "4": "1",
                                    "5": "show advanced options",
                                    "6": "1",
                                    "7": "0"
                                },
                                {
                                    "0": "SMO and DMO XPs",
                                    "1": "1",
                                    "2": "1",
                                    "3": "0",
                                    "4": "1",
                                    "5": "Enable or disable SMO and DMO XPs",
                                    "6": "1",
                                    "7": "1"
                                },
                                {
                                    "0": "transform noise words",
                                    "1": "0",
                                    "2": "0",
                                    "3": "0",
                                    "4": "1",
                                    "5": "Transform noise words for full-text query",
                                    "6": "1",
                                    "7": "1"
                                },
                                {
                                    "0": "two digit year cutoff",
                                    "1": "2049",
                                    "2": "2049",
                                    "3": "1753",
                                    "4": "9999",
                                    "5": "two digit year cutoff",
                                    "6": "1",
                                    "7": "1"
                                },
                                {
                                    "0": "user connections",
                                    "1": "0",
                                    "2": "0",
                                    "3": "0",
                                    "4": "32767",
                                    "5": "Number of user connections allowed",
                                    "6": "0",
                                    "7": "1"
                                },
                                {
                                    "0": "user options",
                                    "1": "0",
                                    "2": "0",
                                    "3": "0",
                                    "4": "32767",
                                    "5": "user options",
                                    "6": "1",
                                    "7": "0"
                                },
                                {
                                    "0": "xp_cmdshell",
                                    "1": "0",
                                    "2": "0",
                                    "3": "0",
                                    "4": "1",
                                    "5": "Enable or disable command shell",
                                    "6": "1",
                                    "7": "1"
                                }
                            ]
                        },
                        "text/html": "<table><tr><th>name</th><th>value</th><th>value_in_use</th><th>minimum</th><th>maximum</th><th>description</th><th>is_dynamic</th><th>is_advanced</th></tr><tr><td>access check cache bucket count</td><td>0</td><td>0</td><td>0</td><td>65536</td><td>Default hash bucket count for the access check result security cache</td><td>1</td><td>1</td></tr><tr><td>access check cache quota</td><td>0</td><td>0</td><td>0</td><td>2147483647</td><td>Default quota for the access check result security cache</td><td>1</td><td>1</td></tr><tr><td>Ad Hoc Distributed Queries</td><td>0</td><td>0</td><td>0</td><td>1</td><td>Enable or disable Ad Hoc Distributed Queries</td><td>1</td><td>1</td></tr><tr><td>affinity I/O mask</td><td>0</td><td>0</td><td>-2147483648</td><td>2147483647</td><td>affinity I/O mask</td><td>0</td><td>1</td></tr><tr><td>affinity mask</td><td>8</td><td>8</td><td>-2147483648</td><td>2147483647</td><td>affinity mask</td><td>1</td><td>1</td></tr><tr><td>affinity64 I/O mask</td><td>0</td><td>0</td><td>-2147483648</td><td>2147483647</td><td>affinity64 I/O mask</td><td>0</td><td>1</td></tr><tr><td>affinity64 mask</td><td>0</td><td>0</td><td>-2147483648</td><td>2147483647</td><td>affinity64 mask</td><td>1</td><td>1</td></tr><tr><td>Agent XPs</td><td>1</td><td>1</td><td>0</td><td>1</td><td>Enable or disable Agent XPs</td><td>1</td><td>1</td></tr><tr><td>allow polybase export</td><td>0</td><td>0</td><td>0</td><td>1</td><td>Allow INSERT into a Hadoop external table</td><td>1</td><td>0</td></tr><tr><td>allow updates</td><td>0</td><td>0</td><td>0</td><td>1</td><td>Allow updates to system tables</td><td>1</td><td>0</td></tr><tr><td>automatic soft-NUMA disabled</td><td>0</td><td>0</td><td>0</td><td>1</td><td>Automatic soft-NUMA is enabled by default</td><td>0</td><td>1</td></tr><tr><td>backup checksum default</td><td>0</td><td>0</td><td>0</td><td>1</td><td>Enable checksum of backups by default</td><td>1</td><td>0</td></tr><tr><td>backup compression default</td><td>0</td><td>0</td><td>0</td><td>1</td><td>Enable compression of backups by default</td><td>1</td><td>0</td></tr><tr><td>blocked process threshold (s)</td><td>0</td><td>0</td><td>0</td><td>86400</td><td>Blocked process reporting threshold</td><td>1</td><td>1</td></tr><tr><td>c2 audit mode</td><td>0</td><td>0</td><td>0</td><td>1</td><td>c2 audit mode</td><td>0</td><td>1</td></tr><tr><td>clr enabled</td><td>1</td><td>1</td><td>0</td><td>1</td><td>CLR user code execution enabled in the server</td><td>1</td><td>0</td></tr><tr><td>clr strict security</td><td>1</td><td>1</td><td>0</td><td>1</td><td>CLR strict security enabled in the server</td><td>1</td><td>1</td></tr><tr><td>common criteria compliance enabled</td><td>0</td><td>0</td><td>0</td><td>1</td><td>Common Criteria compliance mode enabled</td><td>0</td><td>1</td></tr><tr><td>contained database authentication</td><td>0</td><td>0</td><td>0</td><td>1</td><td>Enables contained databases and contained authentication</td><td>1</td><td>0</td></tr><tr><td>cost threshold for parallelism</td><td>5</td><td>5</td><td>0</td><td>32767</td><td>cost threshold for parallelism</td><td>1</td><td>1</td></tr><tr><td>cross db ownership chaining</td><td>0</td><td>0</td><td>0</td><td>1</td><td>Allow cross db ownership chaining</td><td>1</td><td>0</td></tr><tr><td>cursor threshold</td><td>-1</td><td>-1</td><td>-1</td><td>2147483647</td><td>cursor threshold</td><td>1</td><td>1</td></tr><tr><td>Database Mail XPs</td><td>0</td><td>0</td><td>0</td><td>1</td><td>Enable or disable Database Mail XPs</td><td>1</td><td>1</td></tr><tr><td>default full-text language</td><td>1033</td><td>1033</td><td>0</td><td>2147483647</td><td>default full-text language</td><td>1</td><td>1</td></tr><tr><td>default language</td><td>0</td><td>0</td><td>0</td><td>9999</td><td>default language</td><td>1</td><td>0</td></tr><tr><td>default trace enabled</td><td>1</td><td>1</td><td>0</td><td>1</td><td>Enable or disable the default trace</td><td>1</td><td>1</td></tr><tr><td>disallow results from triggers</td><td>0</td><td>0</td><td>0</td><td>1</td><td>Disallow returning results from triggers</td><td>1</td><td>1</td></tr><tr><td>EKM provider enabled</td><td>0</td><td>0</td><td>0</td><td>1</td><td>Enable or disable EKM provider</td><td>1</td><td>1</td></tr><tr><td>external scripts enabled</td><td>0</td><td>0</td><td>0</td><td>1</td><td>Allows execution of external scripts</td><td>0</td><td>0</td></tr><tr><td>filestream access level</td><td>0</td><td>0</td><td>0</td><td>2</td><td>Sets the FILESTREAM access level</td><td>1</td><td>0</td></tr><tr><td>fill factor (%)</td><td>0</td><td>0</td><td>0</td><td>100</td><td>Default fill factor percentage</td><td>0</td><td>1</td></tr><tr><td>ft crawl bandwidth (max)</td><td>100</td><td>100</td><td>0</td><td>32767</td><td>Max number of full-text crawl buffers</td><td>1</td><td>1</td></tr><tr><td>ft crawl bandwidth (min)</td><td>0</td><td>0</td><td>0</td><td>32767</td><td>Number of reserved full-text crawl buffers</td><td>1</td><td>1</td></tr><tr><td>ft notify bandwidth (max)</td><td>100</td><td>100</td><td>0</td><td>32767</td><td>Max number of full-text notifications buffers</td><td>1</td><td>1</td></tr><tr><td>ft notify bandwidth (min)</td><td>0</td><td>0</td><td>0</td><td>32767</td><td>Number of reserved full-text notifications buffers</td><td>1</td><td>1</td></tr><tr><td>hadoop connectivity</td><td>0</td><td>0</td><td>0</td><td>7</td><td>Configure SQL Server to connect to external Hadoop or Microsoft Azure storage blob data sources through PolyBase</td><td>0</td><td>0</td></tr><tr><td>index create memory (KB)</td><td>0</td><td>0</td><td>704</td><td>2147483647</td><td>Memory for index create sorts (kBytes)</td><td>1</td><td>1</td></tr><tr><td>in-doubt xact resolution</td><td>0</td><td>0</td><td>0</td><td>2</td><td>Recovery policy for DTC transactions with unknown outcome</td><td>1</td><td>1</td></tr><tr><td>lightweight pooling</td><td>0</td><td>0</td><td>0</td><td>1</td><td>User mode scheduler uses lightweight pooling</td><td>0</td><td>1</td></tr><tr><td>locks</td><td>0</td><td>0</td><td>5000</td><td>2147483647</td><td>Number of locks for all users</td><td>0</td><td>1</td></tr><tr><td>max degree of parallelism</td><td>0</td><td>0</td><td>0</td><td>32767</td><td>maximum degree of parallelism</td><td>1</td><td>1</td></tr><tr><td>max full-text crawl range</td><td>4</td><td>4</td><td>0</td><td>256</td><td>Maximum  crawl ranges allowed in full-text indexing</td><td>1</td><td>1</td></tr><tr><td>max server memory (MB)</td><td>2048</td><td>2048</td><td>128</td><td>2147483647</td><td>Maximum size of server memory (MB)</td><td>1</td><td>1</td></tr><tr><td>max text repl size (B)</td><td>65536</td><td>65536</td><td>-1</td><td>2147483647</td><td>Maximum size of a text field in replication.</td><td>1</td><td>0</td></tr><tr><td>max worker threads</td><td>0</td><td>0</td><td>128</td><td>65535</td><td>Maximum worker threads</td><td>1</td><td>1</td></tr><tr><td>media retention</td><td>0</td><td>0</td><td>0</td><td>365</td><td>Tape retention period in days</td><td>1</td><td>1</td></tr><tr><td>min memory per query (KB)</td><td>1024</td><td>1024</td><td>512</td><td>2147483647</td><td>minimum memory per query (kBytes)</td><td>1</td><td>1</td></tr><tr><td>min server memory (MB)</td><td>0</td><td>16</td><td>0</td><td>2147483647</td><td>Minimum size of server memory (MB)</td><td>1</td><td>1</td></tr><tr><td>nested triggers</td><td>1</td><td>1</td><td>0</td><td>1</td><td>Allow triggers to be invoked within triggers</td><td>1</td><td>0</td></tr><tr><td>network packet size (B)</td><td>4096</td><td>4096</td><td>512</td><td>32767</td><td>Network packet size</td><td>1</td><td>1</td></tr><tr><td>Ole Automation Procedures</td><td>0</td><td>0</td><td>0</td><td>1</td><td>Enable or disable Ole Automation Procedures</td><td>1</td><td>1</td></tr><tr><td>open objects</td><td>0</td><td>0</td><td>0</td><td>2147483647</td><td>Number of open database objects</td><td>0</td><td>1</td></tr><tr><td>optimize for ad hoc workloads</td><td>0</td><td>0</td><td>0</td><td>1</td><td>When this option is set, plan cache size is further reduced for single-use adhoc OLTP workload.</td><td>1</td><td>1</td></tr><tr><td>PH timeout (s)</td><td>60</td><td>60</td><td>1</td><td>3600</td><td>DB connection timeout for full-text protocol handler (s)</td><td>1</td><td>1</td></tr><tr><td>polybase network encryption</td><td>1</td><td>1</td><td>0</td><td>1</td><td>Configure SQL Server to encrypt control and data channels when using PolyBase</td><td>0</td><td>0</td></tr><tr><td>precompute rank</td><td>0</td><td>0</td><td>0</td><td>1</td><td>Use precomputed rank for full-text query</td><td>1</td><td>1</td></tr><tr><td>priority boost</td><td>0</td><td>0</td><td>0</td><td>1</td><td>Priority boost</td><td>0</td><td>1</td></tr><tr><td>query governor cost limit</td><td>0</td><td>0</td><td>0</td><td>2147483647</td><td>Maximum estimated cost allowed by query governor</td><td>1</td><td>1</td></tr><tr><td>query wait (s)</td><td>-1</td><td>-1</td><td>-1</td><td>2147483647</td><td>maximum time to wait for query memory (s)</td><td>1</td><td>1</td></tr><tr><td>recovery interval (min)</td><td>0</td><td>0</td><td>0</td><td>32767</td><td>Maximum recovery interval in minutes</td><td>1</td><td>1</td></tr><tr><td>remote access</td><td>1</td><td>1</td><td>0</td><td>1</td><td>Allow remote access</td><td>0</td><td>0</td></tr><tr><td>remote admin connections</td><td>0</td><td>0</td><td>0</td><td>1</td><td>Dedicated Admin Connections are allowed from remote clients</td><td>1</td><td>0</td></tr><tr><td>remote data archive</td><td>0</td><td>0</td><td>0</td><td>1</td><td>Allow the use of the REMOTE_DATA_ARCHIVE data access for databases</td><td>1</td><td>0</td></tr><tr><td>remote login timeout (s)</td><td>10</td><td>10</td><td>0</td><td>2147483647</td><td>remote login timeout</td><td>1</td><td>0</td></tr><tr><td>remote proc trans</td><td>0</td><td>0</td><td>0</td><td>1</td><td>Create DTC transaction for remote procedures</td><td>1</td><td>0</td></tr><tr><td>remote query timeout (s)</td><td>600</td><td>600</td><td>0</td><td>2147483647</td><td>remote query timeout</td><td>1</td><td>0</td></tr><tr><td>Replication XPs</td><td>0</td><td>0</td><td>0</td><td>1</td><td>Enable or disable Replication XPs</td><td>1</td><td>1</td></tr><tr><td>scan for startup procs</td><td>1</td><td>1</td><td>0</td><td>1</td><td>scan for startup stored procedures</td><td>0</td><td>1</td></tr><tr><td>server trigger recursion</td><td>1</td><td>1</td><td>0</td><td>1</td><td>Allow recursion for server level triggers</td><td>1</td><td>0</td></tr><tr><td>set working set size</td><td>0</td><td>0</td><td>0</td><td>1</td><td>set working set size</td><td>0</td><td>1</td></tr><tr><td>show advanced options</td><td>0</td><td>0</td><td>0</td><td>1</td><td>show advanced options</td><td>1</td><td>0</td></tr><tr><td>SMO and DMO XPs</td><td>1</td><td>1</td><td>0</td><td>1</td><td>Enable or disable SMO and DMO XPs</td><td>1</td><td>1</td></tr><tr><td>transform noise words</td><td>0</td><td>0</td><td>0</td><td>1</td><td>Transform noise words for full-text query</td><td>1</td><td>1</td></tr><tr><td>two digit year cutoff</td><td>2049</td><td>2049</td><td>1753</td><td>9999</td><td>two digit year cutoff</td><td>1</td><td>1</td></tr><tr><td>user connections</td><td>0</td><td>0</td><td>0</td><td>32767</td><td>Number of user connections allowed</td><td>0</td><td>1</td></tr><tr><td>user options</td><td>0</td><td>0</td><td>0</td><td>32767</td><td>user options</td><td>1</td><td>0</td></tr><tr><td>xp_cmdshell</td><td>0</td><td>0</td><td>0</td><td>1</td><td>Enable or disable command shell</td><td>1</td><td>1</td></tr></table>"
                    }
                }
            ],
            "execution_count": 3
        },
        {
            "cell_type": "markdown",
            "source": [
                "## Global Trace Flags\n",
                "\n",
                "Returns a list of all global trace flags that are enabled"
            ],
            "metadata": {
                "azdata_cell_guid": "06161674-a30f-4872-8ca0-e42387ee9c57"
            }
        },
        {
            "cell_type": "code",
            "source": [
                "DBCC TRACESTATUS (-1);\n",
                ""
            ],
            "metadata": {
                "azdata_cell_guid": "f9130842-c288-4b2c-ba26-475c6d717dc6"
            },
            "outputs": [
                {
                    "output_type": "display_data",
                    "data": {
                        "text/html": "DBCC execution completed. If DBCC printed error messages, contact your system administrator."
                    },
                    "metadata": {}
                },
                {
                    "output_type": "display_data",
                    "data": {
                        "text/html": "Total execution time: 00:00:00.034"
                    },
                    "metadata": {}
                }
            ],
            "execution_count": 4
        },
        {
            "cell_type": "markdown",
            "source": [
                "## IFI Status\n",
                "\n",
                "Returns status of instant file initialization"
            ],
            "metadata": {
                "azdata_cell_guid": "aded5778-9011-44d0-8912-8f09b6f0fcc9"
            }
        },
        {
            "cell_type": "code",
            "source": [
                "EXEC sys.xp_readerrorlog 0, 1, N'Database Instant File Initialization';\n",
                ""
            ],
            "metadata": {
                "azdata_cell_guid": "88863fbf-a464-4686-b3d3-7c9ea9cc62a9"
            },
            "outputs": [
                {
                    "output_type": "display_data",
                    "data": {
                        "text/html": "(1 row affected)"
                    },
                    "metadata": {}
                },
                {
                    "output_type": "display_data",
                    "data": {
                        "text/html": "Total execution time: 00:00:01.110"
                    },
                    "metadata": {}
                },
                {
                    "output_type": "execute_result",
                    "metadata": {},
                    "execution_count": 5,
                    "data": {
                        "application/vnd.dataresource+json": {
                            "schema": {
                                "fields": [
                                    {
                                        "name": "LogDate"
                                    },
                                    {
                                        "name": "ProcessInfo"
                                    },
                                    {
                                        "name": "Text"
                                    }
                                ]
                            },
                            "data": [
                                {
                                    "0": "2020-01-27 09:50:41.300",
                                    "1": "Server",
                                    "2": "Database Instant File Initialization: disabled. For security and performance considerations see the topic 'Database Instant File Initialization' in SQL Server Books Online. This is an informational message only. No user action is required."
                                }
                            ]
                        },
                        "text/html": "<table><tr><th>LogDate</th><th>ProcessInfo</th><th>Text</th></tr><tr><td>2020-01-27 09:50:41.300</td><td>Server</td><td>Database Instant File Initialization: disabled. For security and performance considerations see the topic 'Database Instant File Initialization' in SQL Server Books Online. This is an informational message only. No user action is required.</td></tr></table>"
                    }
                }
            ],
            "execution_count": 5
        },
        {
            "cell_type": "markdown",
            "source": [
                "## Process Memory\n",
                "\n",
                "SQL Server Process Address space info "
            ],
            "metadata": {
                "azdata_cell_guid": "7bf3710f-2f57-4667-b708-6a6192f14322"
            }
        },
        {
            "cell_type": "code",
            "source": [
                "SELECT physical_memory_in_use_kb/1024 AS [SQL Server Memory Usage (MB)],\n",
                "\t   locked_page_allocations_kb/1024 AS [SQL Server Locked Pages Allocation (MB)],\n",
                "       large_page_allocations_kb/1024 AS [SQL Server Large Pages Allocation (MB)], \n",
                "\t   page_fault_count, memory_utilization_percentage, available_commit_limit_kb, \n",
                "\t   process_physical_memory_low, process_virtual_memory_low\n",
                "FROM sys.dm_os_process_memory WITH (NOLOCK) OPTION (RECOMPILE);\n",
                ""
            ],
            "metadata": {
                "azdata_cell_guid": "01d5c283-2d6a-4b25-8671-5c1ee06f6fc7"
            },
            "outputs": [
                {
                    "output_type": "display_data",
                    "data": {
                        "text/html": "(1 row affected)"
                    },
                    "metadata": {}
                },
                {
                    "output_type": "display_data",
                    "data": {
                        "text/html": "Total execution time: 00:00:00.048"
                    },
                    "metadata": {}
                },
                {
                    "output_type": "execute_result",
                    "metadata": {},
                    "execution_count": 6,
                    "data": {
                        "application/vnd.dataresource+json": {
                            "schema": {
                                "fields": [
                                    {
                                        "name": "SQL Server Memory Usage (MB)"
                                    },
                                    {
                                        "name": "SQL Server Locked Pages Allocation (MB)"
                                    },
                                    {
                                        "name": "SQL Server Large Pages Allocation (MB)"
                                    },
                                    {
                                        "name": "page_fault_count"
                                    },
                                    {
                                        "name": "memory_utilization_percentage"
                                    },
                                    {
                                        "name": "available_commit_limit_kb"
                                    },
                                    {
                                        "name": "process_physical_memory_low"
                                    },
                                    {
                                        "name": "process_virtual_memory_low"
                                    }
                                ]
                            },
                            "data": [
                                {
                                    "0": "382",
                                    "1": "0",
                                    "2": "0",
                                    "3": "386497",
                                    "4": "84",
                                    "5": "2977276",
                                    "6": "0",
                                    "7": "0"
                                }
                            ]
                        },
                        "text/html": "<table><tr><th>SQL Server Memory Usage (MB)</th><th>SQL Server Locked Pages Allocation (MB)</th><th>SQL Server Large Pages Allocation (MB)</th><th>page_fault_count</th><th>memory_utilization_percentage</th><th>available_commit_limit_kb</th><th>process_physical_memory_low</th><th>process_virtual_memory_low</th></tr><tr><td>382</td><td>0</td><td>0</td><td>386497</td><td>84</td><td>2977276</td><td>0</td><td>0</td></tr></table>"
                    }
                }
            ],
            "execution_count": 6
        },
        {
            "cell_type": "markdown",
            "source": [
                "## SQL Server Services Info\n",
                "\n",
                "SQL Server Services information"
            ],
            "metadata": {
                "azdata_cell_guid": "69579871-e679-4905-9fdd-277ba40986a2"
            }
        },
        {
            "cell_type": "code",
            "source": [
                "SELECT servicename, process_id, startup_type_desc, status_desc, \n",
                "last_startup_time, service_account, is_clustered, cluster_nodename, [filename], \n",
                "instant_file_initialization_enabled\n",
                "FROM sys.dm_server_services WITH (NOLOCK) OPTION (RECOMPILE);\n",
                ""
            ],
            "metadata": {
                "azdata_cell_guid": "145518e6-37f2-4356-91da-9de79e021ded"
            },
            "outputs": [
                {
                    "output_type": "display_data",
                    "data": {
                        "text/html": "(2 rows affected)"
                    },
                    "metadata": {}
                },
                {
                    "output_type": "display_data",
                    "data": {
                        "text/html": "Total execution time: 00:00:00.069"
                    },
                    "metadata": {}
                },
                {
                    "output_type": "execute_result",
                    "metadata": {},
                    "execution_count": 7,
                    "data": {
                        "application/vnd.dataresource+json": {
                            "schema": {
                                "fields": [
                                    {
                                        "name": "servicename"
                                    },
                                    {
                                        "name": "process_id"
                                    },
                                    {
                                        "name": "startup_type_desc"
                                    },
                                    {
                                        "name": "status_desc"
                                    },
                                    {
                                        "name": "last_startup_time"
                                    },
                                    {
                                        "name": "service_account"
                                    },
                                    {
                                        "name": "is_clustered"
                                    },
                                    {
                                        "name": "cluster_nodename"
                                    },
                                    {
                                        "name": "filename"
                                    },
                                    {
                                        "name": "instant_file_initialization_enabled"
                                    }
                                ]
                            },
                            "data": [
                                {
                                    "0": "SQL Server (MSSQLSERVER)",
                                    "1": "19188",
                                    "2": "Manual",
                                    "3": "Running",
                                    "4": "2020-01-27 09:50:39.2027283 +01:00",
                                    "5": "NT Service\\MSSQLSERVER",
                                    "6": "N",
                                    "7": "NULL",
                                    "8": "\"C:\\Program Files\\Microsoft SQL Server\\MSSQL14.MSSQLSERVER\\MSSQL\\Binn\\sqlservr.exe\" -sMSSQLSERVER",
                                    "9": "N"
                                },
                                {
                                    "0": "SQL Server Agent (MSSQLSERVER)",
                                    "1": "10904",
                                    "2": "Manual",
                                    "3": "Running",
                                    "4": "NULL",
                                    "5": "NT Service\\SQLSERVERAGENT",
                                    "6": "N",
                                    "7": "NULL",
                                    "8": "\"C:\\Program Files\\Microsoft SQL Server\\MSSQL14.MSSQLSERVER\\MSSQL\\Binn\\SQLAGENT.EXE\" -i MSSQLSERVER",
                                    "9": "N"
                                }
                            ]
                        },
                        "text/html": "<table><tr><th>servicename</th><th>process_id</th><th>startup_type_desc</th><th>status_desc</th><th>last_startup_time</th><th>service_account</th><th>is_clustered</th><th>cluster_nodename</th><th>filename</th><th>instant_file_initialization_enabled</th></tr><tr><td>SQL Server (MSSQLSERVER)</td><td>19188</td><td>Manual</td><td>Running</td><td>2020-01-27 09:50:39.2027283 +01:00</td><td>NT Service\\MSSQLSERVER</td><td>N</td><td>NULL</td><td>&quot;C:\\Program Files\\Microsoft SQL Server\\MSSQL14.MSSQLSERVER\\MSSQL\\Binn\\sqlservr.exe&quot; -sMSSQLSERVER</td><td>N</td></tr><tr><td>SQL Server Agent (MSSQLSERVER)</td><td>10904</td><td>Manual</td><td>Running</td><td>NULL</td><td>NT Service\\SQLSERVERAGENT</td><td>N</td><td>NULL</td><td>&quot;C:\\Program Files\\Microsoft SQL Server\\MSSQL14.MSSQLSERVER\\MSSQL\\Binn\\SQLAGENT.EXE&quot; -i MSSQLSERVER</td><td>N</td></tr></table>"
                    }
                }
            ],
            "execution_count": 7
        },
        {
            "cell_type": "markdown",
            "source": [
                "## Last Backup By Database\n",
                "\n",
                "Last backup information by database "
            ],
            "metadata": {
                "azdata_cell_guid": "e77cc46c-926a-4138-95bd-54824e439332"
            }
        },
        {
            "cell_type": "code",
            "source": [
                "SELECT ISNULL(d.[name], bs.[database_name]) AS [Database], d.recovery_model_desc AS [Recovery Model], \n",
                "       d.log_reuse_wait_desc AS [Log Reuse Wait Desc],\n",
                "    MAX(CASE WHEN [type] = 'D' THEN bs.backup_finish_date ELSE NULL END) AS [Last Full Backup],\n",
                "    MAX(CASE WHEN [type] = 'I' THEN bs.backup_finish_date ELSE NULL END) AS [Last Differential Backup],\n",
                "    MAX(CASE WHEN [type] = 'L' THEN bs.backup_finish_date ELSE NULL END) AS [Last Log Backup]\n",
                "FROM sys.databases AS d WITH (NOLOCK)\n",
                "LEFT OUTER JOIN msdb.dbo.backupset AS bs WITH (NOLOCK)\n",
                "ON bs.[database_name] = d.[name] \n",
                "AND bs.backup_finish_date > GETDATE()- 30\n",
                "WHERE d.name <> N'tempdb'\n",
                "GROUP BY ISNULL(d.[name], bs.[database_name]), d.recovery_model_desc, d.log_reuse_wait_desc, d.[name] \n",
                "ORDER BY d.recovery_model_desc, d.[name] OPTION (RECOMPILE);\n",
                ""
            ],
            "metadata": {
                "azdata_cell_guid": "37c2d8c6-a573-40ce-a763-599b9dd71e29"
            },
            "outputs": [
                {
                    "output_type": "display_data",
                    "data": {
                        "text/html": "Warning: Null value is eliminated by an aggregate or other SET operation."
                    },
                    "metadata": {}
                },
                {
                    "output_type": "display_data",
                    "data": {
                        "text/html": "(5 rows affected)"
                    },
                    "metadata": {}
                },
                {
                    "output_type": "display_data",
                    "data": {
                        "text/html": "Total execution time: 00:00:00.121"
                    },
                    "metadata": {}
                },
                {
                    "output_type": "execute_result",
                    "metadata": {},
                    "execution_count": 8,
                    "data": {
                        "application/vnd.dataresource+json": {
                            "schema": {
                                "fields": [
                                    {
                                        "name": "Database"
                                    },
                                    {
                                        "name": "Recovery Model"
                                    },
                                    {
                                        "name": "Log Reuse Wait Desc"
                                    },
                                    {
                                        "name": "Last Full Backup"
                                    },
                                    {
                                        "name": "Last Differential Backup"
                                    },
                                    {
                                        "name": "Last Log Backup"
                                    }
                                ]
                            },
                            "data": [
                                {
                                    "0": "model",
                                    "1": "FULL",
                                    "2": "NOTHING",
                                    "3": "NULL",
                                    "4": "NULL",
                                    "5": "NULL"
                                },
                                {
                                    "0": "SSISDB",
                                    "1": "FULL",
                                    "2": "LOG_BACKUP",
                                    "3": "NULL",
                                    "4": "NULL",
                                    "5": "NULL"
                                },
                                {
                                    "0": "master",
                                    "1": "SIMPLE",
                                    "2": "NOTHING",
                                    "3": "NULL",
                                    "4": "NULL",
                                    "5": "NULL"
                                },
                                {
                                    "0": "mdw",
                                    "1": "SIMPLE",
                                    "2": "OLDEST_PAGE",
                                    "3": "NULL",
                                    "4": "NULL",
                                    "5": "NULL"
                                },
                                {
                                    "0": "msdb",
                                    "1": "SIMPLE",
                                    "2": "NOTHING",
                                    "3": "NULL",
                                    "4": "NULL",
                                    "5": "NULL"
                                }
                            ]
                        },
                        "text/html": "<table><tr><th>Database</th><th>Recovery Model</th><th>Log Reuse Wait Desc</th><th>Last Full Backup</th><th>Last Differential Backup</th><th>Last Log Backup</th></tr><tr><td>model</td><td>FULL</td><td>NOTHING</td><td>NULL</td><td>NULL</td><td>NULL</td></tr><tr><td>SSISDB</td><td>FULL</td><td>LOG_BACKUP</td><td>NULL</td><td>NULL</td><td>NULL</td></tr><tr><td>master</td><td>SIMPLE</td><td>NOTHING</td><td>NULL</td><td>NULL</td><td>NULL</td></tr><tr><td>mdw</td><td>SIMPLE</td><td>OLDEST_PAGE</td><td>NULL</td><td>NULL</td><td>NULL</td></tr><tr><td>msdb</td><td>SIMPLE</td><td>NOTHING</td><td>NULL</td><td>NULL</td><td>NULL</td></tr></table>"
                    }
                }
            ],
            "execution_count": 8
        },
        {
            "cell_type": "markdown",
            "source": [
                "## SQL Server Agent Jobs\n",
                "\n",
                "Get SQL Server Agent jobs and Category information"
            ],
            "metadata": {
                "azdata_cell_guid": "e4f6a70a-3dd7-4e28-adc3-0aa1df1a8bee"
            }
        },
        {
            "cell_type": "code",
            "source": [
                "SELECT sj.name AS [Job Name], sj.[description] AS [Job Description], SUSER_SNAME(sj.owner_sid) AS [Job Owner],\n",
                "sj.date_created AS [Date Created], sj.[enabled] AS [Job Enabled], \n",
                "sj.notify_email_operator_id, sj.notify_level_email, sc.name AS [CategoryName],\n",
                "s.[enabled] AS [Sched Enabled], js.next_run_date, js.next_run_time\n",
                "FROM msdb.dbo.sysjobs AS sj WITH (NOLOCK)\n",
                "INNER JOIN msdb.dbo.syscategories AS sc WITH (NOLOCK)\n",
                "ON sj.category_id = sc.category_id\n",
                "LEFT OUTER JOIN msdb.dbo.sysjobschedules AS js WITH (NOLOCK)\n",
                "ON sj.job_id = js.job_id\n",
                "LEFT OUTER JOIN msdb.dbo.sysschedules AS s WITH (NOLOCK)\n",
                "ON js.schedule_id = s.schedule_id\n",
                "ORDER BY sj.name OPTION (RECOMPILE);\n",
                ""
            ],
            "metadata": {
                "azdata_cell_guid": "b37fb5ed-da7e-4fad-9511-b39638f8d706"
            },
            "outputs": [
                {
                    "output_type": "display_data",
                    "data": {
                        "text/html": "(17 rows affected)"
                    },
                    "metadata": {}
                },
                {
                    "output_type": "display_data",
                    "data": {
                        "text/html": "Total execution time: 00:00:01.483"
                    },
                    "metadata": {}
                },
                {
                    "output_type": "execute_result",
                    "metadata": {},
                    "execution_count": 9,
                    "data": {
                        "application/vnd.dataresource+json": {
                            "schema": {
                                "fields": [
                                    {
                                        "name": "Job Name"
                                    },
                                    {
                                        "name": "Job Description"
                                    },
                                    {
                                        "name": "Job Owner"
                                    },
                                    {
                                        "name": "Date Created"
                                    },
                                    {
                                        "name": "Job Enabled"
                                    },
                                    {
                                        "name": "notify_email_operator_id"
                                    },
                                    {
                                        "name": "notify_level_email"
                                    },
                                    {
                                        "name": "CategoryName"
                                    },
                                    {
                                        "name": "Sched Enabled"
                                    },
                                    {
                                        "name": "next_run_date"
                                    },
                                    {
                                        "name": "next_run_time"
                                    }
                                ]
                            },
                            "data": [
                                {
                                    "0": "collection_set_1_noncached_collect_and_upload",
                                    "1": "Data Collector job for collection set [Disk Usage]",
                                    "2": "sa",
                                    "3": "2018-12-12 15:52:21.147",
                                    "4": "1",
                                    "5": "0",
                                    "6": "0",
                                    "7": "Data Collector",
                                    "8": "1",
                                    "9": "20200127",
                                    "10": "120000"
                                },
                                {
                                    "0": "collection_set_2_collection",
                                    "1": "No description available.",
                                    "2": "sa",
                                    "3": "2018-12-12 15:52:21.430",
                                    "4": "1",
                                    "5": "0",
                                    "6": "0",
                                    "7": "Data Collector",
                                    "8": "1",
                                    "9": "0",
                                    "10": "0"
                                },
                                {
                                    "0": "collection_set_2_upload",
                                    "1": "No description available.",
                                    "2": "sa",
                                    "3": "2018-12-12 15:52:21.423",
                                    "4": "1",
                                    "5": "0",
                                    "6": "0",
                                    "7": "Data Collector",
                                    "8": "1",
                                    "9": "20200127",
                                    "10": "104500"
                                },
                                {
                                    "0": "collection_set_3_collection",
                                    "1": "No description available.",
                                    "2": "sa",
                                    "3": "2018-12-12 15:52:21.403",
                                    "4": "1",
                                    "5": "0",
                                    "6": "0",
                                    "7": "Data Collector",
                                    "8": "1",
                                    "9": "0",
                                    "10": "0"
                                },
                                {
                                    "0": "collection_set_3_upload",
                                    "1": "No description available.",
                                    "2": "sa",
                                    "3": "2018-12-12 15:52:21.397",
                                    "4": "1",
                                    "5": "0",
                                    "6": "0",
                                    "7": "Data Collector",
                                    "8": "1",
                                    "9": "20200127",
                                    "10": "104500"
                                },
                                {
                                    "0": "CommandLog Cleanup",
                                    "1": "Source: https://ola.hallengren.com",
                                    "2": "sa",
                                    "3": "2019-02-12 15:41:46.790",
                                    "4": "1",
                                    "5": "0",
                                    "6": "0",
                                    "7": "Database Maintenance",
                                    "8": "NULL",
                                    "9": "NULL",
                                    "10": "NULL"
                                },
                                {
                                    "0": "IBM Full BACKUP MIG",
                                    "1": "Source: https://ola.hallengren.com",
                                    "2": "sa",
                                    "3": "2019-02-12 15:41:46.870",
                                    "4": "1",
                                    "5": "0",
                                    "6": "0",
                                    "7": "Database Maintenance",
                                    "8": "NULL",
                                    "9": "NULL",
                                    "10": "NULL"
                                },
                                {
                                    "0": "MaintenancePlan.Subplan_1",
                                    "1": "No description available.",
                                    "2": "AzureAD\\PAWELDOMANSKI",
                                    "3": "2019-07-02 14:36:40.237",
                                    "4": "1",
                                    "5": "0",
                                    "6": "0",
                                    "7": "Database Maintenance",
                                    "8": "NULL",
                                    "9": "NULL",
                                    "10": "NULL"
                                },
                                {
                                    "0": "mdw_purge_data_[mdw]",
                                    "1": "Runs every day and removes data from Management Data Warehouse database that reached its expiration date.",
                                    "2": "AzureAD\\PAWELDOMANSKI",
                                    "3": "2018-12-12 15:51:23.107",
                                    "4": "1",
                                    "5": "0",
                                    "6": "0",
                                    "7": "Data Collector",
                                    "8": "1",
                                    "9": "20200128",
                                    "10": "20000"
                                },
                                {
                                    "0": "sp_delete_backuphistory",
                                    "1": "Source: https://ola.hallengren.com",
                                    "2": "sa",
                                    "3": "2019-02-12 15:41:46.817",
                                    "4": "1",
                                    "5": "0",
                                    "6": "0",
                                    "7": "Database Maintenance",
                                    "8": "NULL",
                                    "9": "NULL",
                                    "10": "NULL"
                                },
                                {
                                    "0": "sp_purge_jobhistory",
                                    "1": "Source: https://ola.hallengren.com",
                                    "2": "sa",
                                    "3": "2019-02-12 15:41:46.803",
                                    "4": "1",
                                    "5": "0",
                                    "6": "0",
                                    "7": "Database Maintenance",
                                    "8": "NULL",
                                    "9": "NULL",
                                    "10": "NULL"
                                },
                                {
                                    "0": "SSIS Server Maintenance Job",
                                    "1": "Runs every day. The job removes operation records from the database that are outside the retention window and maintains a maximum number of versions per project.",
                                    "2": "##MS_SSISServerCleanupJobLogin##",
                                    "3": "2019-05-22 12:35:08.390",
                                    "4": "1",
                                    "5": "0",
                                    "6": "0",
                                    "7": "[Uncategorized (Local)]",
                                    "8": "1",
                                    "9": "20200128",
                                    "10": "0"
                                },
                                {
                                    "0": "syspolicy_purge_history",
                                    "1": "No description available.",
                                    "2": "sa",
                                    "3": "2018-12-10 12:53:15.487",
                                    "4": "1",
                                    "5": "0",
                                    "6": "0",
                                    "7": "[Uncategorized (Local)]",
                                    "8": "1",
                                    "9": "20200128",
                                    "10": "20000"
                                },
                                {
                                    "0": "sysutility_get_cache_tables_data_into_aggregate_tables_daily",
                                    "1": "At every 12:01 AM stroke, the data of the cache tables get aggregated and put into corresponding aggregate by day tables.",
                                    "2": "sa",
                                    "3": "2018-12-12 15:51:23.997",
                                    "4": "1",
                                    "5": "0",
                                    "6": "0",
                                    "7": "[Uncategorized (Local)]",
                                    "8": "1",
                                    "9": "20200128",
                                    "10": "100"
                                },
                                {
                                    "0": "sysutility_get_cache_tables_data_into_aggregate_tables_hourly",
                                    "1": "At every hour's stroke, the data of the cache tables get aggregated and put into corresponding aggregate by hour tables.",
                                    "2": "sa",
                                    "3": "2018-12-12 15:51:23.993",
                                    "4": "1",
                                    "5": "0",
                                    "6": "0",
                                    "7": "[Uncategorized (Local)]",
                                    "8": "1",
                                    "9": "20200127",
                                    "10": "110100"
                                },
                                {
                                    "0": "sysutility_get_views_data_into_cache_tables",
                                    "1": "Gets all the views data into corresponding cache tables after every 15 minutes",
                                    "2": "sa",
                                    "3": "2018-12-12 15:51:23.980",
                                    "4": "1",
                                    "5": "0",
                                    "6": "0",
                                    "7": "[Uncategorized (Local)]",
                                    "8": "1",
                                    "9": "20200127",
                                    "10": "104500"
                                },
                                {
                                    "0": "TEST",
                                    "1": "No description available.",
                                    "2": "aaa",
                                    "3": "2019-06-17 14:53:47.480",
                                    "4": "1",
                                    "5": "0",
                                    "6": "0",
                                    "7": "[Uncategorized (Local)]",
                                    "8": "1",
                                    "9": "20200127",
                                    "10": "103300"
                                }
                            ]
                        },
                        "text/html": "<table><tr><th>Job Name</th><th>Job Description</th><th>Job Owner</th><th>Date Created</th><th>Job Enabled</th><th>notify_email_operator_id</th><th>notify_level_email</th><th>CategoryName</th><th>Sched Enabled</th><th>next_run_date</th><th>next_run_time</th></tr><tr><td>collection_set_1_noncached_collect_and_upload</td><td>Data Collector job for collection set [Disk Usage]</td><td>sa</td><td>2018-12-12 15:52:21.147</td><td>1</td><td>0</td><td>0</td><td>Data Collector</td><td>1</td><td>20200127</td><td>120000</td></tr><tr><td>collection_set_2_collection</td><td>No description available.</td><td>sa</td><td>2018-12-12 15:52:21.430</td><td>1</td><td>0</td><td>0</td><td>Data Collector</td><td>1</td><td>0</td><td>0</td></tr><tr><td>collection_set_2_upload</td><td>No description available.</td><td>sa</td><td>2018-12-12 15:52:21.423</td><td>1</td><td>0</td><td>0</td><td>Data Collector</td><td>1</td><td>20200127</td><td>104500</td></tr><tr><td>collection_set_3_collection</td><td>No description available.</td><td>sa</td><td>2018-12-12 15:52:21.403</td><td>1</td><td>0</td><td>0</td><td>Data Collector</td><td>1</td><td>0</td><td>0</td></tr><tr><td>collection_set_3_upload</td><td>No description available.</td><td>sa</td><td>2018-12-12 15:52:21.397</td><td>1</td><td>0</td><td>0</td><td>Data Collector</td><td>1</td><td>20200127</td><td>104500</td></tr><tr><td>CommandLog Cleanup</td><td>Source: https://ola.hallengren.com</td><td>sa</td><td>2019-02-12 15:41:46.790</td><td>1</td><td>0</td><td>0</td><td>Database Maintenance</td><td>NULL</td><td>NULL</td><td>NULL</td></tr><tr><td>IBM Full BACKUP MIG</td><td>Source: https://ola.hallengren.com</td><td>sa</td><td>2019-02-12 15:41:46.870</td><td>1</td><td>0</td><td>0</td><td>Database Maintenance</td><td>NULL</td><td>NULL</td><td>NULL</td></tr><tr><td>MaintenancePlan.Subplan_1</td><td>No description available.</td><td>AzureAD\\PAWELDOMANSKI</td><td>2019-07-02 14:36:40.237</td><td>1</td><td>0</td><td>0</td><td>Database Maintenance</td><td>NULL</td><td>NULL</td><td>NULL</td></tr><tr><td>mdw_purge_data_[mdw]</td><td>Runs every day and removes data from Management Data Warehouse database that reached its expiration date.</td><td>AzureAD\\PAWELDOMANSKI</td><td>2018-12-12 15:51:23.107</td><td>1</td><td>0</td><td>0</td><td>Data Collector</td><td>1</td><td>20200128</td><td>20000</td></tr><tr><td>sp_delete_backuphistory</td><td>Source: https://ola.hallengren.com</td><td>sa</td><td>2019-02-12 15:41:46.817</td><td>1</td><td>0</td><td>0</td><td>Database Maintenance</td><td>NULL</td><td>NULL</td><td>NULL</td></tr><tr><td>sp_purge_jobhistory</td><td>Source: https://ola.hallengren.com</td><td>sa</td><td>2019-02-12 15:41:46.803</td><td>1</td><td>0</td><td>0</td><td>Database Maintenance</td><td>NULL</td><td>NULL</td><td>NULL</td></tr><tr><td>SSIS Server Maintenance Job</td><td>Runs every day. The job removes operation records from the database that are outside the retention window and maintains a maximum number of versions per project.</td><td>##MS_SSISServerCleanupJobLogin##</td><td>2019-05-22 12:35:08.390</td><td>1</td><td>0</td><td>0</td><td>[Uncategorized (Local)]</td><td>1</td><td>20200128</td><td>0</td></tr><tr><td>syspolicy_purge_history</td><td>No description available.</td><td>sa</td><td>2018-12-10 12:53:15.487</td><td>1</td><td>0</td><td>0</td><td>[Uncategorized (Local)]</td><td>1</td><td>20200128</td><td>20000</td></tr><tr><td>sysutility_get_cache_tables_data_into_aggregate_tables_daily</td><td>At every 12:01 AM stroke, the data of the cache tables get aggregated and put into corresponding aggregate by day tables.</td><td>sa</td><td>2018-12-12 15:51:23.997</td><td>1</td><td>0</td><td>0</td><td>[Uncategorized (Local)]</td><td>1</td><td>20200128</td><td>100</td></tr><tr><td>sysutility_get_cache_tables_data_into_aggregate_tables_hourly</td><td>At every hour's stroke, the data of the cache tables get aggregated and put into corresponding aggregate by hour tables.</td><td>sa</td><td>2018-12-12 15:51:23.993</td><td>1</td><td>0</td><td>0</td><td>[Uncategorized (Local)]</td><td>1</td><td>20200127</td><td>110100</td></tr><tr><td>sysutility_get_views_data_into_cache_tables</td><td>Gets all the views data into corresponding cache tables after every 15 minutes</td><td>sa</td><td>2018-12-12 15:51:23.980</td><td>1</td><td>0</td><td>0</td><td>[Uncategorized (Local)]</td><td>1</td><td>20200127</td><td>104500</td></tr><tr><td>TEST</td><td>No description available.</td><td>aaa</td><td>2019-06-17 14:53:47.480</td><td>1</td><td>0</td><td>0</td><td>[Uncategorized (Local)]</td><td>1</td><td>20200127</td><td>103300</td></tr></table>"
                    }
                }
            ],
            "execution_count": 9
        },
        {
            "cell_type": "markdown",
            "source": [
                "## SQL Server Agent Alerts\n",
                "\n",
                "Get SQL Server Agent Alert Information"
            ],
            "metadata": {
                "azdata_cell_guid": "a798658c-9079-461f-ac26-e8782c43006d"
            }
        },
        {
            "cell_type": "code",
            "source": [
                "SELECT name, event_source, message_id, severity, [enabled], has_notification, \n",
                "       delay_between_responses, occurrence_count, last_occurrence_date, last_occurrence_time\n",
                "FROM msdb.dbo.sysalerts WITH (NOLOCK)\n",
                "ORDER BY name OPTION (RECOMPILE);\n",
                ""
            ],
            "metadata": {
                "azdata_cell_guid": "8a30177a-04c3-4c43-b2ad-08482fecb668"
            },
            "outputs": [],
            "execution_count": 0
        },
        {
            "cell_type": "markdown",
            "source": [
                "## Host Info\n",
                "\n",
                "Host information"
            ],
            "metadata": {
                "azdata_cell_guid": "6181b8b6-a35b-4be0-bb06-912cb26a973f"
            }
        },
        {
            "cell_type": "code",
            "source": [
                "SELECT host_platform, host_distribution, host_release, \n",
                "       host_service_pack_level, host_sku, os_language_version \n",
                "FROM sys.dm_os_host_info WITH (NOLOCK) OPTION (RECOMPILE); \n",
                ""
            ],
            "metadata": {
                "azdata_cell_guid": "1ea9e99c-1347-43fc-bf52-83c59efd65d5"
            },
            "outputs": [],
            "execution_count": 0
        },
        {
            "cell_type": "markdown",
            "source": [
                "## SQL Server NUMA Info\n",
                "\n",
                "SQL Server NUMA Node information "
            ],
            "metadata": {
                "azdata_cell_guid": "0c9a5ba8-6f00-4330-b03d-9cb17358e7b4"
            }
        },
        {
            "cell_type": "code",
            "source": [
                "SELECT node_id, node_state_desc, memory_node_id, processor_group, cpu_count, online_scheduler_count, \n",
                "       idle_scheduler_count, active_worker_count, avg_load_balance, resource_monitor_state\n",
                "FROM sys.dm_os_nodes WITH (NOLOCK) \n",
                "WHERE node_state_desc <> N'ONLINE DAC' OPTION (RECOMPILE);\n",
                ""
            ],
            "metadata": {
                "azdata_cell_guid": "5528bb1a-463a-44b5-aa76-a48c13929efe"
            },
            "outputs": [],
            "execution_count": 0
        },
        {
            "cell_type": "markdown",
            "source": [
                "## System Memory\n",
                "\n",
                "Good basic information about OS memory amounts and state "
            ],
            "metadata": {
                "azdata_cell_guid": "6f6eb4a9-5f47-45fc-a272-e602ac300250"
            }
        },
        {
            "cell_type": "code",
            "source": [
                "SELECT total_physical_memory_kb/1024 AS [Physical Memory (MB)], \n",
                "       available_physical_memory_kb/1024 AS [Available Memory (MB)], \n",
                "       total_page_file_kb/1024 AS [Total Page File (MB)], \n",
                "\t   available_page_file_kb/1024 AS [Available Page File (MB)], \n",
                "\t   system_cache_kb/1024 AS [System Cache (MB)],\n",
                "       system_memory_state_desc AS [System Memory State]\n",
                "FROM sys.dm_os_sys_memory WITH (NOLOCK) OPTION (RECOMPILE);\n",
                ""
            ],
            "metadata": {
                "azdata_cell_guid": "ab86befc-56c0-4614-ba27-b33ef23e6eb9"
            },
            "outputs": [
                {
                    "output_type": "display_data",
                    "data": {
                        "text/html": "(1 row affected)"
                    },
                    "metadata": {}
                },
                {
                    "output_type": "display_data",
                    "data": {
                        "text/html": "Total execution time: 00:00:00.0174974"
                    },
                    "metadata": {}
                },
                {
                    "output_type": "execute_result",
                    "execution_count": 2,
                    "data": {
                        "application/vnd.dataresource+json": {
                            "schema": {
                                "fields": [
                                    {
                                        "name": "Physical Memory (MB)"
                                    },
                                    {
                                        "name": "Available Memory (MB)"
                                    },
                                    {
                                        "name": "Total Page File (MB)"
                                    },
                                    {
                                        "name": "Available Page File (MB)"
                                    },
                                    {
                                        "name": "System Cache (MB)"
                                    },
                                    {
                                        "name": "System Memory State"
                                    }
                                ]
                            },
                            "data": [
                                {
                                    "0": "16327",
                                    "1": "5153",
                                    "2": "19327",
                                    "3": "4423",
                                    "4": "4667",
                                    "5": "Available physical memory is high"
                                }
                            ]
                        },
                        "text/html": "<table><tr><th>Physical Memory (MB)</th><th>Available Memory (MB)</th><th>Total Page File (MB)</th><th>Available Page File (MB)</th><th>System Cache (MB)</th><th>System Memory State</th></tr><tr><td>16327</td><td>5153</td><td>19327</td><td>4423</td><td>4667</td><td>Available physical memory is high</td></tr></table>"
                    },
                    "metadata": {}
                }
            ],
            "execution_count": 2
        },
        {
            "cell_type": "markdown",
            "source": [
                "## Cluster Node Properties\n",
                "\n",
                "Get information about your cluster nodes and their status "
            ],
            "metadata": {
                "azdata_cell_guid": "ae1536f2-6ab8-4108-91f9-3e052271ad75"
            }
        },
        {
            "cell_type": "code",
            "source": [
                "SELECT NodeName, status_description, is_current_owner\n",
                "FROM sys.dm_os_cluster_nodes WITH (NOLOCK) OPTION (RECOMPILE);\n",
                ""
            ],
            "metadata": {
                "azdata_cell_guid": "67a36551-1c36-4702-9485-ac6eab220d77"
            },
            "outputs": [],
            "execution_count": 0
        },
        {
            "cell_type": "markdown",
            "source": [
                "## AlwaysOn AG Cluster\n",
                "\n",
                "Get information about any AlwaysOn AG cluster this instance is a part of"
            ],
            "metadata": {
                "azdata_cell_guid": "3bcd9333-1222-419f-8ffe-cf3b4b75bb3c"
            }
        },
        {
            "cell_type": "code",
            "source": [
                "SELECT cluster_name, quorum_type_desc, quorum_state_desc\n",
                "FROM sys.dm_hadr_cluster WITH (NOLOCK) OPTION (RECOMPILE);\n",
                ""
            ],
            "metadata": {
                "azdata_cell_guid": "9a39120f-306b-4659-bef1-5ae93f777a0d"
            },
            "outputs": [],
            "execution_count": 0
        },
        {
            "cell_type": "markdown",
            "source": [
                "## AlwaysOn AG Status\n",
                "\n",
                "Good overview of AG health and status"
            ],
            "metadata": {
                "azdata_cell_guid": "a6e6b643-b0d7-439f-9445-e434e9916623"
            }
        },
        {
            "cell_type": "code",
            "source": [
                "SELECT ag.name AS [AG Name], ar.replica_server_name, ar.availability_mode_desc, adc.[database_name], \n",
                "       drs.is_local, drs.is_primary_replica, drs.synchronization_state_desc, drs.is_commit_participant, \n",
                "\t   drs.synchronization_health_desc, drs.recovery_lsn, drs.truncation_lsn, drs.last_sent_lsn, \n",
                "\t   drs.last_sent_time, drs.last_received_lsn, drs.last_received_time, drs.last_hardened_lsn, \n",
                "\t   drs.last_hardened_time, drs.last_redone_lsn, drs.last_redone_time, drs.log_send_queue_size, \n",
                "\t   drs.log_send_rate, drs.redo_queue_size, drs.redo_rate, drs.filestream_send_rate, \n",
                "\t   drs.end_of_log_lsn, drs.last_commit_lsn, drs.last_commit_time, drs.database_state_desc \n",
                "FROM sys.dm_hadr_database_replica_states AS drs WITH (NOLOCK)\n",
                "INNER JOIN sys.availability_databases_cluster AS adc WITH (NOLOCK)\n",
                "ON drs.group_id = adc.group_id \n",
                "AND drs.group_database_id = adc.group_database_id\n",
                "INNER JOIN sys.availability_groups AS ag WITH (NOLOCK)\n",
                "ON ag.group_id = drs.group_id\n",
                "INNER JOIN sys.availability_replicas AS ar WITH (NOLOCK)\n",
                "ON drs.group_id = ar.group_id \n",
                "AND drs.replica_id = ar.replica_id\n",
                "ORDER BY ag.name, ar.replica_server_name, adc.[database_name] OPTION (RECOMPILE);\n",
                ""
            ],
            "metadata": {
                "azdata_cell_guid": "7e1898c9-2f8a-4fe8-8c86-70cdbbbf2d62"
            },
            "outputs": [
                {
                    "output_type": "display_data",
                    "data": {
                        "text/html": "(0 rows affected)"
                    },
                    "metadata": {}
                },
                {
                    "output_type": "display_data",
                    "data": {
                        "text/html": "Total execution time: 00:00:00.161"
                    },
                    "metadata": {}
                },
                {
                    "output_type": "execute_result",
                    "metadata": {},
                    "execution_count": 10,
                    "data": {
                        "application/vnd.dataresource+json": {
                            "schema": {
                                "fields": [
                                    {
                                        "name": "AG Name"
                                    },
                                    {
                                        "name": "replica_server_name"
                                    },
                                    {
                                        "name": "availability_mode_desc"
                                    },
                                    {
                                        "name": "database_name"
                                    },
                                    {
                                        "name": "is_local"
                                    },
                                    {
                                        "name": "is_primary_replica"
                                    },
                                    {
                                        "name": "synchronization_state_desc"
                                    },
                                    {
                                        "name": "is_commit_participant"
                                    },
                                    {
                                        "name": "synchronization_health_desc"
                                    },
                                    {
                                        "name": "recovery_lsn"
                                    },
                                    {
                                        "name": "truncation_lsn"
                                    },
                                    {
                                        "name": "last_sent_lsn"
                                    },
                                    {
                                        "name": "last_sent_time"
                                    },
                                    {
                                        "name": "last_received_lsn"
                                    },
                                    {
                                        "name": "last_received_time"
                                    },
                                    {
                                        "name": "last_hardened_lsn"
                                    },
                                    {
                                        "name": "last_hardened_time"
                                    },
                                    {
                                        "name": "last_redone_lsn"
                                    },
                                    {
                                        "name": "last_redone_time"
                                    },
                                    {
                                        "name": "log_send_queue_size"
                                    },
                                    {
                                        "name": "log_send_rate"
                                    },
                                    {
                                        "name": "redo_queue_size"
                                    },
                                    {
                                        "name": "redo_rate"
                                    },
                                    {
                                        "name": "filestream_send_rate"
                                    },
                                    {
                                        "name": "end_of_log_lsn"
                                    },
                                    {
                                        "name": "last_commit_lsn"
                                    },
                                    {
                                        "name": "last_commit_time"
                                    },
                                    {
                                        "name": "database_state_desc"
                                    }
                                ]
                            },
                            "data": []
                        },
                        "text/html": "<table><tr><th>AG Name</th><th>replica_server_name</th><th>availability_mode_desc</th><th>database_name</th><th>is_local</th><th>is_primary_replica</th><th>synchronization_state_desc</th><th>is_commit_participant</th><th>synchronization_health_desc</th><th>recovery_lsn</th><th>truncation_lsn</th><th>last_sent_lsn</th><th>last_sent_time</th><th>last_received_lsn</th><th>last_received_time</th><th>last_hardened_lsn</th><th>last_hardened_time</th><th>last_redone_lsn</th><th>last_redone_time</th><th>log_send_queue_size</th><th>log_send_rate</th><th>redo_queue_size</th><th>redo_rate</th><th>filestream_send_rate</th><th>end_of_log_lsn</th><th>last_commit_lsn</th><th>last_commit_time</th><th>database_state_desc</th></tr></table>"
                    }
                }
            ],
            "execution_count": 10
        },
        {
            "cell_type": "markdown",
            "source": [
                "## Hardware Info\n",
                "\n",
                "Hardware information from SQL Server 2017 "
            ],
            "metadata": {
                "azdata_cell_guid": "817b967b-11eb-40d0-9290-ad87cd1ffbd5"
            }
        },
        {
            "cell_type": "code",
            "source": [
                "SELECT cpu_count AS [Logical CPU Count], scheduler_count, \n",
                "       (socket_count * cores_per_socket) AS [Physical Core Count], \n",
                "       socket_count AS [Socket Count], cores_per_socket, numa_node_count,\n",
                "       physical_memory_kb/1024 AS [Physical Memory (MB)], \n",
                "       max_workers_count AS [Max Workers Count], \n",
                "\t   affinity_type_desc AS [Affinity Type], \n",
                "       sqlserver_start_time AS [SQL Server Start Time],\n",
                "\t   DATEDIFF(hour, sqlserver_start_time, GETDATE()) AS [SQL Server Up Time (hrs)],\n",
                "\t   virtual_machine_type_desc AS [Virtual Machine Type], \n",
                "       softnuma_configuration_desc AS [Soft NUMA Configuration], \n",
                "\t   sql_memory_model_desc, process_physical_affinity -- New in SQL Server 2017\n",
                "FROM sys.dm_os_sys_info WITH (NOLOCK) OPTION (RECOMPILE);\n",
                ""
            ],
            "metadata": {
                "azdata_cell_guid": "a2b161e4-67c0-4657-920b-298a0ebfd1aa"
            },
            "outputs": [
                {
                    "output_type": "display_data",
                    "data": {
                        "text/html": "(1 row affected)"
                    },
                    "metadata": {}
                },
                {
                    "output_type": "display_data",
                    "data": {
                        "text/html": "Total execution time: 00:00:00.579"
                    },
                    "metadata": {}
                },
                {
                    "output_type": "execute_result",
                    "metadata": {},
                    "execution_count": 11,
                    "data": {
                        "application/vnd.dataresource+json": {
                            "schema": {
                                "fields": [
                                    {
                                        "name": "Logical CPU Count"
                                    },
                                    {
                                        "name": "scheduler_count"
                                    },
                                    {
                                        "name": "Physical Core Count"
                                    },
                                    {
                                        "name": "Socket Count"
                                    },
                                    {
                                        "name": "cores_per_socket"
                                    },
                                    {
                                        "name": "numa_node_count"
                                    },
                                    {
                                        "name": "Physical Memory (MB)"
                                    },
                                    {
                                        "name": "Max Workers Count"
                                    },
                                    {
                                        "name": "Affinity Type"
                                    },
                                    {
                                        "name": "SQL Server Start Time"
                                    },
                                    {
                                        "name": "SQL Server Up Time (hrs)"
                                    },
                                    {
                                        "name": "Virtual Machine Type"
                                    },
                                    {
                                        "name": "Soft NUMA Configuration"
                                    },
                                    {
                                        "name": "sql_memory_model_desc"
                                    },
                                    {
                                        "name": "process_physical_affinity"
                                    }
                                ]
                            },
                            "data": [
                                {
                                    "0": "4",
                                    "1": "1",
                                    "2": "2",
                                    "3": "1",
                                    "4": "2",
                                    "5": "1",
                                    "6": "8047",
                                    "7": "512",
                                    "8": "MANUAL",
                                    "9": "2020-01-27 09:50:40.090",
                                    "10": "5",
                                    "11": "NONE",
                                    "12": "OFF",
                                    "13": "CONVENTIONAL",
                                    "14": "{{0,f}}"
                                }
                            ]
                        },
                        "text/html": "<table><tr><th>Logical CPU Count</th><th>scheduler_count</th><th>Physical Core Count</th><th>Socket Count</th><th>cores_per_socket</th><th>numa_node_count</th><th>Physical Memory (MB)</th><th>Max Workers Count</th><th>Affinity Type</th><th>SQL Server Start Time</th><th>SQL Server Up Time (hrs)</th><th>Virtual Machine Type</th><th>Soft NUMA Configuration</th><th>sql_memory_model_desc</th><th>process_physical_affinity</th></tr><tr><td>4</td><td>1</td><td>2</td><td>1</td><td>2</td><td>1</td><td>8047</td><td>512</td><td>MANUAL</td><td>2020-01-27 09:50:40.090</td><td>5</td><td>NONE</td><td>OFF</td><td>CONVENTIONAL</td><td>{{0,f}}</td></tr></table>"
                    }
                }
            ],
            "execution_count": 11
        },
        {
            "cell_type": "markdown",
            "source": [
                "## System Manufacturer\n",
                "\n",
                "Get System Manufacturer and model number from SQL Server Error log"
            ],
            "metadata": {
                "azdata_cell_guid": "244e1fb3-6697-41e4-9d16-1300b8f01d7d"
            }
        },
        {
            "cell_type": "code",
            "source": [
                "EXEC sys.xp_readerrorlog 0, 1, N'Manufacturer';\n",
                ""
            ],
            "metadata": {
                "azdata_cell_guid": "887be5a2-4123-47b2-92e4-ccbeb2730e06"
            },
            "outputs": [
                {
                    "output_type": "display_data",
                    "data": {
                        "text/html": "(1 row affected)"
                    },
                    "metadata": {}
                },
                {
                    "output_type": "display_data",
                    "data": {
                        "text/html": "Total execution time: 00:00:00.542"
                    },
                    "metadata": {}
                },
                {
                    "output_type": "execute_result",
                    "metadata": {},
                    "execution_count": 12,
                    "data": {
                        "application/vnd.dataresource+json": {
                            "schema": {
                                "fields": [
                                    {
                                        "name": "LogDate"
                                    },
                                    {
                                        "name": "ProcessInfo"
                                    },
                                    {
                                        "name": "Text"
                                    }
                                ]
                            },
                            "data": [
                                {
                                    "0": "2020-01-27 09:50:40.070",
                                    "1": "Server",
                                    "2": "System Manufacturer: 'LENOVO', System Model: '20FRS2KF19'."
                                }
                            ]
                        },
                        "text/html": "<table><tr><th>LogDate</th><th>ProcessInfo</th><th>Text</th></tr><tr><td>2020-01-27 09:50:40.070</td><td>Server</td><td>System Manufacturer: 'LENOVO', System Model: '20FRS2KF19'.</td></tr></table>"
                    }
                }
            ],
            "execution_count": 12
        },
        {
            "cell_type": "markdown",
            "source": [
                "## PVSCSI Driver Parameters\n",
                "\n",
                "Get pvscsi info from Windows Registry "
            ],
            "metadata": {
                "azdata_cell_guid": "8b115557-8d60-4345-bd81-231eecc08b99"
            }
        },
        {
            "cell_type": "code",
            "source": [
                "EXEC sys.xp_instance_regread N'HKEY_LOCAL_MACHINE', N'SYSTEM\\CurrentControlSet\\services\\pvscsi\\Parameters\\Device', N'DriverParameter';\n",
                ""
            ],
            "metadata": {
                "azdata_cell_guid": "5e00ec5f-e9c0-4e0b-afdb-9f8dfd6dc4b0"
            },
            "outputs": [],
            "execution_count": 0
        },
        {
            "cell_type": "markdown",
            "source": [
                "## BIOS Date\n",
                "\n",
                "Get BIOS date from Windows Registry"
            ],
            "metadata": {
                "azdata_cell_guid": "02e3ebb3-5eb2-4ecc-a597-32c491204715"
            }
        },
        {
            "cell_type": "code",
            "source": [
                "EXEC sys.xp_instance_regread N'HKEY_LOCAL_MACHINE', N'HARDWARE\\DESCRIPTION\\System\\BIOS', N'BiosReleaseDate';\n",
                ""
            ],
            "metadata": {
                "azdata_cell_guid": "d655bc4a-54ff-4acc-bb32-9557f18f756f"
            },
            "outputs": [],
            "execution_count": 0
        },
        {
            "cell_type": "markdown",
            "source": [
                "## Processor Description\n",
                "\n",
                "Get processor description from Windows Registry "
            ],
            "metadata": {
                "azdata_cell_guid": "4cd60429-1d4a-4433-8d30-ac82259bc0b0"
            }
        },
        {
            "cell_type": "code",
            "source": [
                "EXEC sys.xp_instance_regread N'HKEY_LOCAL_MACHINE', N'HARDWARE\\DESCRIPTION\\System\\CentralProcessor\\0', N'ProcessorNameString';\n",
                ""
            ],
            "metadata": {
                "azdata_cell_guid": "51589ea2-2d26-4375-a687-8c8762608c7e"
            },
            "outputs": [
                {
                    "output_type": "display_data",
                    "data": {
                        "text/html": "(1 row affected)"
                    },
                    "metadata": {}
                },
                {
                    "output_type": "display_data",
                    "data": {
                        "text/html": "Total execution time: 00:00:00.217"
                    },
                    "metadata": {}
                },
                {
                    "output_type": "execute_result",
                    "metadata": {},
                    "execution_count": 13,
                    "data": {
                        "application/vnd.dataresource+json": {
                            "schema": {
                                "fields": [
                                    {
                                        "name": "Value"
                                    },
                                    {
                                        "name": "Data"
                                    }
                                ]
                            },
                            "data": [
                                {
                                    "0": "ProcessorNameString",
                                    "1": "Intel(R) Core(TM) i5-6300U CPU @ 2.40GHz"
                                }
                            ]
                        },
                        "text/html": "<table><tr><th>Value</th><th>Data</th></tr><tr><td>ProcessorNameString</td><td>Intel(R) Core(TM) i5-6300U CPU @ 2.40GHz</td></tr></table>"
                    }
                }
            ],
            "execution_count": 13
        },
        {
            "cell_type": "markdown",
            "source": [
                "## Memory Dump Info\n",
                "\n",
                "Get information on location, time and size of any memory dumps from SQL Server "
            ],
            "metadata": {
                "azdata_cell_guid": "c68001a3-a12f-4a64-a1e9-34e0304120d2"
            }
        },
        {
            "cell_type": "code",
            "source": [
                "SELECT [filename], creation_time, size_in_bytes/1048576.0 AS [Size (MB)]\n",
                "FROM sys.dm_server_memory_dumps WITH (NOLOCK) \n",
                "ORDER BY creation_time DESC OPTION (RECOMPILE);\n",
                ""
            ],
            "metadata": {
                "azdata_cell_guid": "03a616e2-6fcd-41b8-849e-3bd2fd839376"
            },
            "outputs": [],
            "execution_count": 0
        },
        {
            "cell_type": "markdown",
            "source": [
                "## Suspect Pages\n",
                "\n",
                "Look at Suspect Pages table"
            ],
            "metadata": {
                "azdata_cell_guid": "60e4dc85-634e-40eb-b666-76ea43d30d59"
            }
        },
        {
            "cell_type": "code",
            "source": [
                "SELECT DB_NAME(database_id) AS [Database Name], [file_id], page_id, \n",
                "       event_type, error_count, last_update_date \n",
                "FROM msdb.dbo.suspect_pages WITH (NOLOCK)\n",
                "ORDER BY database_id OPTION (RECOMPILE);\n",
                ""
            ],
            "metadata": {
                "azdata_cell_guid": "02debebd-85e5-4333-a8a3-0b9be4d04f6e"
            },
            "outputs": [
                {
                    "output_type": "display_data",
                    "data": {
                        "text/html": "(0 rows affected)"
                    },
                    "metadata": {}
                },
                {
                    "output_type": "display_data",
                    "data": {
                        "text/html": "Total execution time: 00:00:01.658"
                    },
                    "metadata": {}
                },
                {
                    "output_type": "execute_result",
                    "metadata": {},
                    "execution_count": 14,
                    "data": {
                        "application/vnd.dataresource+json": {
                            "schema": {
                                "fields": [
                                    {
                                        "name": "Database Name"
                                    },
                                    {
                                        "name": "file_id"
                                    },
                                    {
                                        "name": "page_id"
                                    },
                                    {
                                        "name": "event_type"
                                    },
                                    {
                                        "name": "error_count"
                                    },
                                    {
                                        "name": "last_update_date"
                                    }
                                ]
                            },
                            "data": []
                        },
                        "text/html": "<table><tr><th>Database Name</th><th>file_id</th><th>page_id</th><th>event_type</th><th>error_count</th><th>last_update_date</th></tr></table>"
                    }
                }
            ],
            "execution_count": 14
        },
        {
            "cell_type": "markdown",
            "source": [
                "## TempDB Data Files\n",
                "\n",
                "Get number of data files in tempdb database"
            ],
            "metadata": {
                "azdata_cell_guid": "f44794f1-d770-45ae-9329-9da07e7747e5"
            }
        },
        {
            "cell_type": "code",
            "source": [
                "EXEC sys.xp_readerrorlog 0, 1, N'The tempdb database has';\n",
                ""
            ],
            "metadata": {
                "azdata_cell_guid": "2d8cbbeb-f17c-4140-8ca2-30b1cbe04bc6"
            },
            "outputs": [],
            "execution_count": 0
        },
        {
            "cell_type": "markdown",
            "source": [
                "## Database Filenames and Paths\n",
                "\n",
                "File names and paths for all user and system databases on instance "
            ],
            "metadata": {
                "azdata_cell_guid": "049c7520-094b-4989-97da-915da61f7591"
            }
        },
        {
            "cell_type": "code",
            "source": [
                "SELECT DB_NAME([database_id]) AS [Database Name], \n",
                "       [file_id], [name], physical_name, [type_desc], state_desc,\n",
                "\t   is_percent_growth, growth,\n",
                "\t   CONVERT(bigint, growth/128.0) AS [Growth in MB], \n",
                "       CONVERT(bigint, size/128.0) AS [Total Size in MB]\n",
                "FROM sys.master_files WITH (NOLOCK)\n",
                "ORDER BY DB_NAME([database_id]), [file_id] OPTION (RECOMPILE);\n",
                ""
            ],
            "metadata": {
                "azdata_cell_guid": "8be41f3a-3f65-4282-9475-3ff59623ab51"
            },
            "outputs": [],
            "execution_count": 0
        },
        {
            "cell_type": "markdown",
            "source": [
                "## Fixed Drives\n",
                "\n",
                "Drive information for all fixed drives visible to the operating system"
            ],
            "metadata": {
                "azdata_cell_guid": "dfd2661b-b0f3-46c1-bc0f-21c0b3152370"
            }
        },
        {
            "cell_type": "code",
            "source": [
                "SELECT fixed_drive_path, drive_type_desc, \n",
                "CONVERT(DECIMAL(18,2), free_space_in_bytes/1073741824.0) AS [Available Space (GB)]\n",
                "FROM sys.dm_os_enumerate_fixed_drives WITH (NOLOCK) OPTION (RECOMPILE);\n",
                ""
            ],
            "metadata": {
                "azdata_cell_guid": "4fc12c99-25b1-4674-b71f-eb6f2b6b491a"
            },
            "outputs": [
                {
                    "output_type": "display_data",
                    "data": {
                        "text/html": "(3 rows affected)"
                    },
                    "metadata": {}
                },
                {
                    "output_type": "display_data",
                    "data": {
                        "text/html": "Total execution time: 00:00:00.0081131"
                    },
                    "metadata": {}
                },
                {
                    "output_type": "execute_result",
                    "execution_count": 5,
                    "data": {
                        "application/vnd.dataresource+json": {
                            "schema": {
                                "fields": [
                                    {
                                        "name": "fixed_drive_path"
                                    },
                                    {
                                        "name": "drive_type_desc"
                                    },
                                    {
                                        "name": "Available Space (GB)"
                                    }
                                ]
                            },
                            "data": [
                                {
                                    "0": "C:\\",
                                    "1": "DRIVE_FIXED",
                                    "2": "53,24"
                                },
                                {
                                    "0": "D:\\",
                                    "1": "DRIVE_FIXED",
                                    "2": "362,55"
                                },
                                {
                                    "0": "E:\\",
                                    "1": "DRIVE_FIXED",
                                    "2": "204,21"
                                }
                            ]
                        },
                        "text/html": "<table><tr><th>fixed_drive_path</th><th>drive_type_desc</th><th>Available Space (GB)</th></tr><tr><td>C:\\</td><td>DRIVE_FIXED</td><td>53,24</td></tr><tr><td>D:\\</td><td>DRIVE_FIXED</td><td>362,55</td></tr><tr><td>E:\\</td><td>DRIVE_FIXED</td><td>204,21</td></tr></table>"
                    },
                    "metadata": {}
                }
            ],
            "execution_count": 5
        },
        {
            "cell_type": "markdown",
            "source": [
                "## Volume Info\n",
                "\n",
                "Volume info for all LUNS that have database files on the current instance"
            ],
            "metadata": {
                "azdata_cell_guid": "155d7284-d4b7-4277-8ab0-fa66c492a75e"
            }
        },
        {
            "cell_type": "code",
            "source": [
                "SELECT DISTINCT vs.volume_mount_point, vs.file_system_type, vs.logical_volume_name, \n",
                "CONVERT(DECIMAL(18,2), vs.total_bytes/1073741824.0) AS [Total Size (GB)],\n",
                "CONVERT(DECIMAL(18,2), vs.available_bytes/1073741824.0) AS [Available Size (GB)],  \n",
                "CONVERT(DECIMAL(18,2), vs.available_bytes * 1. / vs.total_bytes * 100.) AS [Space Free %],\n",
                "vs.supports_compression, vs.is_compressed, \n",
                "vs.supports_sparse_files, vs.supports_alternate_streams\n",
                "FROM sys.master_files AS f WITH (NOLOCK)\n",
                "CROSS APPLY sys.dm_os_volume_stats(f.database_id, f.[file_id]) AS vs \n",
                "ORDER BY vs.volume_mount_point OPTION (RECOMPILE);\n",
                ""
            ],
            "metadata": {
                "azdata_cell_guid": "f20b962a-7cc5-42ae-9a34-9a04cde2d1c0"
            },
            "outputs": [],
            "execution_count": 0
        },
        {
            "cell_type": "markdown",
            "source": [
                "## Drive Level Latency\n",
                "\n",
                "Drive level latency information"
            ],
            "metadata": {
                "azdata_cell_guid": "fd75f548-64c9-4fbb-8362-7d354e8c2b9f"
            }
        },
        {
            "cell_type": "code",
            "source": [
                "SELECT tab.[Drive], tab.volume_mount_point AS [Volume Mount Point], \n",
                "\tCASE \n",
                "\t\tWHEN num_of_reads = 0 THEN 0 \n",
                "\t\tELSE (io_stall_read_ms/num_of_reads) \n",
                "\tEND AS [Read Latency],\n",
                "\tCASE \n",
                "\t\tWHEN num_of_writes = 0 THEN 0 \n",
                "\t\tELSE (io_stall_write_ms/num_of_writes) \n",
                "\tEND AS [Write Latency],\n",
                "\tCASE \n",
                "\t\tWHEN (num_of_reads = 0 AND num_of_writes = 0) THEN 0 \n",
                "\t\tELSE (io_stall/(num_of_reads + num_of_writes)) \n",
                "\tEND AS [Overall Latency],\n",
                "\tCASE \n",
                "\t\tWHEN num_of_reads = 0 THEN 0 \n",
                "\t\tELSE (num_of_bytes_read/num_of_reads) \n",
                "\tEND AS [Avg Bytes/Read],\n",
                "\tCASE \n",
                "\t\tWHEN num_of_writes = 0 THEN 0 \n",
                "\t\tELSE (num_of_bytes_written/num_of_writes) \n",
                "\tEND AS [Avg Bytes/Write],\n",
                "\tCASE \n",
                "\t\tWHEN (num_of_reads = 0 AND num_of_writes = 0) THEN 0 \n",
                "\t\tELSE ((num_of_bytes_read + num_of_bytes_written)/(num_of_reads + num_of_writes)) \n",
                "\tEND AS [Avg Bytes/Transfer]\n",
                "FROM (SELECT LEFT(UPPER(mf.physical_name), 2) AS Drive, SUM(num_of_reads) AS num_of_reads,\n",
                "\t         SUM(io_stall_read_ms) AS io_stall_read_ms, SUM(num_of_writes) AS num_of_writes,\n",
                "\t         SUM(io_stall_write_ms) AS io_stall_write_ms, SUM(num_of_bytes_read) AS num_of_bytes_read,\n",
                "\t         SUM(num_of_bytes_written) AS num_of_bytes_written, SUM(io_stall) AS io_stall, vs.volume_mount_point \n",
                "      FROM sys.dm_io_virtual_file_stats(NULL, NULL) AS vfs\n",
                "      INNER JOIN sys.master_files AS mf WITH (NOLOCK)\n",
                "      ON vfs.database_id = mf.database_id AND vfs.file_id = mf.file_id\n",
                "\t  CROSS APPLY sys.dm_os_volume_stats(mf.database_id, mf.[file_id]) AS vs \n",
                "      GROUP BY LEFT(UPPER(mf.physical_name), 2), vs.volume_mount_point) AS tab\n",
                "ORDER BY [Overall Latency] OPTION (RECOMPILE);\n",
                ""
            ],
            "metadata": {
                "azdata_cell_guid": "59766ef3-5746-427f-be97-4186adec453d"
            },
            "outputs": [],
            "execution_count": 0
        },
        {
            "cell_type": "markdown",
            "source": [
                "## IO Latency by File\n",
                "\n",
                "Calculates average stalls per read, per write, and per total input/output for each database file "
            ],
            "metadata": {
                "azdata_cell_guid": "2ab2d51a-7ae8-4578-a538-429034d5bb7e"
            }
        },
        {
            "cell_type": "code",
            "source": [
                "SELECT DB_NAME(fs.database_id) AS [Database Name], CAST(fs.io_stall_read_ms/(1.0 + fs.num_of_reads) AS NUMERIC(10,1)) AS [avg_read_latency_ms],\n",
                "CAST(fs.io_stall_write_ms/(1.0 + fs.num_of_writes) AS NUMERIC(10,1)) AS [avg_write_latency_ms],\n",
                "CAST((fs.io_stall_read_ms + fs.io_stall_write_ms)/(1.0 + fs.num_of_reads + fs.num_of_writes) AS NUMERIC(10,1)) AS [avg_io_latency_ms],\n",
                "CONVERT(DECIMAL(18,2), mf.size/128.0) AS [File Size (MB)], mf.physical_name, mf.type_desc, fs.io_stall_read_ms, fs.num_of_reads, \n",
                "fs.io_stall_write_ms, fs.num_of_writes, fs.io_stall_read_ms + fs.io_stall_write_ms AS [io_stalls], fs.num_of_reads + fs.num_of_writes AS [total_io],\n",
                "io_stall_queued_read_ms AS [Resource Governor Total Read IO Latency (ms)], io_stall_queued_write_ms AS [Resource Governor Total Write IO Latency (ms)] \n",
                "FROM sys.dm_io_virtual_file_stats(null,null) AS fs\n",
                "INNER JOIN sys.master_files AS mf WITH (NOLOCK)\n",
                "ON fs.database_id = mf.database_id\n",
                "AND fs.[file_id] = mf.[file_id]\n",
                "ORDER BY avg_io_latency_ms DESC OPTION (RECOMPILE);\n",
                ""
            ],
            "metadata": {
                "azdata_cell_guid": "931b086a-abcc-479d-9bde-c85f213aa9fa"
            },
            "outputs": [],
            "execution_count": 0
        },
        {
            "cell_type": "markdown",
            "source": [
                "## IO Warnings\n",
                "\n",
                "Look for I/O requests taking longer than 15 seconds in the six most recent SQL Server Error Logs"
            ],
            "metadata": {
                "azdata_cell_guid": "a149297f-15db-4f67-b6e5-f301c64cd1ee"
            }
        },
        {
            "cell_type": "code",
            "source": [
                "CREATE TABLE #IOWarningResults(LogDate datetime, ProcessInfo sysname, LogText nvarchar(1000));\n",
                "\tINSERT INTO #IOWarningResults \n",
                "\tEXEC xp_readerrorlog 0, 1, N'taking longer than 15 seconds';\n",
                "\tINSERT INTO #IOWarningResults \n",
                "\tEXEC xp_readerrorlog 1, 1, N'taking longer than 15 seconds';\n",
                "\tINSERT INTO #IOWarningResults \n",
                "\tEXEC xp_readerrorlog 2, 1, N'taking longer than 15 seconds';\n",
                "\tINSERT INTO #IOWarningResults \n",
                "\tEXEC xp_readerrorlog 3, 1, N'taking longer than 15 seconds';\n",
                "\tINSERT INTO #IOWarningResults \n",
                "\tEXEC xp_readerrorlog 4, 1, N'taking longer than 15 seconds';\n",
                "\tINSERT INTO #IOWarningResults \n",
                "\tEXEC xp_readerrorlog 5, 1, N'taking longer than 15 seconds';\n",
                "SELECT LogDate, ProcessInfo, LogText\n",
                "FROM #IOWarningResults\n",
                "ORDER BY LogDate DESC;\n",
                "DROP TABLE #IOWarningResults;\n",
                ""
            ],
            "metadata": {
                "azdata_cell_guid": "8cc4de60-09a6-4169-9794-feb8ceb69fde"
            },
            "outputs": [],
            "execution_count": 0
        },
        {
            "cell_type": "markdown",
            "source": [
                "## RG Resource Pools\n",
                "\n",
                "Resource Governor Resource Pool information"
            ],
            "metadata": {
                "azdata_cell_guid": "e25fbd2c-61a9-4015-a941-fc9e2d96bc18"
            }
        },
        {
            "cell_type": "code",
            "source": [
                "SELECT pool_id, [Name], statistics_start_time,\n",
                "       min_memory_percent, max_memory_percent,  \n",
                "       max_memory_kb/1024 AS [max_memory_mb],  \n",
                "       used_memory_kb/1024 AS [used_memory_mb],   \n",
                "       target_memory_kb/1024 AS [target_memory_mb],\n",
                "\t   min_iops_per_volume, max_iops_per_volume\n",
                "FROM sys.dm_resource_governor_resource_pools WITH (NOLOCK)\n",
                "OPTION (RECOMPILE);\n",
                ""
            ],
            "metadata": {
                "azdata_cell_guid": "9a741d76-9ff8-4be0-86a1-e2d0506910f3"
            },
            "outputs": [],
            "execution_count": 0
        },
        {
            "cell_type": "markdown",
            "source": [
                "## Database Properties\n",
                "\n",
                "Recovery model, log reuse wait description, log file size, log usage size "
            ],
            "metadata": {
                "azdata_cell_guid": "1865e037-8ec1-4e38-ae13-82fb024ac3c4"
            }
        },
        {
            "cell_type": "code",
            "source": [
                "SELECT db.[name] AS [Database Name], SUSER_SNAME(db.owner_sid) AS [Database Owner], db.recovery_model_desc AS [Recovery Model], \n",
                "db.state_desc, db.containment_desc, db.log_reuse_wait_desc AS [Log Reuse Wait Description], \n",
                "CONVERT(DECIMAL(18,2), ls.cntr_value/1024.0) AS [Log Size (MB)], CONVERT(DECIMAL(18,2), lu.cntr_value/1024.0) AS [Log Used (MB)],\n",
                "CAST(CAST(lu.cntr_value AS FLOAT) / CAST(ls.cntr_value AS FLOAT)AS DECIMAL(18,2)) * 100 AS [Log Used %], \n",
                "db.[compatibility_level] AS [DB Compatibility Level], \n",
                "db.is_mixed_page_allocation_on, db.page_verify_option_desc AS [Page Verify Option], \n",
                "db.is_auto_create_stats_on, db.is_auto_update_stats_on, db.is_auto_update_stats_async_on, db.is_parameterization_forced, \n",
                "db.snapshot_isolation_state_desc, db.is_read_committed_snapshot_on, db.is_auto_close_on, db.is_auto_shrink_on, \n",
                "db.target_recovery_time_in_seconds, db.is_cdc_enabled, db.is_published, db.is_distributor,\n",
                "db.group_database_id, db.replica_id,db.is_memory_optimized_elevate_to_snapshot_on, \n",
                "db.delayed_durability_desc, db.is_auto_create_stats_incremental_on,\n",
                "db.is_query_store_on, db.is_sync_with_backup, db.is_temporal_history_retention_enabled,\n",
                "db.is_supplemental_logging_enabled, db.is_remote_data_archive_enabled,\n",
                "db.is_encrypted, de.encryption_state, de.percent_complete, de.key_algorithm, de.key_length, db.resource_pool_id      \n",
                "FROM sys.databases AS db WITH (NOLOCK)\n",
                "INNER JOIN sys.dm_os_performance_counters AS lu WITH (NOLOCK)\n",
                "ON db.name = lu.instance_name\n",
                "INNER JOIN sys.dm_os_performance_counters AS ls WITH (NOLOCK)\n",
                "ON db.name = ls.instance_name\n",
                "LEFT OUTER JOIN sys.dm_database_encryption_keys AS de WITH (NOLOCK)\n",
                "ON db.database_id = de.database_id\n",
                "WHERE lu.counter_name LIKE N'Log File(s) Used Size (KB)%' \n",
                "AND ls.counter_name LIKE N'Log File(s) Size (KB)%'\n",
                "AND ls.cntr_value > 0 \n",
                "ORDER BY db.[name] OPTION (RECOMPILE);\n",
                ""
            ],
            "metadata": {
                "azdata_cell_guid": "b2dd7424-47c5-4023-99d3-453e34778de5"
            },
            "outputs": [],
            "execution_count": 0
        },
        {
            "cell_type": "markdown",
            "source": [
                "## Missing Indexes All Databases\n",
                "\n",
                "Missing Indexes for all databases by Index Advantage "
            ],
            "metadata": {
                "azdata_cell_guid": "6d853d4b-501d-44b6-80dc-ed0bec92fbb6"
            }
        },
        {
            "cell_type": "code",
            "source": [
                "SELECT CONVERT(decimal(18,2), user_seeks * avg_total_user_cost * (avg_user_impact * 0.01)) AS [index_advantage],\n",
                "FORMAT(migs.last_user_seek, 'yyyy-MM-dd HH:mm:ss') AS [last_user_seek], \n",
                "mid.[statement] AS [Database.Schema.Table],\n",
                "COUNT(1) OVER(PARTITION BY mid.[statement]) AS [missing_indexes_for_table],\n",
                "COUNT(1) OVER(PARTITION BY mid.[statement], equality_columns) AS [similar_missing_indexes_for_table],\n",
                "mid.equality_columns, mid.inequality_columns, mid.included_columns,\n",
                "migs.unique_compiles, migs.user_seeks, \n",
                "CONVERT(decimal(18,2), migs.avg_total_user_cost) AS [avg_total_user_cost], migs.avg_user_impact \n",
                "FROM sys.dm_db_missing_index_group_stats AS migs WITH (NOLOCK)\n",
                "INNER JOIN sys.dm_db_missing_index_groups AS mig WITH (NOLOCK)\n",
                "ON migs.group_handle = mig.index_group_handle\n",
                "INNER JOIN sys.dm_db_missing_index_details AS mid WITH (NOLOCK)\n",
                "ON mig.index_handle = mid.index_handle\n",
                "ORDER BY index_advantage DESC OPTION (RECOMPILE);\n",
                ""
            ],
            "metadata": {
                "azdata_cell_guid": "87b74d1c-614d-465b-9dab-6feee8ac493f"
            },
            "outputs": [
                {
                    "output_type": "display_data",
                    "data": {
                        "text/html": "(1 row affected)"
                    },
                    "metadata": {}
                },
                {
                    "output_type": "display_data",
                    "data": {
                        "text/html": "Total execution time: 00:00:14.536"
                    },
                    "metadata": {}
                },
                {
                    "output_type": "execute_result",
                    "metadata": {},
                    "execution_count": 15,
                    "data": {
                        "application/vnd.dataresource+json": {
                            "schema": {
                                "fields": [
                                    {
                                        "name": "index_advantage"
                                    },
                                    {
                                        "name": "last_user_seek"
                                    },
                                    {
                                        "name": "Database.Schema.Table"
                                    },
                                    {
                                        "name": "missing_indexes_for_table"
                                    },
                                    {
                                        "name": "similar_missing_indexes_for_table"
                                    },
                                    {
                                        "name": "equality_columns"
                                    },
                                    {
                                        "name": "inequality_columns"
                                    },
                                    {
                                        "name": "included_columns"
                                    },
                                    {
                                        "name": "unique_compiles"
                                    },
                                    {
                                        "name": "user_seeks"
                                    },
                                    {
                                        "name": "avg_total_user_cost"
                                    },
                                    {
                                        "name": "avg_user_impact"
                                    }
                                ]
                            },
                            "data": [
                                {
                                    "0": "20,89",
                                    "1": "2020-01-27 14:15:04",
                                    "2": "[msdb].[dbo].[syscollector_execution_log_internal]",
                                    "3": "1",
                                    "4": "1",
                                    "5": "[parent_log_id], [collection_set_id]",
                                    "6": "NULL",
                                    "7": "NULL",
                                    "8": "16",
                                    "9": "40",
                                    "10": "0,54",
                                    "11": "97,17"
                                }
                            ]
                        },
                        "text/html": "<table><tr><th>index_advantage</th><th>last_user_seek</th><th>Database.Schema.Table</th><th>missing_indexes_for_table</th><th>similar_missing_indexes_for_table</th><th>equality_columns</th><th>inequality_columns</th><th>included_columns</th><th>unique_compiles</th><th>user_seeks</th><th>avg_total_user_cost</th><th>avg_user_impact</th></tr><tr><td>20,89</td><td>2020-01-27 14:15:04</td><td>[msdb].[dbo].[syscollector_execution_log_internal]</td><td>1</td><td>1</td><td>[parent_log_id], [collection_set_id]</td><td>NULL</td><td>NULL</td><td>16</td><td>40</td><td>0,54</td><td>97,17</td></tr></table>"
                    }
                }
            ],
            "execution_count": 15
        },
        {
            "cell_type": "markdown",
            "source": [
                "## VLF Counts\n",
                "\n",
                "Get VLF Counts for all databases on the instance"
            ],
            "metadata": {
                "azdata_cell_guid": "4e87ec93-e6c1-421d-8e32-3ed34bdcd070"
            }
        },
        {
            "cell_type": "code",
            "source": [
                "SELECT [name] AS [Database Name], [VLF Count]\n",
                "FROM sys.databases AS db WITH (NOLOCK)\n",
                "CROSS APPLY (SELECT file_id, COUNT(*) AS [VLF Count]\n",
                "\t\t     FROM sys.dm_db_log_info(db.database_id)\n",
                "\t\t\t GROUP BY file_id) AS li\n",
                "ORDER BY [VLF Count] DESC OPTION (RECOMPILE);\n",
                ""
            ],
            "metadata": {
                "azdata_cell_guid": "bb121cab-9e1b-42d9-93c8-ffc3d930ce76"
            },
            "outputs": [],
            "execution_count": 0
        },
        {
            "cell_type": "markdown",
            "source": [
                "## CPU Usage by Database\n",
                "\n",
                "Get CPU utilization by database"
            ],
            "metadata": {
                "azdata_cell_guid": "d12bab38-528c-4731-8499-7ce855405f22"
            }
        },
        {
            "cell_type": "code",
            "source": [
                "WITH DB_CPU_Stats\n",
                "AS\n",
                "(SELECT pa.DatabaseID, DB_Name(pa.DatabaseID) AS [Database Name], SUM(qs.total_worker_time/1000) AS [CPU_Time_Ms]\n",
                " FROM sys.dm_exec_query_stats AS qs WITH (NOLOCK)\n",
                " CROSS APPLY (SELECT CONVERT(int, value) AS [DatabaseID] \n",
                "              FROM sys.dm_exec_plan_attributes(qs.plan_handle)\n",
                "              WHERE attribute = N'dbid') AS pa\n",
                " GROUP BY DatabaseID)\n",
                "SELECT ROW_NUMBER() OVER(ORDER BY [CPU_Time_Ms] DESC) AS [CPU Rank],\n",
                "       [Database Name], [CPU_Time_Ms] AS [CPU Time (ms)], \n",
                "       CAST([CPU_Time_Ms] * 1.0 / SUM([CPU_Time_Ms]) OVER() * 100.0 AS DECIMAL(5, 2)) AS [CPU Percent]\n",
                "FROM DB_CPU_Stats\n",
                "WHERE DatabaseID <> 32767 -- ResourceDB\n",
                "ORDER BY [CPU Rank] OPTION (RECOMPILE);\n",
                ""
            ],
            "metadata": {
                "azdata_cell_guid": "72e4f111-67d8-4766-82cc-3c05c8de10d6"
            },
            "outputs": [
                {
                    "output_type": "display_data",
                    "data": {
                        "text/html": "(0 rows affected)"
                    },
                    "metadata": {}
                },
                {
                    "output_type": "display_data",
                    "data": {
                        "text/html": "Total execution time: 00:00:00.131"
                    },
                    "metadata": {}
                },
                {
                    "output_type": "execute_result",
                    "metadata": {},
                    "execution_count": 16,
                    "data": {
                        "application/vnd.dataresource+json": {
                            "schema": {
                                "fields": [
                                    {
                                        "name": "CPU Rank"
                                    },
                                    {
                                        "name": "Database Name"
                                    },
                                    {
                                        "name": "CPU Time (ms)"
                                    },
                                    {
                                        "name": "CPU Percent"
                                    }
                                ]
                            },
                            "data": []
                        },
                        "text/html": "<table><tr><th>CPU Rank</th><th>Database Name</th><th>CPU Time (ms)</th><th>CPU Percent</th></tr></table>"
                    }
                }
            ],
            "execution_count": 16
        },
        {
            "cell_type": "markdown",
            "source": [
                "## IO Usage By Database\n",
                "\n",
                "Get I/O utilization by database"
            ],
            "metadata": {
                "azdata_cell_guid": "f19ba778-8edd-4b7f-90f2-94e7f702bb2e"
            }
        },
        {
            "cell_type": "code",
            "source": [
                "WITH Aggregate_IO_Statistics\n",
                "AS (SELECT DB_NAME(database_id) AS [Database Name],\n",
                "    CAST(SUM(num_of_bytes_read + num_of_bytes_written) / 1048576 AS DECIMAL(12, 2)) AS [ioTotalMB],\n",
                "    CAST(SUM(num_of_bytes_read ) / 1048576 AS DECIMAL(12, 2)) AS [ioReadMB],\n",
                "    CAST(SUM(num_of_bytes_written) / 1048576 AS DECIMAL(12, 2)) AS [ioWriteMB]\n",
                "    FROM sys.dm_io_virtual_file_stats(NULL, NULL) AS [DM_IO_STATS]\n",
                "    GROUP BY database_id)\n",
                "SELECT ROW_NUMBER() OVER (ORDER BY ioTotalMB DESC) AS [I/O Rank],\n",
                "        [Database Name], ioTotalMB AS [Total I/O (MB)],\n",
                "        CAST(ioTotalMB / SUM(ioTotalMB) OVER () * 100.0 AS DECIMAL(5, 2)) AS [Total I/O %],\n",
                "        ioReadMB AS [Read I/O (MB)], \n",
                "\t\tCAST(ioReadMB / SUM(ioReadMB) OVER () * 100.0 AS DECIMAL(5, 2)) AS [Read I/O %],\n",
                "        ioWriteMB AS [Write I/O (MB)], \n",
                "\t\tCAST(ioWriteMB / SUM(ioWriteMB) OVER () * 100.0 AS DECIMAL(5, 2)) AS [Write I/O %]\n",
                "FROM Aggregate_IO_Statistics\n",
                "ORDER BY [I/O Rank] OPTION (RECOMPILE);\n",
                ""
            ],
            "metadata": {
                "azdata_cell_guid": "c8531f4b-2edd-41ac-8511-4150ad37da54",
                "tags": [
                    "hide_input"
                ]
            },
            "outputs": [
                {
                    "output_type": "display_data",
                    "data": {
                        "text/html": "(6 rows affected)"
                    },
                    "metadata": {}
                },
                {
                    "output_type": "display_data",
                    "data": {
                        "text/html": "Total execution time: 00:00:25.756"
                    },
                    "metadata": {}
                },
                {
                    "output_type": "execute_result",
                    "metadata": {},
                    "execution_count": 17,
                    "data": {
                        "application/vnd.dataresource+json": {
                            "schema": {
                                "fields": [
                                    {
                                        "name": "I/O Rank"
                                    },
                                    {
                                        "name": "Database Name"
                                    },
                                    {
                                        "name": "Total I/O (MB)"
                                    },
                                    {
                                        "name": "Total I/O %"
                                    },
                                    {
                                        "name": "Read I/O (MB)"
                                    },
                                    {
                                        "name": "Read I/O %"
                                    },
                                    {
                                        "name": "Write I/O (MB)"
                                    },
                                    {
                                        "name": "Write I/O %"
                                    }
                                ]
                            },
                            "data": [
                                {
                                    "0": "1",
                                    "1": "mdw",
                                    "2": "4714,00",
                                    "3": "78,96",
                                    "4": "2714,00",
                                    "5": "69,50",
                                    "6": "2000,00",
                                    "7": "96,90"
                                },
                                {
                                    "0": "2",
                                    "1": "msdb",
                                    "2": "915,00",
                                    "3": "15,33",
                                    "4": "894,00",
                                    "5": "22,89",
                                    "6": "20,00",
                                    "7": "0,97"
                                },
                                {
                                    "0": "3",
                                    "1": "master",
                                    "2": "158,00",
                                    "3": "2,65",
                                    "4": "148,00",
                                    "5": "3,79",
                                    "6": "10,00",
                                    "7": "0,48"
                                },
                                {
                                    "0": "4",
                                    "1": "tempdb",
                                    "2": "146,00",
                                    "3": "2,45",
                                    "4": "112,00",
                                    "5": "2,87",
                                    "6": "34,00",
                                    "7": "1,65"
                                },
                                {
                                    "0": "5",
                                    "1": "SSISDB",
                                    "2": "22,00",
                                    "3": "0,37",
                                    "4": "22,00",
                                    "5": "0,56",
                                    "6": "0,00",
                                    "7": "0,00"
                                },
                                {
                                    "0": "6",
                                    "1": "model",
                                    "2": "15,00",
                                    "3": "0,25",
                                    "4": "15,00",
                                    "5": "0,38",
                                    "6": "0,00",
                                    "7": "0,00"
                                }
                            ]
                        },
                        "text/html": "<table><tr><th>I/O Rank</th><th>Database Name</th><th>Total I/O (MB)</th><th>Total I/O %</th><th>Read I/O (MB)</th><th>Read I/O %</th><th>Write I/O (MB)</th><th>Write I/O %</th></tr><tr><td>1</td><td>mdw</td><td>4714,00</td><td>78,96</td><td>2714,00</td><td>69,50</td><td>2000,00</td><td>96,90</td></tr><tr><td>2</td><td>msdb</td><td>915,00</td><td>15,33</td><td>894,00</td><td>22,89</td><td>20,00</td><td>0,97</td></tr><tr><td>3</td><td>master</td><td>158,00</td><td>2,65</td><td>148,00</td><td>3,79</td><td>10,00</td><td>0,48</td></tr><tr><td>4</td><td>tempdb</td><td>146,00</td><td>2,45</td><td>112,00</td><td>2,87</td><td>34,00</td><td>1,65</td></tr><tr><td>5</td><td>SSISDB</td><td>22,00</td><td>0,37</td><td>22,00</td><td>0,56</td><td>0,00</td><td>0,00</td></tr><tr><td>6</td><td>model</td><td>15,00</td><td>0,25</td><td>15,00</td><td>0,38</td><td>0,00</td><td>0,00</td></tr></table>"
                    }
                }
            ],
            "execution_count": 17
        },
        {
            "cell_type": "markdown",
            "source": [
                "## Total Buffer Usage by Database\n",
                "\n",
                "Get total buffer usage by database for current instance "
            ],
            "metadata": {
                "azdata_cell_guid": "bd804004-892f-475a-aa5d-e9cbc3c1b35e"
            }
        },
        {
            "cell_type": "code",
            "source": [
                "WITH AggregateBufferPoolUsage\n",
                "AS\n",
                "(SELECT DB_NAME(database_id) AS [Database Name],\n",
                "CAST(COUNT(*) * 8/1024.0 AS DECIMAL (10,2))  AS [CachedSize]\n",
                "FROM sys.dm_os_buffer_descriptors WITH (NOLOCK)\n",
                "WHERE database_id <> 32767 -- ResourceDB\n",
                "GROUP BY DB_NAME(database_id))\n",
                "SELECT ROW_NUMBER() OVER(ORDER BY CachedSize DESC) AS [Buffer Pool Rank], [Database Name], CachedSize AS [Cached Size (MB)],\n",
                "       CAST(CachedSize / SUM(CachedSize) OVER() * 100.0 AS DECIMAL(5,2)) AS [Buffer Pool Percent]\n",
                "FROM AggregateBufferPoolUsage\n",
                "ORDER BY [Buffer Pool Rank] OPTION (RECOMPILE);\n",
                ""
            ],
            "metadata": {
                "azdata_cell_guid": "6b78a7d5-36df-4e4e-a004-b3194d6275e8"
            },
            "outputs": [],
            "execution_count": 0
        },
        {
            "cell_type": "markdown",
            "source": [
                "## Version Store Space Usage\n",
                "\n",
                "Get tempdb version store space usage by database"
            ],
            "metadata": {
                "azdata_cell_guid": "584f0513-e501-49b4-9385-a4ea4ce4650b"
            }
        },
        {
            "cell_type": "code",
            "source": [
                "SELECT DB_NAME(database_id) AS [Database Name],\n",
                "       reserved_page_count AS [Version Store Reserved Page Count], \n",
                "\t   reserved_space_kb/1024 AS [Version Store Reserved Space (MB)] \n",
                "FROM sys.dm_tran_version_store_space_usage WITH (NOLOCK) \n",
                "ORDER BY reserved_space_kb/1024 DESC OPTION (RECOMPILE);\n",
                ""
            ],
            "metadata": {
                "azdata_cell_guid": "fff164fa-318f-46b5-acc8-e05347d1a0aa"
            },
            "outputs": [],
            "execution_count": 0
        },
        {
            "cell_type": "markdown",
            "source": [
                "## Top Waits\n",
                "\n",
                "Isolate top waits for server instance since last restart or wait statistics clear "
            ],
            "metadata": {
                "azdata_cell_guid": "77b45d9c-e704-4cd0-893d-48845de66b07"
            }
        },
        {
            "cell_type": "code",
            "source": [
                "WITH [Waits] \n",
                "AS (SELECT wait_type, wait_time_ms/ 1000.0 AS [WaitS],\n",
                "          (wait_time_ms - signal_wait_time_ms) / 1000.0 AS [ResourceS],\n",
                "           signal_wait_time_ms / 1000.0 AS [SignalS],\n",
                "           waiting_tasks_count AS [WaitCount],\n",
                "           100.0 *  wait_time_ms / SUM (wait_time_ms) OVER() AS [Percentage],\n",
                "           ROW_NUMBER() OVER(ORDER BY wait_time_ms DESC) AS [RowNum]\n",
                "    FROM sys.dm_os_wait_stats WITH (NOLOCK)\n",
                "    WHERE [wait_type] NOT IN (\n",
                "        N'BROKER_EVENTHANDLER', N'BROKER_RECEIVE_WAITFOR', N'BROKER_TASK_STOP',\n",
                "\t\tN'BROKER_TO_FLUSH', N'BROKER_TRANSMITTER', N'CHECKPOINT_QUEUE',\n",
                "        N'CHKPT', N'CLR_AUTO_EVENT', N'CLR_MANUAL_EVENT', N'CLR_SEMAPHORE', N'CXCONSUMER',\n",
                "        N'DBMIRROR_DBM_EVENT', N'DBMIRROR_EVENTS_QUEUE', N'DBMIRROR_WORKER_QUEUE',\n",
                "\t\tN'DBMIRRORING_CMD', N'DIRTY_PAGE_POLL', N'DISPATCHER_QUEUE_SEMAPHORE',\n",
                "        N'EXECSYNC', N'FSAGENT', N'FT_IFTS_SCHEDULER_IDLE_WAIT', N'FT_IFTSHC_MUTEX',\n",
                "        N'HADR_CLUSAPI_CALL', N'HADR_FILESTREAM_IOMGR_IOCOMPLETION', N'HADR_LOGCAPTURE_WAIT', \n",
                "\t\tN'HADR_NOTIFICATION_DEQUEUE', N'HADR_TIMER_TASK', N'HADR_WORK_QUEUE',\n",
                "        N'KSOURCE_WAKEUP', N'LAZYWRITER_SLEEP', N'LOGMGR_QUEUE', \n",
                "\t\tN'MEMORY_ALLOCATION_EXT', N'ONDEMAND_TASK_QUEUE',\n",
                "\t\tN'PARALLEL_REDO_DRAIN_WORKER', N'PARALLEL_REDO_LOG_CACHE', N'PARALLEL_REDO_TRAN_LIST',\n",
                "\t\tN'PARALLEL_REDO_WORKER_SYNC', N'PARALLEL_REDO_WORKER_WAIT_WORK',\n",
                "\t\tN'PREEMPTIVE_HADR_LEASE_MECHANISM', N'PREEMPTIVE_SP_SERVER_DIAGNOSTICS',\n",
                "\t\tN'PREEMPTIVE_OS_LIBRARYOPS', N'PREEMPTIVE_OS_COMOPS', N'PREEMPTIVE_OS_CRYPTOPS',\n",
                "\t\tN'PREEMPTIVE_OS_PIPEOPS', N'PREEMPTIVE_OS_AUTHENTICATIONOPS',\n",
                "\t\tN'PREEMPTIVE_OS_GENERICOPS', N'PREEMPTIVE_OS_VERIFYTRUST',\n",
                "\t\tN'PREEMPTIVE_OS_FILEOPS', N'PREEMPTIVE_OS_DEVICEOPS', N'PREEMPTIVE_OS_QUERYREGISTRY',\n",
                "\t\tN'PREEMPTIVE_OS_WRITEFILE',\n",
                "\t\tN'PREEMPTIVE_XE_CALLBACKEXECUTE', N'PREEMPTIVE_XE_DISPATCHER',\n",
                "\t\tN'PREEMPTIVE_XE_GETTARGETSTATE', N'PREEMPTIVE_XE_SESSIONCOMMIT',\n",
                "\t\tN'PREEMPTIVE_XE_TARGETINIT', N'PREEMPTIVE_XE_TARGETFINALIZE',\n",
                "        N'PWAIT_ALL_COMPONENTS_INITIALIZED', N'PWAIT_DIRECTLOGCONSUMER_GETNEXT',\n",
                "\t\tN'QDS_PERSIST_TASK_MAIN_LOOP_SLEEP',\n",
                "\t\tN'QDS_ASYNC_QUEUE',\n",
                "        N'QDS_CLEANUP_STALE_QUERIES_TASK_MAIN_LOOP_SLEEP', N'REQUEST_FOR_DEADLOCK_SEARCH',\n",
                "\t\tN'RESOURCE_QUEUE', N'SERVER_IDLE_CHECK', N'SLEEP_BPOOL_FLUSH', N'SLEEP_DBSTARTUP',\n",
                "\t\tN'SLEEP_DCOMSTARTUP', N'SLEEP_MASTERDBREADY', N'SLEEP_MASTERMDREADY',\n",
                "        N'SLEEP_MASTERUPGRADED', N'SLEEP_MSDBSTARTUP', N'SLEEP_SYSTEMTASK', N'SLEEP_TASK',\n",
                "        N'SLEEP_TEMPDBSTARTUP', N'SNI_HTTP_ACCEPT', N'SP_SERVER_DIAGNOSTICS_SLEEP',\n",
                "\t\tN'SQLTRACE_BUFFER_FLUSH', N'SQLTRACE_INCREMENTAL_FLUSH_SLEEP', N'SQLTRACE_WAIT_ENTRIES',\n",
                "\t\tN'WAIT_FOR_RESULTS', N'WAITFOR', N'WAITFOR_TASKSHUTDOWN', N'WAIT_XTP_HOST_WAIT',\n",
                "\t\tN'WAIT_XTP_OFFLINE_CKPT_NEW_LOG', N'WAIT_XTP_CKPT_CLOSE', N'WAIT_XTP_RECOVERY',\n",
                "\t\tN'XE_BUFFERMGR_ALLPROCESSED_EVENT', N'XE_DISPATCHER_JOIN',\n",
                "        N'XE_DISPATCHER_WAIT', N'XE_LIVE_TARGET_TVF', N'XE_TIMER_EVENT')\n",
                "    AND waiting_tasks_count > 0)\n",
                "SELECT\n",
                "    MAX (W1.wait_type) AS [WaitType],\n",
                "\tCAST (MAX (W1.Percentage) AS DECIMAL (5,2)) AS [Wait Percentage],\n",
                "\tCAST ((MAX (W1.WaitS) / MAX (W1.WaitCount)) AS DECIMAL (16,4)) AS [AvgWait_Sec],\n",
                "    CAST ((MAX (W1.ResourceS) / MAX (W1.WaitCount)) AS DECIMAL (16,4)) AS [AvgRes_Sec],\n",
                "    CAST ((MAX (W1.SignalS) / MAX (W1.WaitCount)) AS DECIMAL (16,4)) AS [AvgSig_Sec], \n",
                "    CAST (MAX (W1.WaitS) AS DECIMAL (16,2)) AS [Wait_Sec],\n",
                "    CAST (MAX (W1.ResourceS) AS DECIMAL (16,2)) AS [Resource_Sec],\n",
                "    CAST (MAX (W1.SignalS) AS DECIMAL (16,2)) AS [Signal_Sec],\n",
                "    MAX (W1.WaitCount) AS [Wait Count],\n",
                "\tCAST (N'https://www.sqlskills.com/help/waits/' + W1.wait_type AS XML) AS [Help/Info URL]\n",
                "FROM Waits AS W1\n",
                "INNER JOIN Waits AS W2\n",
                "ON W2.RowNum <= W1.RowNum\n",
                "GROUP BY W1.RowNum, W1.wait_type\n",
                "HAVING SUM (W2.Percentage) - MAX (W1.Percentage) < 99 -- percentage threshold\n",
                "OPTION (RECOMPILE);\n",
                ""
            ],
            "metadata": {
                "azdata_cell_guid": "e4c35c53-7c56-4f43-b006-aa40d2cfdce5",
                "tags": [
                    "hide_input"
                ]
            },
            "outputs": [
                {
                    "output_type": "display_data",
                    "data": {
                        "text/html": "(10 rows affected)"
                    },
                    "metadata": {}
                },
                {
                    "output_type": "display_data",
                    "data": {
                        "text/html": "Total execution time: 00:00:22.912"
                    },
                    "metadata": {}
                },
                {
                    "output_type": "execute_result",
                    "metadata": {},
                    "execution_count": 18,
                    "data": {
                        "application/vnd.dataresource+json": {
                            "schema": {
                                "fields": [
                                    {
                                        "name": "WaitType"
                                    },
                                    {
                                        "name": "Wait Percentage"
                                    },
                                    {
                                        "name": "AvgWait_Sec"
                                    },
                                    {
                                        "name": "AvgRes_Sec"
                                    },
                                    {
                                        "name": "AvgSig_Sec"
                                    },
                                    {
                                        "name": "Wait_Sec"
                                    },
                                    {
                                        "name": "Resource_Sec"
                                    },
                                    {
                                        "name": "Signal_Sec"
                                    },
                                    {
                                        "name": "Wait Count"
                                    },
                                    {
                                        "name": "Help/Info URL"
                                    }
                                ]
                            },
                            "data": [
                                {
                                    "0": "RESOURCE_SEMAPHORE",
                                    "1": "81,76",
                                    "2": "23,5477",
                                    "3": "23,5306",
                                    "4": "0,0171",
                                    "5": "3720,53",
                                    "6": "3717,83",
                                    "7": "2,70",
                                    "8": "158",
                                    "9": "https://www.sqlskills.com/help/waits/RESOURCE_SEMAPHORE"
                                },
                                {
                                    "0": "PAGEIOLATCH_SH",
                                    "1": "5,17",
                                    "2": "0,0038",
                                    "3": "0,0024",
                                    "4": "0,0015",
                                    "5": "235,04",
                                    "6": "145,62",
                                    "7": "89,43",
                                    "8": "61511",
                                    "9": "https://www.sqlskills.com/help/waits/PAGEIOLATCH_SH"
                                },
                                {
                                    "0": "RESOURCE_SEMAPHORE_QUERY_COMPILE",
                                    "1": "4,65",
                                    "2": "1,5016",
                                    "3": "1,4976",
                                    "4": "0,0040",
                                    "5": "211,73",
                                    "6": "211,16",
                                    "7": "0,57",
                                    "8": "141",
                                    "9": "https://www.sqlskills.com/help/waits/RESOURCE_SEMAPHORE_QUERY_COMPILE"
                                },
                                {
                                    "0": "LCK_M_X",
                                    "1": "2,82",
                                    "2": "0,3203",
                                    "3": "0,3193",
                                    "4": "0,0010",
                                    "5": "128,13",
                                    "6": "127,74",
                                    "7": "0,39",
                                    "8": "400",
                                    "9": "https://www.sqlskills.com/help/waits/LCK_M_X"
                                },
                                {
                                    "0": "SOS_SCHEDULER_YIELD",
                                    "1": "1,24",
                                    "2": "0,0007",
                                    "3": "0,0000",
                                    "4": "0,0007",
                                    "5": "56,21",
                                    "6": "0,22",
                                    "7": "55,99",
                                    "8": "76962",
                                    "9": "https://www.sqlskills.com/help/waits/SOS_SCHEDULER_YIELD"
                                },
                                {
                                    "0": "PAGEIOLATCH_EX",
                                    "1": "0,99",
                                    "2": "0,0009",
                                    "3": "0,0008",
                                    "4": "0,0001",
                                    "5": "44,90",
                                    "6": "40,92",
                                    "7": "3,98",
                                    "8": "49315",
                                    "9": "https://www.sqlskills.com/help/waits/PAGEIOLATCH_EX"
                                },
                                {
                                    "0": "ASYNC_NETWORK_IO",
                                    "1": "0,86",
                                    "2": "0,0007",
                                    "3": "0,0006",
                                    "4": "0,0002",
                                    "5": "39,14",
                                    "6": "29,27",
                                    "7": "9,87",
                                    "8": "52406",
                                    "9": "https://www.sqlskills.com/help/waits/ASYNC_NETWORK_IO"
                                },
                                {
                                    "0": "WRITELOG",
                                    "1": "0,79",
                                    "2": "0,0014",
                                    "3": "0,0011",
                                    "4": "0,0003",
                                    "5": "36,17",
                                    "6": "28,48",
                                    "7": "7,70",
                                    "8": "26403",
                                    "9": "https://www.sqlskills.com/help/waits/WRITELOG"
                                },
                                {
                                    "0": "SLEEP_BUFFERPOOL_HELPLW",
                                    "1": "0,60",
                                    "2": "0,0025",
                                    "3": "0,0023",
                                    "4": "0,0001",
                                    "5": "27,16",
                                    "6": "25,75",
                                    "7": "1,41",
                                    "8": "11005",
                                    "9": "https://www.sqlskills.com/help/waits/SLEEP_BUFFERPOOL_HELPLW"
                                },
                                {
                                    "0": "LCK_M_SCH_M",
                                    "1": "0,24",
                                    "2": "0,0435",
                                    "3": "0,0422",
                                    "4": "0,0013",
                                    "5": "11,05",
                                    "6": "10,72",
                                    "7": "0,33",
                                    "8": "254",
                                    "9": "https://www.sqlskills.com/help/waits/LCK_M_SCH_M"
                                }
                            ]
                        },
                        "text/html": "<table><tr><th>WaitType</th><th>Wait Percentage</th><th>AvgWait_Sec</th><th>AvgRes_Sec</th><th>AvgSig_Sec</th><th>Wait_Sec</th><th>Resource_Sec</th><th>Signal_Sec</th><th>Wait Count</th><th>Help/Info URL</th></tr><tr><td>RESOURCE_SEMAPHORE</td><td>81,76</td><td>23,5477</td><td>23,5306</td><td>0,0171</td><td>3720,53</td><td>3717,83</td><td>2,70</td><td>158</td><td>https://www.sqlskills.com/help/waits/RESOURCE_SEMAPHORE</td></tr><tr><td>PAGEIOLATCH_SH</td><td>5,17</td><td>0,0038</td><td>0,0024</td><td>0,0015</td><td>235,04</td><td>145,62</td><td>89,43</td><td>61511</td><td>https://www.sqlskills.com/help/waits/PAGEIOLATCH_SH</td></tr><tr><td>RESOURCE_SEMAPHORE_QUERY_COMPILE</td><td>4,65</td><td>1,5016</td><td>1,4976</td><td>0,0040</td><td>211,73</td><td>211,16</td><td>0,57</td><td>141</td><td>https://www.sqlskills.com/help/waits/RESOURCE_SEMAPHORE_QUERY_COMPILE</td></tr><tr><td>LCK_M_X</td><td>2,82</td><td>0,3203</td><td>0,3193</td><td>0,0010</td><td>128,13</td><td>127,74</td><td>0,39</td><td>400</td><td>https://www.sqlskills.com/help/waits/LCK_M_X</td></tr><tr><td>SOS_SCHEDULER_YIELD</td><td>1,24</td><td>0,0007</td><td>0,0000</td><td>0,0007</td><td>56,21</td><td>0,22</td><td>55,99</td><td>76962</td><td>https://www.sqlskills.com/help/waits/SOS_SCHEDULER_YIELD</td></tr><tr><td>PAGEIOLATCH_EX</td><td>0,99</td><td>0,0009</td><td>0,0008</td><td>0,0001</td><td>44,90</td><td>40,92</td><td>3,98</td><td>49315</td><td>https://www.sqlskills.com/help/waits/PAGEIOLATCH_EX</td></tr><tr><td>ASYNC_NETWORK_IO</td><td>0,86</td><td>0,0007</td><td>0,0006</td><td>0,0002</td><td>39,14</td><td>29,27</td><td>9,87</td><td>52406</td><td>https://www.sqlskills.com/help/waits/ASYNC_NETWORK_IO</td></tr><tr><td>WRITELOG</td><td>0,79</td><td>0,0014</td><td>0,0011</td><td>0,0003</td><td>36,17</td><td>28,48</td><td>7,70</td><td>26403</td><td>https://www.sqlskills.com/help/waits/WRITELOG</td></tr><tr><td>SLEEP_BUFFERPOOL_HELPLW</td><td>0,60</td><td>0,0025</td><td>0,0023</td><td>0,0001</td><td>27,16</td><td>25,75</td><td>1,41</td><td>11005</td><td>https://www.sqlskills.com/help/waits/SLEEP_BUFFERPOOL_HELPLW</td></tr><tr><td>LCK_M_SCH_M</td><td>0,24</td><td>0,0435</td><td>0,0422</td><td>0,0013</td><td>11,05</td><td>10,72</td><td>0,33</td><td>254</td><td>https://www.sqlskills.com/help/waits/LCK_M_SCH_M</td></tr></table>"
                    }
                }
            ],
            "execution_count": 18
        },
        {
            "cell_type": "markdown",
            "source": [
                "## Connection Counts by IP Address\n",
                "\n",
                "Get a count of SQL connections by IP address"
            ],
            "metadata": {
                "azdata_cell_guid": "d66d67c8-838a-4131-aeb1-d4d72512f7e6"
            }
        },
        {
            "cell_type": "code",
            "source": [
                "SELECT ec.client_net_address, es.[program_name], es.[host_name], es.login_name, \n",
                "COUNT(ec.session_id) AS [connection count] \n",
                "FROM sys.dm_exec_sessions AS es WITH (NOLOCK) \n",
                "INNER JOIN sys.dm_exec_connections AS ec WITH (NOLOCK) \n",
                "ON es.session_id = ec.session_id \n",
                "GROUP BY ec.client_net_address, es.[program_name], es.[host_name], es.login_name  \n",
                "ORDER BY ec.client_net_address, es.[program_name] OPTION (RECOMPILE);\n",
                ""
            ],
            "metadata": {
                "azdata_cell_guid": "ecbb7053-0bc2-4f92-b269-87aad04a3a94"
            },
            "outputs": [],
            "execution_count": 0
        },
        {
            "cell_type": "markdown",
            "source": [
                "## Avg Task Counts\n",
                "\n",
                "Get Average Task Counts (run multiple times) "
            ],
            "metadata": {
                "azdata_cell_guid": "4aed76b7-89a0-477d-baa0-f3e287d4e0fc"
            }
        },
        {
            "cell_type": "code",
            "source": [
                "SELECT AVG(current_tasks_count) AS [Avg Task Count], \n",
                "AVG(work_queue_count) AS [Avg Work Queue Count],\n",
                "AVG(runnable_tasks_count) AS [Avg Runnable Task Count],\n",
                "AVG(pending_disk_io_count) AS [Avg Pending DiskIO Count]\n",
                "FROM sys.dm_os_schedulers WITH (NOLOCK)\n",
                "WHERE scheduler_id < 255 OPTION (RECOMPILE);\n",
                ""
            ],
            "metadata": {
                "azdata_cell_guid": "4e90f6d8-d250-4013-9a33-aa63f12ce022"
            },
            "outputs": [],
            "execution_count": 0
        },
        {
            "cell_type": "markdown",
            "source": [
                "## Detect Blocking\n",
                "\n",
                "Detect blocking (run multiple times) "
            ],
            "metadata": {
                "azdata_cell_guid": "76b18f48-bd25-4ee5-910e-e51752c5ad25"
            }
        },
        {
            "cell_type": "code",
            "source": [
                "SELECT t1.resource_type AS [lock type], DB_NAME(resource_database_id) AS [database],\n",
                "t1.resource_associated_entity_id AS [blk object],t1.request_mode AS [lock req],  -- lock requested\n",
                "t1.request_session_id AS [waiter sid], t2.wait_duration_ms AS [wait time],       -- spid of waiter  \n",
                "(SELECT [text] FROM sys.dm_exec_requests AS r WITH (NOLOCK)                      -- get sql for waiter\n",
                "CROSS APPLY sys.dm_exec_sql_text(r.[sql_handle]) \n",
                "WHERE r.session_id = t1.request_session_id) AS [waiter_batch],\n",
                "(SELECT SUBSTRING(qt.[text],r.statement_start_offset/2, \n",
                "    (CASE WHEN r.statement_end_offset = -1 \n",
                "    THEN LEN(CONVERT(nvarchar(max), qt.[text])) * 2 \n",
                "    ELSE r.statement_end_offset END - r.statement_start_offset)/2) \n",
                "FROM sys.dm_exec_requests AS r WITH (NOLOCK)\n",
                "CROSS APPLY sys.dm_exec_sql_text(r.[sql_handle]) AS qt\n",
                "WHERE r.session_id = t1.request_session_id) AS [waiter_stmt],\t\t\t\t\t-- statement blocked\n",
                "t2.blocking_session_id AS [blocker sid],\t\t\t\t\t\t\t\t\t\t-- spid of blocker\n",
                "(SELECT [text] FROM sys.sysprocesses AS p\t\t\t\t\t\t\t\t\t\t-- get sql for blocker\n",
                "CROSS APPLY sys.dm_exec_sql_text(p.[sql_handle]) \n",
                "WHERE p.spid = t2.blocking_session_id) AS [blocker_batch]\n",
                "FROM sys.dm_tran_locks AS t1 WITH (NOLOCK)\n",
                "INNER JOIN sys.dm_os_waiting_tasks AS t2 WITH (NOLOCK)\n",
                "ON t1.lock_owner_address = t2.resource_address OPTION (RECOMPILE);\n",
                ""
            ],
            "metadata": {
                "azdata_cell_guid": "36bf17bd-0bcf-4f7d-ab73-16fb254eb5e4"
            },
            "outputs": [
                {
                    "output_type": "display_data",
                    "data": {
                        "text/html": "(0 rows affected)"
                    },
                    "metadata": {}
                },
                {
                    "output_type": "display_data",
                    "data": {
                        "text/html": "Total execution time: 00:00:00.050"
                    },
                    "metadata": {}
                },
                {
                    "output_type": "execute_result",
                    "metadata": {},
                    "execution_count": 19,
                    "data": {
                        "application/vnd.dataresource+json": {
                            "schema": {
                                "fields": [
                                    {
                                        "name": "lock type"
                                    },
                                    {
                                        "name": "database"
                                    },
                                    {
                                        "name": "blk object"
                                    },
                                    {
                                        "name": "lock req"
                                    },
                                    {
                                        "name": "waiter sid"
                                    },
                                    {
                                        "name": "wait time"
                                    },
                                    {
                                        "name": "waiter_batch"
                                    },
                                    {
                                        "name": "waiter_stmt"
                                    },
                                    {
                                        "name": "blocker sid"
                                    },
                                    {
                                        "name": "blocker_batch"
                                    }
                                ]
                            },
                            "data": []
                        },
                        "text/html": "<table><tr><th>lock type</th><th>database</th><th>blk object</th><th>lock req</th><th>waiter sid</th><th>wait time</th><th>waiter_batch</th><th>waiter_stmt</th><th>blocker sid</th><th>blocker_batch</th></tr></table>"
                    }
                }
            ],
            "execution_count": 19
        },
        {
            "cell_type": "markdown",
            "source": [
                "## CPU Utilization History\n",
                "\n",
                "Get CPU Utilization History for last 256 minutes (in one minute intervals) "
            ],
            "metadata": {
                "azdata_cell_guid": "69f36665-88ac-49bd-89a4-309d9bf884f9"
            }
        },
        {
            "cell_type": "code",
            "source": [
                "DECLARE @ts_now bigint = (SELECT cpu_ticks/(cpu_ticks/ms_ticks) FROM sys.dm_os_sys_info WITH (NOLOCK)); \n",
                "SELECT TOP(256) SQLProcessUtilization AS [SQL Server Process CPU Utilization], \n",
                "               SystemIdle AS [System Idle Process], \n",
                "               100 - SystemIdle - SQLProcessUtilization AS [Other Process CPU Utilization], \n",
                "               DATEADD(ms, -1 * (@ts_now - [timestamp]), GETDATE()) AS [Event Time] \n",
                "FROM (SELECT record.value('(./Record/@id)[1]', 'int') AS record_id, \n",
                "\t\t\trecord.value('(./Record/SchedulerMonitorEvent/SystemHealth/SystemIdle)[1]', 'int') \n",
                "\t\t\tAS [SystemIdle], \n",
                "\t\t\trecord.value('(./Record/SchedulerMonitorEvent/SystemHealth/ProcessUtilization)[1]', 'int') \n",
                "\t\t\tAS [SQLProcessUtilization], [timestamp] \n",
                "\t  FROM (SELECT [timestamp], CONVERT(xml, record) AS [record] \n",
                "\t\t\tFROM sys.dm_os_ring_buffers WITH (NOLOCK)\n",
                "\t\t\tWHERE ring_buffer_type = N'RING_BUFFER_SCHEDULER_MONITOR' \n",
                "\t\t\tAND record LIKE N'%<SystemHealth>%') AS x) AS y \n",
                "ORDER BY record_id DESC OPTION (RECOMPILE);\n",
                ""
            ],
            "metadata": {
                "azdata_cell_guid": "6db55869-c8b1-4449-a871-c8b95334aaf1"
            },
            "outputs": [
                {
                    "output_type": "display_data",
                    "data": {
                        "text/html": "(256 rows affected)"
                    },
                    "metadata": {}
                },
                {
                    "output_type": "display_data",
                    "data": {
                        "text/html": "Total execution time: 00:00:00.238"
                    },
                    "metadata": {}
                },
                {
                    "output_type": "execute_result",
                    "metadata": {},
                    "execution_count": 20,
                    "data": {
                        "application/vnd.dataresource+json": {
                            "schema": {
                                "fields": [
                                    {
                                        "name": "SQL Server Process CPU Utilization"
                                    },
                                    {
                                        "name": "System Idle Process"
                                    },
                                    {
                                        "name": "Other Process CPU Utilization"
                                    },
                                    {
                                        "name": "Event Time"
                                    }
                                ]
                            },
                            "data": [
                                {
                                    "0": "15",
                                    "1": "54",
                                    "2": "31",
                                    "3": "2020-01-27 14:24:57.693"
                                },
                                {
                                    "0": "11",
                                    "1": "54",
                                    "2": "35",
                                    "3": "2020-01-27 14:23:57.607"
                                },
                                {
                                    "0": "15",
                                    "1": "59",
                                    "2": "26",
                                    "3": "2020-01-27 14:22:57.523"
                                },
                                {
                                    "0": "4",
                                    "1": "70",
                                    "2": "26",
                                    "3": "2020-01-27 14:21:57.417"
                                },
                                {
                                    "0": "0",
                                    "1": "80",
                                    "2": "20",
                                    "3": "2020-01-27 14:20:57.353"
                                },
                                {
                                    "0": "0",
                                    "1": "74",
                                    "2": "26",
                                    "3": "2020-01-27 14:19:57.330"
                                },
                                {
                                    "0": "0",
                                    "1": "77",
                                    "2": "23",
                                    "3": "2020-01-27 14:18:57.320"
                                },
                                {
                                    "0": "0",
                                    "1": "65",
                                    "2": "35",
                                    "3": "2020-01-27 14:17:57.310"
                                },
                                {
                                    "0": "0",
                                    "1": "71",
                                    "2": "29",
                                    "3": "2020-01-27 14:16:57.280"
                                },
                                {
                                    "0": "7",
                                    "1": "53",
                                    "2": "40",
                                    "3": "2020-01-27 14:15:57.260"
                                },
                                {
                                    "0": "0",
                                    "1": "63",
                                    "2": "37",
                                    "3": "2020-01-27 14:14:57.160"
                                },
                                {
                                    "0": "1",
                                    "1": "60",
                                    "2": "39",
                                    "3": "2020-01-27 14:13:57.133"
                                },
                                {
                                    "0": "1",
                                    "1": "73",
                                    "2": "26",
                                    "3": "2020-01-27 14:12:57.020"
                                },
                                {
                                    "0": "1",
                                    "1": "71",
                                    "2": "28",
                                    "3": "2020-01-27 14:11:56.970"
                                },
                                {
                                    "0": "1",
                                    "1": "59",
                                    "2": "40",
                                    "3": "2020-01-27 14:10:56.950"
                                },
                                {
                                    "0": "1",
                                    "1": "64",
                                    "2": "35",
                                    "3": "2020-01-27 14:09:56.917"
                                },
                                {
                                    "0": "1",
                                    "1": "71",
                                    "2": "28",
                                    "3": "2020-01-27 14:08:56.783"
                                },
                                {
                                    "0": "1",
                                    "1": "61",
                                    "2": "38",
                                    "3": "2020-01-27 14:07:56.757"
                                },
                                {
                                    "0": "1",
                                    "1": "82",
                                    "2": "17",
                                    "3": "2020-01-27 14:06:56.713"
                                },
                                {
                                    "0": "1",
                                    "1": "76",
                                    "2": "23",
                                    "3": "2020-01-27 14:05:56.707"
                                },
                                {
                                    "0": "0",
                                    "1": "57",
                                    "2": "43",
                                    "3": "2020-01-27 14:04:56.687"
                                },
                                {
                                    "0": "0",
                                    "1": "67",
                                    "2": "33",
                                    "3": "2020-01-27 14:03:56.643"
                                },
                                {
                                    "0": "0",
                                    "1": "66",
                                    "2": "34",
                                    "3": "2020-01-27 14:02:56.613"
                                },
                                {
                                    "0": "0",
                                    "1": "68",
                                    "2": "32",
                                    "3": "2020-01-27 14:01:56.590"
                                },
                                {
                                    "0": "5",
                                    "1": "70",
                                    "2": "25",
                                    "3": "2020-01-27 14:00:56.580"
                                },
                                {
                                    "0": "0",
                                    "1": "66",
                                    "2": "34",
                                    "3": "2020-01-27 13:59:56.547"
                                },
                                {
                                    "0": "0",
                                    "1": "69",
                                    "2": "31",
                                    "3": "2020-01-27 13:58:56.533"
                                },
                                {
                                    "0": "0",
                                    "1": "70",
                                    "2": "30",
                                    "3": "2020-01-27 13:57:56.517"
                                },
                                {
                                    "0": "0",
                                    "1": "73",
                                    "2": "27",
                                    "3": "2020-01-27 13:56:56.500"
                                },
                                {
                                    "0": "0",
                                    "1": "68",
                                    "2": "32",
                                    "3": "2020-01-27 13:55:56.483"
                                },
                                {
                                    "0": "0",
                                    "1": "69",
                                    "2": "31",
                                    "3": "2020-01-27 13:54:56.470"
                                },
                                {
                                    "0": "0",
                                    "1": "65",
                                    "2": "35",
                                    "3": "2020-01-27 13:53:56.440"
                                },
                                {
                                    "0": "0",
                                    "1": "70",
                                    "2": "30",
                                    "3": "2020-01-27 13:52:56.360"
                                },
                                {
                                    "0": "0",
                                    "1": "76",
                                    "2": "24",
                                    "3": "2020-01-27 13:51:56.340"
                                },
                                {
                                    "0": "0",
                                    "1": "87",
                                    "2": "13",
                                    "3": "2020-01-27 13:50:56.320"
                                },
                                {
                                    "0": "0",
                                    "1": "57",
                                    "2": "43",
                                    "3": "2020-01-27 13:49:56.307"
                                },
                                {
                                    "0": "0",
                                    "1": "65",
                                    "2": "35",
                                    "3": "2020-01-27 13:48:56.293"
                                },
                                {
                                    "0": "0",
                                    "1": "62",
                                    "2": "38",
                                    "3": "2020-01-27 13:47:56.270"
                                },
                                {
                                    "0": "0",
                                    "1": "69",
                                    "2": "31",
                                    "3": "2020-01-27 13:46:56.240"
                                },
                                {
                                    "0": "7",
                                    "1": "52",
                                    "2": "41",
                                    "3": "2020-01-27 13:45:56.207"
                                },
                                {
                                    "0": "0",
                                    "1": "69",
                                    "2": "31",
                                    "3": "2020-01-27 13:44:56.140"
                                },
                                {
                                    "0": "1",
                                    "1": "64",
                                    "2": "35",
                                    "3": "2020-01-27 13:43:56.117"
                                },
                                {
                                    "0": "1",
                                    "1": "69",
                                    "2": "30",
                                    "3": "2020-01-27 13:42:56.087"
                                },
                                {
                                    "0": "1",
                                    "1": "54",
                                    "2": "45",
                                    "3": "2020-01-27 13:41:56.050"
                                },
                                {
                                    "0": "2",
                                    "1": "57",
                                    "2": "41",
                                    "3": "2020-01-27 13:40:56.010"
                                },
                                {
                                    "0": "1",
                                    "1": "55",
                                    "2": "44",
                                    "3": "2020-01-27 13:39:55.930"
                                },
                                {
                                    "0": "1",
                                    "1": "55",
                                    "2": "44",
                                    "3": "2020-01-27 13:38:55.880"
                                },
                                {
                                    "0": "1",
                                    "1": "59",
                                    "2": "40",
                                    "3": "2020-01-27 13:37:55.787"
                                },
                                {
                                    "0": "1",
                                    "1": "67",
                                    "2": "32",
                                    "3": "2020-01-27 13:36:55.733"
                                },
                                {
                                    "0": "1",
                                    "1": "65",
                                    "2": "34",
                                    "3": "2020-01-27 13:35:55.720"
                                },
                                {
                                    "0": "2",
                                    "1": "87",
                                    "2": "11",
                                    "3": "2020-01-27 13:34:55.670"
                                },
                                {
                                    "0": "11",
                                    "1": "70",
                                    "2": "19",
                                    "3": "2020-01-27 13:33:55.630"
                                },
                                {
                                    "0": "1",
                                    "1": "73",
                                    "2": "26",
                                    "3": "2020-01-27 13:32:55.430"
                                },
                                {
                                    "0": "1",
                                    "1": "72",
                                    "2": "27",
                                    "3": "2020-01-27 13:31:55.233"
                                },
                                {
                                    "0": "5",
                                    "1": "67",
                                    "2": "28",
                                    "3": "2020-01-27 13:30:55.180"
                                },
                                {
                                    "0": "0",
                                    "1": "77",
                                    "2": "23",
                                    "3": "2020-01-27 13:29:55.147"
                                },
                                {
                                    "0": "0",
                                    "1": "73",
                                    "2": "27",
                                    "3": "2020-01-27 13:28:55.133"
                                },
                                {
                                    "0": "0",
                                    "1": "69",
                                    "2": "31",
                                    "3": "2020-01-27 13:27:55.107"
                                },
                                {
                                    "0": "0",
                                    "1": "76",
                                    "2": "24",
                                    "3": "2020-01-27 13:26:55.090"
                                },
                                {
                                    "0": "0",
                                    "1": "76",
                                    "2": "24",
                                    "3": "2020-01-27 13:25:55.020"
                                },
                                {
                                    "0": "0",
                                    "1": "61",
                                    "2": "39",
                                    "3": "2020-01-27 13:24:55.003"
                                },
                                {
                                    "0": "0",
                                    "1": "65",
                                    "2": "35",
                                    "3": "2020-01-27 13:23:54.983"
                                },
                                {
                                    "0": "0",
                                    "1": "44",
                                    "2": "56",
                                    "3": "2020-01-27 13:22:54.967"
                                },
                                {
                                    "0": "0",
                                    "1": "39",
                                    "2": "61",
                                    "3": "2020-01-27 13:21:54.950"
                                },
                                {
                                    "0": "0",
                                    "1": "65",
                                    "2": "35",
                                    "3": "2020-01-27 13:20:54.917"
                                },
                                {
                                    "0": "0",
                                    "1": "68",
                                    "2": "32",
                                    "3": "2020-01-27 13:19:54.910"
                                },
                                {
                                    "0": "0",
                                    "1": "67",
                                    "2": "33",
                                    "3": "2020-01-27 13:18:54.897"
                                },
                                {
                                    "0": "0",
                                    "1": "47",
                                    "2": "53",
                                    "3": "2020-01-27 13:17:54.890"
                                },
                                {
                                    "0": "0",
                                    "1": "79",
                                    "2": "21",
                                    "3": "2020-01-27 13:16:54.860"
                                },
                                {
                                    "0": "7",
                                    "1": "70",
                                    "2": "23",
                                    "3": "2020-01-27 13:15:54.843"
                                },
                                {
                                    "0": "1",
                                    "1": "90",
                                    "2": "9",
                                    "3": "2020-01-27 13:14:54.803"
                                },
                                {
                                    "0": "0",
                                    "1": "86",
                                    "2": "14",
                                    "3": "2020-01-27 13:13:54.793"
                                },
                                {
                                    "0": "1",
                                    "1": "78",
                                    "2": "21",
                                    "3": "2020-01-27 13:12:54.703"
                                },
                                {
                                    "0": "1",
                                    "1": "73",
                                    "2": "26",
                                    "3": "2020-01-27 13:11:54.687"
                                },
                                {
                                    "0": "1",
                                    "1": "76",
                                    "2": "23",
                                    "3": "2020-01-27 13:10:54.657"
                                },
                                {
                                    "0": "1",
                                    "1": "72",
                                    "2": "27",
                                    "3": "2020-01-27 13:09:54.640"
                                },
                                {
                                    "0": "1",
                                    "1": "70",
                                    "2": "29",
                                    "3": "2020-01-27 13:08:54.610"
                                },
                                {
                                    "0": "1",
                                    "1": "74",
                                    "2": "25",
                                    "3": "2020-01-27 13:07:54.600"
                                },
                                {
                                    "0": "1",
                                    "1": "60",
                                    "2": "39",
                                    "3": "2020-01-27 13:06:54.593"
                                },
                                {
                                    "0": "0",
                                    "1": "89",
                                    "2": "11",
                                    "3": "2020-01-27 13:05:54.580"
                                },
                                {
                                    "0": "0",
                                    "1": "91",
                                    "2": "9",
                                    "3": "2020-01-27 13:04:54.570"
                                },
                                {
                                    "0": "6",
                                    "1": "68",
                                    "2": "26",
                                    "3": "2020-01-27 13:03:54.560"
                                },
                                {
                                    "0": "16",
                                    "1": "70",
                                    "2": "14",
                                    "3": "2020-01-27 13:02:54.507"
                                },
                                {
                                    "0": "15",
                                    "1": "64",
                                    "2": "21",
                                    "3": "2020-01-27 13:01:54.300"
                                },
                                {
                                    "0": "14",
                                    "1": "68",
                                    "2": "18",
                                    "3": "2020-01-27 13:00:54.117"
                                },
                                {
                                    "0": "6",
                                    "1": "54",
                                    "2": "40",
                                    "3": "2020-01-27 12:59:54.007"
                                },
                                {
                                    "0": "1",
                                    "1": "78",
                                    "2": "21",
                                    "3": "2020-01-27 12:58:53.843"
                                },
                                {
                                    "0": "1",
                                    "1": "72",
                                    "2": "27",
                                    "3": "2020-01-27 12:57:53.810"
                                },
                                {
                                    "0": "2",
                                    "1": "68",
                                    "2": "30",
                                    "3": "2020-01-27 12:56:53.770"
                                },
                                {
                                    "0": "3",
                                    "1": "67",
                                    "2": "30",
                                    "3": "2020-01-27 12:55:53.717"
                                },
                                {
                                    "0": "0",
                                    "1": "79",
                                    "2": "21",
                                    "3": "2020-01-27 12:54:53.660"
                                },
                                {
                                    "0": "5",
                                    "1": "55",
                                    "2": "40",
                                    "3": "2020-01-27 12:53:53.643"
                                },
                                {
                                    "0": "4",
                                    "1": "72",
                                    "2": "24",
                                    "3": "2020-01-27 12:52:53.537"
                                },
                                {
                                    "0": "3",
                                    "1": "80",
                                    "2": "17",
                                    "3": "2020-01-27 12:51:53.437"
                                },
                                {
                                    "0": "1",
                                    "1": "69",
                                    "2": "30",
                                    "3": "2020-01-27 12:50:53.407"
                                },
                                {
                                    "0": "12",
                                    "1": "34",
                                    "2": "54",
                                    "3": "2020-01-27 12:49:53.370"
                                },
                                {
                                    "0": "5",
                                    "1": "53",
                                    "2": "42",
                                    "3": "2020-01-27 12:48:53.020"
                                },
                                {
                                    "0": "10",
                                    "1": "64",
                                    "2": "26",
                                    "3": "2020-01-27 12:47:52.880"
                                },
                                {
                                    "0": "6",
                                    "1": "63",
                                    "2": "31",
                                    "3": "2020-01-27 12:46:52.713"
                                },
                                {
                                    "0": "6",
                                    "1": "50",
                                    "2": "44",
                                    "3": "2020-01-27 12:45:52.563"
                                },
                                {
                                    "0": "1",
                                    "1": "73",
                                    "2": "26",
                                    "3": "2020-01-27 12:44:52.487"
                                },
                                {
                                    "0": "1",
                                    "1": "68",
                                    "2": "31",
                                    "3": "2020-01-27 12:43:52.460"
                                },
                                {
                                    "0": "1",
                                    "1": "74",
                                    "2": "25",
                                    "3": "2020-01-27 12:42:52.350"
                                },
                                {
                                    "0": "1",
                                    "1": "68",
                                    "2": "31",
                                    "3": "2020-01-27 12:41:52.300"
                                },
                                {
                                    "0": "3",
                                    "1": "59",
                                    "2": "38",
                                    "3": "2020-01-27 12:40:52.250"
                                },
                                {
                                    "0": "3",
                                    "1": "72",
                                    "2": "25",
                                    "3": "2020-01-27 12:39:52.143"
                                },
                                {
                                    "0": "2",
                                    "1": "78",
                                    "2": "20",
                                    "3": "2020-01-27 12:38:52.107"
                                },
                                {
                                    "0": "5",
                                    "1": "66",
                                    "2": "29",
                                    "3": "2020-01-27 12:37:51.960"
                                },
                                {
                                    "0": "2",
                                    "1": "75",
                                    "2": "23",
                                    "3": "2020-01-27 12:36:51.867"
                                },
                                {
                                    "0": "7",
                                    "1": "71",
                                    "2": "22",
                                    "3": "2020-01-27 12:35:51.757"
                                },
                                {
                                    "0": "16",
                                    "1": "72",
                                    "2": "12",
                                    "3": "2020-01-27 12:34:51.700"
                                },
                                {
                                    "0": "15",
                                    "1": "68",
                                    "2": "17",
                                    "3": "2020-01-27 12:33:51.350"
                                },
                                {
                                    "0": "16",
                                    "1": "71",
                                    "2": "13",
                                    "3": "2020-01-27 12:32:51.153"
                                },
                                {
                                    "0": "16",
                                    "1": "68",
                                    "2": "16",
                                    "3": "2020-01-27 12:31:51.020"
                                },
                                {
                                    "0": "16",
                                    "1": "64",
                                    "2": "20",
                                    "3": "2020-01-27 12:30:50.793"
                                },
                                {
                                    "0": "12",
                                    "1": "41",
                                    "2": "47",
                                    "3": "2020-01-27 12:29:50.653"
                                },
                                {
                                    "0": "0",
                                    "1": "69",
                                    "2": "31",
                                    "3": "2020-01-27 12:28:50.443"
                                },
                                {
                                    "0": "0",
                                    "1": "79",
                                    "2": "21",
                                    "3": "2020-01-27 12:27:50.327"
                                },
                                {
                                    "0": "0",
                                    "1": "76",
                                    "2": "24",
                                    "3": "2020-01-27 12:26:50.307"
                                },
                                {
                                    "0": "0",
                                    "1": "72",
                                    "2": "28",
                                    "3": "2020-01-27 12:25:50.277"
                                },
                                {
                                    "0": "0",
                                    "1": "74",
                                    "2": "26",
                                    "3": "2020-01-27 12:24:50.240"
                                },
                                {
                                    "0": "0",
                                    "1": "77",
                                    "2": "23",
                                    "3": "2020-01-27 12:23:50.223"
                                },
                                {
                                    "0": "0",
                                    "1": "81",
                                    "2": "19",
                                    "3": "2020-01-27 12:22:50.200"
                                },
                                {
                                    "0": "0",
                                    "1": "81",
                                    "2": "19",
                                    "3": "2020-01-27 12:21:50.177"
                                },
                                {
                                    "0": "0",
                                    "1": "80",
                                    "2": "20",
                                    "3": "2020-01-27 12:20:50.160"
                                },
                                {
                                    "0": "0",
                                    "1": "73",
                                    "2": "27",
                                    "3": "2020-01-27 12:19:50.130"
                                },
                                {
                                    "0": "0",
                                    "1": "75",
                                    "2": "25",
                                    "3": "2020-01-27 12:18:50.100"
                                },
                                {
                                    "0": "0",
                                    "1": "71",
                                    "2": "29",
                                    "3": "2020-01-27 12:17:50.033"
                                },
                                {
                                    "0": "0",
                                    "1": "82",
                                    "2": "18",
                                    "3": "2020-01-27 12:16:49.927"
                                },
                                {
                                    "0": "4",
                                    "1": "73",
                                    "2": "23",
                                    "3": "2020-01-27 12:15:49.787"
                                },
                                {
                                    "0": "0",
                                    "1": "87",
                                    "2": "13",
                                    "3": "2020-01-27 12:14:49.677"
                                },
                                {
                                    "0": "0",
                                    "1": "91",
                                    "2": "9",
                                    "3": "2020-01-27 12:13:49.587"
                                },
                                {
                                    "0": "0",
                                    "1": "82",
                                    "2": "18",
                                    "3": "2020-01-27 12:12:49.567"
                                },
                                {
                                    "0": "0",
                                    "1": "68",
                                    "2": "32",
                                    "3": "2020-01-27 12:11:49.490"
                                },
                                {
                                    "0": "0",
                                    "1": "69",
                                    "2": "31",
                                    "3": "2020-01-27 12:10:49.397"
                                },
                                {
                                    "0": "0",
                                    "1": "92",
                                    "2": "8",
                                    "3": "2020-01-27 12:09:49.237"
                                },
                                {
                                    "0": "0",
                                    "1": "87",
                                    "2": "13",
                                    "3": "2020-01-27 12:08:49.143"
                                },
                                {
                                    "0": "0",
                                    "1": "94",
                                    "2": "6",
                                    "3": "2020-01-27 12:07:48.990"
                                },
                                {
                                    "0": "0",
                                    "1": "95",
                                    "2": "5",
                                    "3": "2020-01-27 12:06:48.850"
                                },
                                {
                                    "0": "0",
                                    "1": "81",
                                    "2": "19",
                                    "3": "2020-01-27 12:05:48.740"
                                },
                                {
                                    "0": "0",
                                    "1": "94",
                                    "2": "6",
                                    "3": "2020-01-27 12:04:48.643"
                                },
                                {
                                    "0": "0",
                                    "1": "92",
                                    "2": "8",
                                    "3": "2020-01-27 12:03:48.550"
                                },
                                {
                                    "0": "0",
                                    "1": "95",
                                    "2": "5",
                                    "3": "2020-01-27 12:02:48.520"
                                },
                                {
                                    "0": "0",
                                    "1": "95",
                                    "2": "5",
                                    "3": "2020-01-27 12:01:48.470"
                                },
                                {
                                    "0": "4",
                                    "1": "81",
                                    "2": "15",
                                    "3": "2020-01-27 12:00:48.410"
                                },
                                {
                                    "0": "0",
                                    "1": "96",
                                    "2": "4",
                                    "3": "2020-01-27 11:59:48.257"
                                },
                                {
                                    "0": "0",
                                    "1": "90",
                                    "2": "10",
                                    "3": "2020-01-27 11:58:48.160"
                                },
                                {
                                    "0": "0",
                                    "1": "93",
                                    "2": "7",
                                    "3": "2020-01-27 11:57:48.037"
                                },
                                {
                                    "0": "0",
                                    "1": "91",
                                    "2": "9",
                                    "3": "2020-01-27 11:56:47.880"
                                },
                                {
                                    "0": "0",
                                    "1": "95",
                                    "2": "5",
                                    "3": "2020-01-27 11:55:47.787"
                                },
                                {
                                    "0": "0",
                                    "1": "77",
                                    "2": "23",
                                    "3": "2020-01-27 11:54:47.690"
                                },
                                {
                                    "0": "0",
                                    "1": "81",
                                    "2": "19",
                                    "3": "2020-01-27 11:53:47.550"
                                },
                                {
                                    "0": "0",
                                    "1": "96",
                                    "2": "4",
                                    "3": "2020-01-27 11:52:47.470"
                                },
                                {
                                    "0": "0",
                                    "1": "96",
                                    "2": "4",
                                    "3": "2020-01-27 11:51:47.380"
                                },
                                {
                                    "0": "0",
                                    "1": "94",
                                    "2": "6",
                                    "3": "2020-01-27 11:50:47.287"
                                },
                                {
                                    "0": "0",
                                    "1": "87",
                                    "2": "13",
                                    "3": "2020-01-27 11:49:47.160"
                                },
                                {
                                    "0": "0",
                                    "1": "90",
                                    "2": "10",
                                    "3": "2020-01-27 11:48:47.020"
                                },
                                {
                                    "0": "0",
                                    "1": "95",
                                    "2": "5",
                                    "3": "2020-01-27 11:47:46.880"
                                },
                                {
                                    "0": "0",
                                    "1": "93",
                                    "2": "7",
                                    "3": "2020-01-27 11:46:46.737"
                                },
                                {
                                    "0": "4",
                                    "1": "86",
                                    "2": "10",
                                    "3": "2020-01-27 11:45:46.597"
                                },
                                {
                                    "0": "0",
                                    "1": "96",
                                    "2": "4",
                                    "3": "2020-01-27 11:44:46.537"
                                },
                                {
                                    "0": "0",
                                    "1": "93",
                                    "2": "7",
                                    "3": "2020-01-27 11:43:46.503"
                                },
                                {
                                    "0": "0",
                                    "1": "93",
                                    "2": "7",
                                    "3": "2020-01-27 11:42:46.393"
                                },
                                {
                                    "0": "0",
                                    "1": "94",
                                    "2": "6",
                                    "3": "2020-01-27 11:41:46.250"
                                },
                                {
                                    "0": "0",
                                    "1": "95",
                                    "2": "5",
                                    "3": "2020-01-27 11:40:46.113"
                                },
                                {
                                    "0": "0",
                                    "1": "96",
                                    "2": "4",
                                    "3": "2020-01-27 11:39:46.017"
                                },
                                {
                                    "0": "0",
                                    "1": "94",
                                    "2": "6",
                                    "3": "2020-01-27 11:38:45.873"
                                },
                                {
                                    "0": "0",
                                    "1": "90",
                                    "2": "10",
                                    "3": "2020-01-27 11:37:45.743"
                                },
                                {
                                    "0": "0",
                                    "1": "95",
                                    "2": "5",
                                    "3": "2020-01-27 11:36:45.597"
                                },
                                {
                                    "0": "0",
                                    "1": "88",
                                    "2": "12",
                                    "3": "2020-01-27 11:35:45.560"
                                },
                                {
                                    "0": "0",
                                    "1": "91",
                                    "2": "9",
                                    "3": "2020-01-27 11:34:45.500"
                                },
                                {
                                    "0": "0",
                                    "1": "95",
                                    "2": "5",
                                    "3": "2020-01-27 11:33:45.410"
                                },
                                {
                                    "0": "0",
                                    "1": "91",
                                    "2": "9",
                                    "3": "2020-01-27 11:32:45.290"
                                },
                                {
                                    "0": "0",
                                    "1": "95",
                                    "2": "5",
                                    "3": "2020-01-27 11:31:45.157"
                                },
                                {
                                    "0": "5",
                                    "1": "84",
                                    "2": "11",
                                    "3": "2020-01-27 11:30:45.020"
                                },
                                {
                                    "0": "1",
                                    "1": "94",
                                    "2": "5",
                                    "3": "2020-01-27 11:29:44.907"
                                },
                                {
                                    "0": "1",
                                    "1": "94",
                                    "2": "5",
                                    "3": "2020-01-27 11:28:44.820"
                                },
                                {
                                    "0": "1",
                                    "1": "89",
                                    "2": "10",
                                    "3": "2020-01-27 11:27:44.717"
                                },
                                {
                                    "0": "1",
                                    "1": "91",
                                    "2": "8",
                                    "3": "2020-01-27 11:26:44.610"
                                },
                                {
                                    "0": "1",
                                    "1": "93",
                                    "2": "6",
                                    "3": "2020-01-27 11:25:44.487"
                                },
                                {
                                    "0": "0",
                                    "1": "94",
                                    "2": "6",
                                    "3": "2020-01-27 11:24:44.363"
                                },
                                {
                                    "0": "0",
                                    "1": "87",
                                    "2": "13",
                                    "3": "2020-01-27 11:23:44.247"
                                },
                                {
                                    "0": "1",
                                    "1": "63",
                                    "2": "36",
                                    "3": "2020-01-27 11:22:44.133"
                                },
                                {
                                    "0": "1",
                                    "1": "75",
                                    "2": "24",
                                    "3": "2020-01-27 11:21:44.000"
                                },
                                {
                                    "0": "1",
                                    "1": "69",
                                    "2": "30",
                                    "3": "2020-01-27 11:20:43.970"
                                },
                                {
                                    "0": "1",
                                    "1": "77",
                                    "2": "22",
                                    "3": "2020-01-27 11:19:43.933"
                                },
                                {
                                    "0": "4",
                                    "1": "58",
                                    "2": "38",
                                    "3": "2020-01-27 11:18:43.867"
                                },
                                {
                                    "0": "2",
                                    "1": "58",
                                    "2": "40",
                                    "3": "2020-01-27 11:17:43.760"
                                },
                                {
                                    "0": "0",
                                    "1": "72",
                                    "2": "28",
                                    "3": "2020-01-27 11:16:43.713"
                                },
                                {
                                    "0": "5",
                                    "1": "66",
                                    "2": "29",
                                    "3": "2020-01-27 11:15:43.650"
                                },
                                {
                                    "0": "0",
                                    "1": "75",
                                    "2": "25",
                                    "3": "2020-01-27 11:14:43.590"
                                },
                                {
                                    "0": "0",
                                    "1": "66",
                                    "2": "34",
                                    "3": "2020-01-27 11:13:43.493"
                                },
                                {
                                    "0": "0",
                                    "1": "64",
                                    "2": "36",
                                    "3": "2020-01-27 11:12:43.467"
                                },
                                {
                                    "0": "0",
                                    "1": "72",
                                    "2": "28",
                                    "3": "2020-01-27 11:11:43.447"
                                },
                                {
                                    "0": "0",
                                    "1": "69",
                                    "2": "31",
                                    "3": "2020-01-27 11:10:43.410"
                                },
                                {
                                    "0": "0",
                                    "1": "58",
                                    "2": "42",
                                    "3": "2020-01-27 11:09:43.340"
                                },
                                {
                                    "0": "0",
                                    "1": "67",
                                    "2": "33",
                                    "3": "2020-01-27 11:08:43.313"
                                },
                                {
                                    "0": "0",
                                    "1": "65",
                                    "2": "35",
                                    "3": "2020-01-27 11:07:43.290"
                                },
                                {
                                    "0": "0",
                                    "1": "81",
                                    "2": "19",
                                    "3": "2020-01-27 11:06:43.263"
                                },
                                {
                                    "0": "0",
                                    "1": "77",
                                    "2": "23",
                                    "3": "2020-01-27 11:05:43.243"
                                },
                                {
                                    "0": "0",
                                    "1": "78",
                                    "2": "22",
                                    "3": "2020-01-27 11:04:43.230"
                                },
                                {
                                    "0": "0",
                                    "1": "76",
                                    "2": "24",
                                    "3": "2020-01-27 11:03:43.213"
                                },
                                {
                                    "0": "0",
                                    "1": "75",
                                    "2": "25",
                                    "3": "2020-01-27 11:02:43.207"
                                },
                                {
                                    "0": "0",
                                    "1": "89",
                                    "2": "11",
                                    "3": "2020-01-27 11:01:43.193"
                                },
                                {
                                    "0": "5",
                                    "1": "82",
                                    "2": "13",
                                    "3": "2020-01-27 11:00:43.180"
                                },
                                {
                                    "0": "0",
                                    "1": "93",
                                    "2": "7",
                                    "3": "2020-01-27 10:59:43.140"
                                },
                                {
                                    "0": "0",
                                    "1": "92",
                                    "2": "8",
                                    "3": "2020-01-27 10:58:43.113"
                                },
                                {
                                    "0": "0",
                                    "1": "93",
                                    "2": "7",
                                    "3": "2020-01-27 10:57:43.090"
                                },
                                {
                                    "0": "0",
                                    "1": "84",
                                    "2": "16",
                                    "3": "2020-01-27 10:56:43.083"
                                },
                                {
                                    "0": "0",
                                    "1": "78",
                                    "2": "22",
                                    "3": "2020-01-27 10:55:43.063"
                                },
                                {
                                    "0": "0",
                                    "1": "81",
                                    "2": "19",
                                    "3": "2020-01-27 10:54:43.057"
                                },
                                {
                                    "0": "0",
                                    "1": "83",
                                    "2": "17",
                                    "3": "2020-01-27 10:53:43.040"
                                },
                                {
                                    "0": "0",
                                    "1": "66",
                                    "2": "34",
                                    "3": "2020-01-27 10:52:42.960"
                                },
                                {
                                    "0": "0",
                                    "1": "94",
                                    "2": "6",
                                    "3": "2020-01-27 10:51:42.937"
                                },
                                {
                                    "0": "0",
                                    "1": "77",
                                    "2": "23",
                                    "3": "2020-01-27 10:50:42.920"
                                },
                                {
                                    "0": "0",
                                    "1": "88",
                                    "2": "12",
                                    "3": "2020-01-27 10:49:42.850"
                                },
                                {
                                    "0": "0",
                                    "1": "87",
                                    "2": "13",
                                    "3": "2020-01-27 10:48:42.843"
                                },
                                {
                                    "0": "0",
                                    "1": "76",
                                    "2": "24",
                                    "3": "2020-01-27 10:47:42.790"
                                },
                                {
                                    "0": "0",
                                    "1": "94",
                                    "2": "6",
                                    "3": "2020-01-27 10:46:42.763"
                                },
                                {
                                    "0": "4",
                                    "1": "80",
                                    "2": "16",
                                    "3": "2020-01-27 10:45:42.733"
                                },
                                {
                                    "0": "0",
                                    "1": "87",
                                    "2": "13",
                                    "3": "2020-01-27 10:44:42.710"
                                },
                                {
                                    "0": "0",
                                    "1": "74",
                                    "2": "26",
                                    "3": "2020-01-27 10:43:42.667"
                                },
                                {
                                    "0": "0",
                                    "1": "91",
                                    "2": "9",
                                    "3": "2020-01-27 10:42:42.627"
                                },
                                {
                                    "0": "0",
                                    "1": "91",
                                    "2": "9",
                                    "3": "2020-01-27 10:41:42.620"
                                },
                                {
                                    "0": "0",
                                    "1": "85",
                                    "2": "15",
                                    "3": "2020-01-27 10:40:42.593"
                                },
                                {
                                    "0": "0",
                                    "1": "77",
                                    "2": "23",
                                    "3": "2020-01-27 10:39:42.560"
                                },
                                {
                                    "0": "0",
                                    "1": "75",
                                    "2": "25",
                                    "3": "2020-01-27 10:38:42.537"
                                },
                                {
                                    "0": "0",
                                    "1": "88",
                                    "2": "12",
                                    "3": "2020-01-27 10:37:42.470"
                                },
                                {
                                    "0": "0",
                                    "1": "79",
                                    "2": "21",
                                    "3": "2020-01-27 10:36:42.463"
                                },
                                {
                                    "0": "0",
                                    "1": "86",
                                    "2": "14",
                                    "3": "2020-01-27 10:35:42.457"
                                },
                                {
                                    "0": "0",
                                    "1": "89",
                                    "2": "11",
                                    "3": "2020-01-27 10:34:42.377"
                                },
                                {
                                    "0": "0",
                                    "1": "90",
                                    "2": "10",
                                    "3": "2020-01-27 10:33:42.333"
                                },
                                {
                                    "0": "0",
                                    "1": "90",
                                    "2": "10",
                                    "3": "2020-01-27 10:32:42.327"
                                },
                                {
                                    "0": "0",
                                    "1": "85",
                                    "2": "15",
                                    "3": "2020-01-27 10:31:42.320"
                                },
                                {
                                    "0": "5",
                                    "1": "68",
                                    "2": "27",
                                    "3": "2020-01-27 10:30:42.293"
                                },
                                {
                                    "0": "0",
                                    "1": "69",
                                    "2": "31",
                                    "3": "2020-01-27 10:29:42.127"
                                },
                                {
                                    "0": "11",
                                    "1": "37",
                                    "2": "52",
                                    "3": "2020-01-27 10:28:42.077"
                                },
                                {
                                    "0": "1",
                                    "1": "65",
                                    "2": "34",
                                    "3": "2020-01-27 10:27:41.890"
                                },
                                {
                                    "0": "0",
                                    "1": "66",
                                    "2": "34",
                                    "3": "2020-01-27 10:26:41.873"
                                },
                                {
                                    "0": "0",
                                    "1": "76",
                                    "2": "24",
                                    "3": "2020-01-27 10:25:41.853"
                                },
                                {
                                    "0": "0",
                                    "1": "68",
                                    "2": "32",
                                    "3": "2020-01-27 10:24:41.847"
                                },
                                {
                                    "0": "0",
                                    "1": "91",
                                    "2": "9",
                                    "3": "2020-01-27 10:23:41.827"
                                },
                                {
                                    "0": "0",
                                    "1": "93",
                                    "2": "7",
                                    "3": "2020-01-27 10:22:41.787"
                                },
                                {
                                    "0": "0",
                                    "1": "93",
                                    "2": "7",
                                    "3": "2020-01-27 10:21:41.743"
                                },
                                {
                                    "0": "0",
                                    "1": "84",
                                    "2": "16",
                                    "3": "2020-01-27 10:20:41.707"
                                },
                                {
                                    "0": "0",
                                    "1": "85",
                                    "2": "15",
                                    "3": "2020-01-27 10:19:41.700"
                                },
                                {
                                    "0": "0",
                                    "1": "73",
                                    "2": "27",
                                    "3": "2020-01-27 10:18:41.690"
                                },
                                {
                                    "0": "0",
                                    "1": "84",
                                    "2": "16",
                                    "3": "2020-01-27 10:17:41.673"
                                },
                                {
                                    "0": "0",
                                    "1": "73",
                                    "2": "27",
                                    "3": "2020-01-27 10:16:41.663"
                                },
                                {
                                    "0": "5",
                                    "1": "70",
                                    "2": "25",
                                    "3": "2020-01-27 10:15:41.620"
                                },
                                {
                                    "0": "0",
                                    "1": "85",
                                    "2": "15",
                                    "3": "2020-01-27 10:14:41.607"
                                },
                                {
                                    "0": "0",
                                    "1": "89",
                                    "2": "11",
                                    "3": "2020-01-27 10:13:41.597"
                                },
                                {
                                    "0": "0",
                                    "1": "87",
                                    "2": "13",
                                    "3": "2020-01-27 10:12:41.590"
                                },
                                {
                                    "0": "0",
                                    "1": "76",
                                    "2": "24",
                                    "3": "2020-01-27 10:11:41.583"
                                },
                                {
                                    "0": "0",
                                    "1": "69",
                                    "2": "31",
                                    "3": "2020-01-27 10:10:41.537"
                                },
                                {
                                    "0": "0",
                                    "1": "71",
                                    "2": "29",
                                    "3": "2020-01-27 10:09:41.480"
                                }
                            ]
                        },
                        "text/html": "<table><tr><th>SQL Server Process CPU Utilization</th><th>System Idle Process</th><th>Other Process CPU Utilization</th><th>Event Time</th></tr><tr><td>15</td><td>54</td><td>31</td><td>2020-01-27 14:24:57.693</td></tr><tr><td>11</td><td>54</td><td>35</td><td>2020-01-27 14:23:57.607</td></tr><tr><td>15</td><td>59</td><td>26</td><td>2020-01-27 14:22:57.523</td></tr><tr><td>4</td><td>70</td><td>26</td><td>2020-01-27 14:21:57.417</td></tr><tr><td>0</td><td>80</td><td>20</td><td>2020-01-27 14:20:57.353</td></tr><tr><td>0</td><td>74</td><td>26</td><td>2020-01-27 14:19:57.330</td></tr><tr><td>0</td><td>77</td><td>23</td><td>2020-01-27 14:18:57.320</td></tr><tr><td>0</td><td>65</td><td>35</td><td>2020-01-27 14:17:57.310</td></tr><tr><td>0</td><td>71</td><td>29</td><td>2020-01-27 14:16:57.280</td></tr><tr><td>7</td><td>53</td><td>40</td><td>2020-01-27 14:15:57.260</td></tr><tr><td>0</td><td>63</td><td>37</td><td>2020-01-27 14:14:57.160</td></tr><tr><td>1</td><td>60</td><td>39</td><td>2020-01-27 14:13:57.133</td></tr><tr><td>1</td><td>73</td><td>26</td><td>2020-01-27 14:12:57.020</td></tr><tr><td>1</td><td>71</td><td>28</td><td>2020-01-27 14:11:56.970</td></tr><tr><td>1</td><td>59</td><td>40</td><td>2020-01-27 14:10:56.950</td></tr><tr><td>1</td><td>64</td><td>35</td><td>2020-01-27 14:09:56.917</td></tr><tr><td>1</td><td>71</td><td>28</td><td>2020-01-27 14:08:56.783</td></tr><tr><td>1</td><td>61</td><td>38</td><td>2020-01-27 14:07:56.757</td></tr><tr><td>1</td><td>82</td><td>17</td><td>2020-01-27 14:06:56.713</td></tr><tr><td>1</td><td>76</td><td>23</td><td>2020-01-27 14:05:56.707</td></tr><tr><td>0</td><td>57</td><td>43</td><td>2020-01-27 14:04:56.687</td></tr><tr><td>0</td><td>67</td><td>33</td><td>2020-01-27 14:03:56.643</td></tr><tr><td>0</td><td>66</td><td>34</td><td>2020-01-27 14:02:56.613</td></tr><tr><td>0</td><td>68</td><td>32</td><td>2020-01-27 14:01:56.590</td></tr><tr><td>5</td><td>70</td><td>25</td><td>2020-01-27 14:00:56.580</td></tr><tr><td>0</td><td>66</td><td>34</td><td>2020-01-27 13:59:56.547</td></tr><tr><td>0</td><td>69</td><td>31</td><td>2020-01-27 13:58:56.533</td></tr><tr><td>0</td><td>70</td><td>30</td><td>2020-01-27 13:57:56.517</td></tr><tr><td>0</td><td>73</td><td>27</td><td>2020-01-27 13:56:56.500</td></tr><tr><td>0</td><td>68</td><td>32</td><td>2020-01-27 13:55:56.483</td></tr><tr><td>0</td><td>69</td><td>31</td><td>2020-01-27 13:54:56.470</td></tr><tr><td>0</td><td>65</td><td>35</td><td>2020-01-27 13:53:56.440</td></tr><tr><td>0</td><td>70</td><td>30</td><td>2020-01-27 13:52:56.360</td></tr><tr><td>0</td><td>76</td><td>24</td><td>2020-01-27 13:51:56.340</td></tr><tr><td>0</td><td>87</td><td>13</td><td>2020-01-27 13:50:56.320</td></tr><tr><td>0</td><td>57</td><td>43</td><td>2020-01-27 13:49:56.307</td></tr><tr><td>0</td><td>65</td><td>35</td><td>2020-01-27 13:48:56.293</td></tr><tr><td>0</td><td>62</td><td>38</td><td>2020-01-27 13:47:56.270</td></tr><tr><td>0</td><td>69</td><td>31</td><td>2020-01-27 13:46:56.240</td></tr><tr><td>7</td><td>52</td><td>41</td><td>2020-01-27 13:45:56.207</td></tr><tr><td>0</td><td>69</td><td>31</td><td>2020-01-27 13:44:56.140</td></tr><tr><td>1</td><td>64</td><td>35</td><td>2020-01-27 13:43:56.117</td></tr><tr><td>1</td><td>69</td><td>30</td><td>2020-01-27 13:42:56.087</td></tr><tr><td>1</td><td>54</td><td>45</td><td>2020-01-27 13:41:56.050</td></tr><tr><td>2</td><td>57</td><td>41</td><td>2020-01-27 13:40:56.010</td></tr><tr><td>1</td><td>55</td><td>44</td><td>2020-01-27 13:39:55.930</td></tr><tr><td>1</td><td>55</td><td>44</td><td>2020-01-27 13:38:55.880</td></tr><tr><td>1</td><td>59</td><td>40</td><td>2020-01-27 13:37:55.787</td></tr><tr><td>1</td><td>67</td><td>32</td><td>2020-01-27 13:36:55.733</td></tr><tr><td>1</td><td>65</td><td>34</td><td>2020-01-27 13:35:55.720</td></tr><tr><td>2</td><td>87</td><td>11</td><td>2020-01-27 13:34:55.670</td></tr><tr><td>11</td><td>70</td><td>19</td><td>2020-01-27 13:33:55.630</td></tr><tr><td>1</td><td>73</td><td>26</td><td>2020-01-27 13:32:55.430</td></tr><tr><td>1</td><td>72</td><td>27</td><td>2020-01-27 13:31:55.233</td></tr><tr><td>5</td><td>67</td><td>28</td><td>2020-01-27 13:30:55.180</td></tr><tr><td>0</td><td>77</td><td>23</td><td>2020-01-27 13:29:55.147</td></tr><tr><td>0</td><td>73</td><td>27</td><td>2020-01-27 13:28:55.133</td></tr><tr><td>0</td><td>69</td><td>31</td><td>2020-01-27 13:27:55.107</td></tr><tr><td>0</td><td>76</td><td>24</td><td>2020-01-27 13:26:55.090</td></tr><tr><td>0</td><td>76</td><td>24</td><td>2020-01-27 13:25:55.020</td></tr><tr><td>0</td><td>61</td><td>39</td><td>2020-01-27 13:24:55.003</td></tr><tr><td>0</td><td>65</td><td>35</td><td>2020-01-27 13:23:54.983</td></tr><tr><td>0</td><td>44</td><td>56</td><td>2020-01-27 13:22:54.967</td></tr><tr><td>0</td><td>39</td><td>61</td><td>2020-01-27 13:21:54.950</td></tr><tr><td>0</td><td>65</td><td>35</td><td>2020-01-27 13:20:54.917</td></tr><tr><td>0</td><td>68</td><td>32</td><td>2020-01-27 13:19:54.910</td></tr><tr><td>0</td><td>67</td><td>33</td><td>2020-01-27 13:18:54.897</td></tr><tr><td>0</td><td>47</td><td>53</td><td>2020-01-27 13:17:54.890</td></tr><tr><td>0</td><td>79</td><td>21</td><td>2020-01-27 13:16:54.860</td></tr><tr><td>7</td><td>70</td><td>23</td><td>2020-01-27 13:15:54.843</td></tr><tr><td>1</td><td>90</td><td>9</td><td>2020-01-27 13:14:54.803</td></tr><tr><td>0</td><td>86</td><td>14</td><td>2020-01-27 13:13:54.793</td></tr><tr><td>1</td><td>78</td><td>21</td><td>2020-01-27 13:12:54.703</td></tr><tr><td>1</td><td>73</td><td>26</td><td>2020-01-27 13:11:54.687</td></tr><tr><td>1</td><td>76</td><td>23</td><td>2020-01-27 13:10:54.657</td></tr><tr><td>1</td><td>72</td><td>27</td><td>2020-01-27 13:09:54.640</td></tr><tr><td>1</td><td>70</td><td>29</td><td>2020-01-27 13:08:54.610</td></tr><tr><td>1</td><td>74</td><td>25</td><td>2020-01-27 13:07:54.600</td></tr><tr><td>1</td><td>60</td><td>39</td><td>2020-01-27 13:06:54.593</td></tr><tr><td>0</td><td>89</td><td>11</td><td>2020-01-27 13:05:54.580</td></tr><tr><td>0</td><td>91</td><td>9</td><td>2020-01-27 13:04:54.570</td></tr><tr><td>6</td><td>68</td><td>26</td><td>2020-01-27 13:03:54.560</td></tr><tr><td>16</td><td>70</td><td>14</td><td>2020-01-27 13:02:54.507</td></tr><tr><td>15</td><td>64</td><td>21</td><td>2020-01-27 13:01:54.300</td></tr><tr><td>14</td><td>68</td><td>18</td><td>2020-01-27 13:00:54.117</td></tr><tr><td>6</td><td>54</td><td>40</td><td>2020-01-27 12:59:54.007</td></tr><tr><td>1</td><td>78</td><td>21</td><td>2020-01-27 12:58:53.843</td></tr><tr><td>1</td><td>72</td><td>27</td><td>2020-01-27 12:57:53.810</td></tr><tr><td>2</td><td>68</td><td>30</td><td>2020-01-27 12:56:53.770</td></tr><tr><td>3</td><td>67</td><td>30</td><td>2020-01-27 12:55:53.717</td></tr><tr><td>0</td><td>79</td><td>21</td><td>2020-01-27 12:54:53.660</td></tr><tr><td>5</td><td>55</td><td>40</td><td>2020-01-27 12:53:53.643</td></tr><tr><td>4</td><td>72</td><td>24</td><td>2020-01-27 12:52:53.537</td></tr><tr><td>3</td><td>80</td><td>17</td><td>2020-01-27 12:51:53.437</td></tr><tr><td>1</td><td>69</td><td>30</td><td>2020-01-27 12:50:53.407</td></tr><tr><td>12</td><td>34</td><td>54</td><td>2020-01-27 12:49:53.370</td></tr><tr><td>5</td><td>53</td><td>42</td><td>2020-01-27 12:48:53.020</td></tr><tr><td>10</td><td>64</td><td>26</td><td>2020-01-27 12:47:52.880</td></tr><tr><td>6</td><td>63</td><td>31</td><td>2020-01-27 12:46:52.713</td></tr><tr><td>6</td><td>50</td><td>44</td><td>2020-01-27 12:45:52.563</td></tr><tr><td>1</td><td>73</td><td>26</td><td>2020-01-27 12:44:52.487</td></tr><tr><td>1</td><td>68</td><td>31</td><td>2020-01-27 12:43:52.460</td></tr><tr><td>1</td><td>74</td><td>25</td><td>2020-01-27 12:42:52.350</td></tr><tr><td>1</td><td>68</td><td>31</td><td>2020-01-27 12:41:52.300</td></tr><tr><td>3</td><td>59</td><td>38</td><td>2020-01-27 12:40:52.250</td></tr><tr><td>3</td><td>72</td><td>25</td><td>2020-01-27 12:39:52.143</td></tr><tr><td>2</td><td>78</td><td>20</td><td>2020-01-27 12:38:52.107</td></tr><tr><td>5</td><td>66</td><td>29</td><td>2020-01-27 12:37:51.960</td></tr><tr><td>2</td><td>75</td><td>23</td><td>2020-01-27 12:36:51.867</td></tr><tr><td>7</td><td>71</td><td>22</td><td>2020-01-27 12:35:51.757</td></tr><tr><td>16</td><td>72</td><td>12</td><td>2020-01-27 12:34:51.700</td></tr><tr><td>15</td><td>68</td><td>17</td><td>2020-01-27 12:33:51.350</td></tr><tr><td>16</td><td>71</td><td>13</td><td>2020-01-27 12:32:51.153</td></tr><tr><td>16</td><td>68</td><td>16</td><td>2020-01-27 12:31:51.020</td></tr><tr><td>16</td><td>64</td><td>20</td><td>2020-01-27 12:30:50.793</td></tr><tr><td>12</td><td>41</td><td>47</td><td>2020-01-27 12:29:50.653</td></tr><tr><td>0</td><td>69</td><td>31</td><td>2020-01-27 12:28:50.443</td></tr><tr><td>0</td><td>79</td><td>21</td><td>2020-01-27 12:27:50.327</td></tr><tr><td>0</td><td>76</td><td>24</td><td>2020-01-27 12:26:50.307</td></tr><tr><td>0</td><td>72</td><td>28</td><td>2020-01-27 12:25:50.277</td></tr><tr><td>0</td><td>74</td><td>26</td><td>2020-01-27 12:24:50.240</td></tr><tr><td>0</td><td>77</td><td>23</td><td>2020-01-27 12:23:50.223</td></tr><tr><td>0</td><td>81</td><td>19</td><td>2020-01-27 12:22:50.200</td></tr><tr><td>0</td><td>81</td><td>19</td><td>2020-01-27 12:21:50.177</td></tr><tr><td>0</td><td>80</td><td>20</td><td>2020-01-27 12:20:50.160</td></tr><tr><td>0</td><td>73</td><td>27</td><td>2020-01-27 12:19:50.130</td></tr><tr><td>0</td><td>75</td><td>25</td><td>2020-01-27 12:18:50.100</td></tr><tr><td>0</td><td>71</td><td>29</td><td>2020-01-27 12:17:50.033</td></tr><tr><td>0</td><td>82</td><td>18</td><td>2020-01-27 12:16:49.927</td></tr><tr><td>4</td><td>73</td><td>23</td><td>2020-01-27 12:15:49.787</td></tr><tr><td>0</td><td>87</td><td>13</td><td>2020-01-27 12:14:49.677</td></tr><tr><td>0</td><td>91</td><td>9</td><td>2020-01-27 12:13:49.587</td></tr><tr><td>0</td><td>82</td><td>18</td><td>2020-01-27 12:12:49.567</td></tr><tr><td>0</td><td>68</td><td>32</td><td>2020-01-27 12:11:49.490</td></tr><tr><td>0</td><td>69</td><td>31</td><td>2020-01-27 12:10:49.397</td></tr><tr><td>0</td><td>92</td><td>8</td><td>2020-01-27 12:09:49.237</td></tr><tr><td>0</td><td>87</td><td>13</td><td>2020-01-27 12:08:49.143</td></tr><tr><td>0</td><td>94</td><td>6</td><td>2020-01-27 12:07:48.990</td></tr><tr><td>0</td><td>95</td><td>5</td><td>2020-01-27 12:06:48.850</td></tr><tr><td>0</td><td>81</td><td>19</td><td>2020-01-27 12:05:48.740</td></tr><tr><td>0</td><td>94</td><td>6</td><td>2020-01-27 12:04:48.643</td></tr><tr><td>0</td><td>92</td><td>8</td><td>2020-01-27 12:03:48.550</td></tr><tr><td>0</td><td>95</td><td>5</td><td>2020-01-27 12:02:48.520</td></tr><tr><td>0</td><td>95</td><td>5</td><td>2020-01-27 12:01:48.470</td></tr><tr><td>4</td><td>81</td><td>15</td><td>2020-01-27 12:00:48.410</td></tr><tr><td>0</td><td>96</td><td>4</td><td>2020-01-27 11:59:48.257</td></tr><tr><td>0</td><td>90</td><td>10</td><td>2020-01-27 11:58:48.160</td></tr><tr><td>0</td><td>93</td><td>7</td><td>2020-01-27 11:57:48.037</td></tr><tr><td>0</td><td>91</td><td>9</td><td>2020-01-27 11:56:47.880</td></tr><tr><td>0</td><td>95</td><td>5</td><td>2020-01-27 11:55:47.787</td></tr><tr><td>0</td><td>77</td><td>23</td><td>2020-01-27 11:54:47.690</td></tr><tr><td>0</td><td>81</td><td>19</td><td>2020-01-27 11:53:47.550</td></tr><tr><td>0</td><td>96</td><td>4</td><td>2020-01-27 11:52:47.470</td></tr><tr><td>0</td><td>96</td><td>4</td><td>2020-01-27 11:51:47.380</td></tr><tr><td>0</td><td>94</td><td>6</td><td>2020-01-27 11:50:47.287</td></tr><tr><td>0</td><td>87</td><td>13</td><td>2020-01-27 11:49:47.160</td></tr><tr><td>0</td><td>90</td><td>10</td><td>2020-01-27 11:48:47.020</td></tr><tr><td>0</td><td>95</td><td>5</td><td>2020-01-27 11:47:46.880</td></tr><tr><td>0</td><td>93</td><td>7</td><td>2020-01-27 11:46:46.737</td></tr><tr><td>4</td><td>86</td><td>10</td><td>2020-01-27 11:45:46.597</td></tr><tr><td>0</td><td>96</td><td>4</td><td>2020-01-27 11:44:46.537</td></tr><tr><td>0</td><td>93</td><td>7</td><td>2020-01-27 11:43:46.503</td></tr><tr><td>0</td><td>93</td><td>7</td><td>2020-01-27 11:42:46.393</td></tr><tr><td>0</td><td>94</td><td>6</td><td>2020-01-27 11:41:46.250</td></tr><tr><td>0</td><td>95</td><td>5</td><td>2020-01-27 11:40:46.113</td></tr><tr><td>0</td><td>96</td><td>4</td><td>2020-01-27 11:39:46.017</td></tr><tr><td>0</td><td>94</td><td>6</td><td>2020-01-27 11:38:45.873</td></tr><tr><td>0</td><td>90</td><td>10</td><td>2020-01-27 11:37:45.743</td></tr><tr><td>0</td><td>95</td><td>5</td><td>2020-01-27 11:36:45.597</td></tr><tr><td>0</td><td>88</td><td>12</td><td>2020-01-27 11:35:45.560</td></tr><tr><td>0</td><td>91</td><td>9</td><td>2020-01-27 11:34:45.500</td></tr><tr><td>0</td><td>95</td><td>5</td><td>2020-01-27 11:33:45.410</td></tr><tr><td>0</td><td>91</td><td>9</td><td>2020-01-27 11:32:45.290</td></tr><tr><td>0</td><td>95</td><td>5</td><td>2020-01-27 11:31:45.157</td></tr><tr><td>5</td><td>84</td><td>11</td><td>2020-01-27 11:30:45.020</td></tr><tr><td>1</td><td>94</td><td>5</td><td>2020-01-27 11:29:44.907</td></tr><tr><td>1</td><td>94</td><td>5</td><td>2020-01-27 11:28:44.820</td></tr><tr><td>1</td><td>89</td><td>10</td><td>2020-01-27 11:27:44.717</td></tr><tr><td>1</td><td>91</td><td>8</td><td>2020-01-27 11:26:44.610</td></tr><tr><td>1</td><td>93</td><td>6</td><td>2020-01-27 11:25:44.487</td></tr><tr><td>0</td><td>94</td><td>6</td><td>2020-01-27 11:24:44.363</td></tr><tr><td>0</td><td>87</td><td>13</td><td>2020-01-27 11:23:44.247</td></tr><tr><td>1</td><td>63</td><td>36</td><td>2020-01-27 11:22:44.133</td></tr><tr><td>1</td><td>75</td><td>24</td><td>2020-01-27 11:21:44.000</td></tr><tr><td>1</td><td>69</td><td>30</td><td>2020-01-27 11:20:43.970</td></tr><tr><td>1</td><td>77</td><td>22</td><td>2020-01-27 11:19:43.933</td></tr><tr><td>4</td><td>58</td><td>38</td><td>2020-01-27 11:18:43.867</td></tr><tr><td>2</td><td>58</td><td>40</td><td>2020-01-27 11:17:43.760</td></tr><tr><td>0</td><td>72</td><td>28</td><td>2020-01-27 11:16:43.713</td></tr><tr><td>5</td><td>66</td><td>29</td><td>2020-01-27 11:15:43.650</td></tr><tr><td>0</td><td>75</td><td>25</td><td>2020-01-27 11:14:43.590</td></tr><tr><td>0</td><td>66</td><td>34</td><td>2020-01-27 11:13:43.493</td></tr><tr><td>0</td><td>64</td><td>36</td><td>2020-01-27 11:12:43.467</td></tr><tr><td>0</td><td>72</td><td>28</td><td>2020-01-27 11:11:43.447</td></tr><tr><td>0</td><td>69</td><td>31</td><td>2020-01-27 11:10:43.410</td></tr><tr><td>0</td><td>58</td><td>42</td><td>2020-01-27 11:09:43.340</td></tr><tr><td>0</td><td>67</td><td>33</td><td>2020-01-27 11:08:43.313</td></tr><tr><td>0</td><td>65</td><td>35</td><td>2020-01-27 11:07:43.290</td></tr><tr><td>0</td><td>81</td><td>19</td><td>2020-01-27 11:06:43.263</td></tr><tr><td>0</td><td>77</td><td>23</td><td>2020-01-27 11:05:43.243</td></tr><tr><td>0</td><td>78</td><td>22</td><td>2020-01-27 11:04:43.230</td></tr><tr><td>0</td><td>76</td><td>24</td><td>2020-01-27 11:03:43.213</td></tr><tr><td>0</td><td>75</td><td>25</td><td>2020-01-27 11:02:43.207</td></tr><tr><td>0</td><td>89</td><td>11</td><td>2020-01-27 11:01:43.193</td></tr><tr><td>5</td><td>82</td><td>13</td><td>2020-01-27 11:00:43.180</td></tr><tr><td>0</td><td>93</td><td>7</td><td>2020-01-27 10:59:43.140</td></tr><tr><td>0</td><td>92</td><td>8</td><td>2020-01-27 10:58:43.113</td></tr><tr><td>0</td><td>93</td><td>7</td><td>2020-01-27 10:57:43.090</td></tr><tr><td>0</td><td>84</td><td>16</td><td>2020-01-27 10:56:43.083</td></tr><tr><td>0</td><td>78</td><td>22</td><td>2020-01-27 10:55:43.063</td></tr><tr><td>0</td><td>81</td><td>19</td><td>2020-01-27 10:54:43.057</td></tr><tr><td>0</td><td>83</td><td>17</td><td>2020-01-27 10:53:43.040</td></tr><tr><td>0</td><td>66</td><td>34</td><td>2020-01-27 10:52:42.960</td></tr><tr><td>0</td><td>94</td><td>6</td><td>2020-01-27 10:51:42.937</td></tr><tr><td>0</td><td>77</td><td>23</td><td>2020-01-27 10:50:42.920</td></tr><tr><td>0</td><td>88</td><td>12</td><td>2020-01-27 10:49:42.850</td></tr><tr><td>0</td><td>87</td><td>13</td><td>2020-01-27 10:48:42.843</td></tr><tr><td>0</td><td>76</td><td>24</td><td>2020-01-27 10:47:42.790</td></tr><tr><td>0</td><td>94</td><td>6</td><td>2020-01-27 10:46:42.763</td></tr><tr><td>4</td><td>80</td><td>16</td><td>2020-01-27 10:45:42.733</td></tr><tr><td>0</td><td>87</td><td>13</td><td>2020-01-27 10:44:42.710</td></tr><tr><td>0</td><td>74</td><td>26</td><td>2020-01-27 10:43:42.667</td></tr><tr><td>0</td><td>91</td><td>9</td><td>2020-01-27 10:42:42.627</td></tr><tr><td>0</td><td>91</td><td>9</td><td>2020-01-27 10:41:42.620</td></tr><tr><td>0</td><td>85</td><td>15</td><td>2020-01-27 10:40:42.593</td></tr><tr><td>0</td><td>77</td><td>23</td><td>2020-01-27 10:39:42.560</td></tr><tr><td>0</td><td>75</td><td>25</td><td>2020-01-27 10:38:42.537</td></tr><tr><td>0</td><td>88</td><td>12</td><td>2020-01-27 10:37:42.470</td></tr><tr><td>0</td><td>79</td><td>21</td><td>2020-01-27 10:36:42.463</td></tr><tr><td>0</td><td>86</td><td>14</td><td>2020-01-27 10:35:42.457</td></tr><tr><td>0</td><td>89</td><td>11</td><td>2020-01-27 10:34:42.377</td></tr><tr><td>0</td><td>90</td><td>10</td><td>2020-01-27 10:33:42.333</td></tr><tr><td>0</td><td>90</td><td>10</td><td>2020-01-27 10:32:42.327</td></tr><tr><td>0</td><td>85</td><td>15</td><td>2020-01-27 10:31:42.320</td></tr><tr><td>5</td><td>68</td><td>27</td><td>2020-01-27 10:30:42.293</td></tr><tr><td>0</td><td>69</td><td>31</td><td>2020-01-27 10:29:42.127</td></tr><tr><td>11</td><td>37</td><td>52</td><td>2020-01-27 10:28:42.077</td></tr><tr><td>1</td><td>65</td><td>34</td><td>2020-01-27 10:27:41.890</td></tr><tr><td>0</td><td>66</td><td>34</td><td>2020-01-27 10:26:41.873</td></tr><tr><td>0</td><td>76</td><td>24</td><td>2020-01-27 10:25:41.853</td></tr><tr><td>0</td><td>68</td><td>32</td><td>2020-01-27 10:24:41.847</td></tr><tr><td>0</td><td>91</td><td>9</td><td>2020-01-27 10:23:41.827</td></tr><tr><td>0</td><td>93</td><td>7</td><td>2020-01-27 10:22:41.787</td></tr><tr><td>0</td><td>93</td><td>7</td><td>2020-01-27 10:21:41.743</td></tr><tr><td>0</td><td>84</td><td>16</td><td>2020-01-27 10:20:41.707</td></tr><tr><td>0</td><td>85</td><td>15</td><td>2020-01-27 10:19:41.700</td></tr><tr><td>0</td><td>73</td><td>27</td><td>2020-01-27 10:18:41.690</td></tr><tr><td>0</td><td>84</td><td>16</td><td>2020-01-27 10:17:41.673</td></tr><tr><td>0</td><td>73</td><td>27</td><td>2020-01-27 10:16:41.663</td></tr><tr><td>5</td><td>70</td><td>25</td><td>2020-01-27 10:15:41.620</td></tr><tr><td>0</td><td>85</td><td>15</td><td>2020-01-27 10:14:41.607</td></tr><tr><td>0</td><td>89</td><td>11</td><td>2020-01-27 10:13:41.597</td></tr><tr><td>0</td><td>87</td><td>13</td><td>2020-01-27 10:12:41.590</td></tr><tr><td>0</td><td>76</td><td>24</td><td>2020-01-27 10:11:41.583</td></tr><tr><td>0</td><td>69</td><td>31</td><td>2020-01-27 10:10:41.537</td></tr><tr><td>0</td><td>71</td><td>29</td><td>2020-01-27 10:09:41.480</td></tr></table>"
                    }
                }
            ],
            "execution_count": 20
        },
        {
            "cell_type": "markdown",
            "source": [
                "## Top Worker Time Queries\n",
                "\n",
                "Get top total worker time queries for entire instance"
            ],
            "metadata": {
                "azdata_cell_guid": "a701bf3e-0833-4526-a863-ade13056ab77"
            }
        },
        {
            "cell_type": "code",
            "source": [
                "SELECT TOP(50) DB_NAME(t.[dbid]) AS [Database Name], \n",
                "REPLACE(REPLACE(LEFT(t.[text], 255), CHAR(10),''), CHAR(13),'') AS [Short Query Text],  \n",
                "qs.total_worker_time AS [Total Worker Time], qs.min_worker_time AS [Min Worker Time],\n",
                "qs.total_worker_time/qs.execution_count AS [Avg Worker Time], \n",
                "qs.max_worker_time AS [Max Worker Time], \n",
                "qs.min_elapsed_time AS [Min Elapsed Time], \n",
                "qs.total_elapsed_time/qs.execution_count AS [Avg Elapsed Time], \n",
                "qs.max_elapsed_time AS [Max Elapsed Time],\n",
                "qs.min_logical_reads AS [Min Logical Reads],\n",
                "qs.total_logical_reads/qs.execution_count AS [Avg Logical Reads],\n",
                "qs.max_logical_reads AS [Max Logical Reads], \n",
                "qs.execution_count AS [Execution Count],\n",
                "CASE WHEN CONVERT(nvarchar(max), qp.query_plan) LIKE N'%<MissingIndexes>%' THEN 1 ELSE 0 END AS [Has Missing Index], \n",
                "qs.creation_time AS [Creation Time]\n",
                ", t.[text] AS [Complete Query Text], qp.query_plan AS [Query Plan]\n",
                "FROM sys.dm_exec_query_stats AS qs WITH (NOLOCK)\n",
                "CROSS APPLY sys.dm_exec_sql_text(plan_handle) AS t \n",
                "CROSS APPLY sys.dm_exec_query_plan(plan_handle) AS qp \n",
                "ORDER BY qs.total_worker_time DESC OPTION (RECOMPILE);\n",
                ""
            ],
            "metadata": {
                "azdata_cell_guid": "87ff41ae-2a97-4371-85cd-28f11b074425"
            },
            "outputs": [],
            "execution_count": 0
        },
        {
            "cell_type": "markdown",
            "source": [
                "## PLE by NUMA Node\n",
                "\n",
                "Page Life Expectancy (PLE) value for each NUMA node in current instance "
            ],
            "metadata": {
                "azdata_cell_guid": "d3d7b8cc-31be-48fd-a692-65eb92b5103d"
            }
        },
        {
            "cell_type": "code",
            "source": [
                "SELECT @@SERVERNAME AS [Server Name], RTRIM([object_name]) AS [Object Name], instance_name, cntr_value AS [Page Life Expectancy]\n",
                "FROM sys.dm_os_performance_counters WITH (NOLOCK)\n",
                "WHERE [object_name] LIKE N'%Buffer Node%' -- Handles named instances\n",
                "AND counter_name = N'Page life expectancy' OPTION (RECOMPILE);\n",
                ""
            ],
            "metadata": {
                "azdata_cell_guid": "59b02b6b-981e-4b33-a5cf-457f7f29f6b0"
            },
            "outputs": [],
            "execution_count": 0
        },
        {
            "cell_type": "markdown",
            "source": [
                "## Memory Grants Pending\n",
                "\n",
                "Memory Grants Pending value for current instance "
            ],
            "metadata": {
                "azdata_cell_guid": "3302f318-6627-4779-ae44-cdb13f95067a"
            }
        },
        {
            "cell_type": "code",
            "source": [
                "SELECT @@SERVERNAME AS [Server Name], RTRIM([object_name]) AS [Object Name], cntr_value AS [Memory Grants Pending]                                                                                                       \n",
                "FROM sys.dm_os_performance_counters WITH (NOLOCK)\n",
                "WHERE [object_name] LIKE N'%Memory Manager%' -- Handles named instances\n",
                "AND counter_name = N'Memory Grants Pending' OPTION (RECOMPILE);\n",
                ""
            ],
            "metadata": {
                "azdata_cell_guid": "7c6b076c-8b2c-4ac8-bc0a-ea9821c7c747"
            },
            "outputs": [],
            "execution_count": 0
        },
        {
            "cell_type": "markdown",
            "source": [
                "## Memory Clerk Usage\n",
                "\n",
                "Memory Clerk Usage for instance "
            ],
            "metadata": {
                "azdata_cell_guid": "4184adfc-0ad9-40f7-8d93-fb17c7257682"
            }
        },
        {
            "cell_type": "code",
            "source": [
                "SELECT TOP(10) mc.[type] AS [Memory Clerk Type], \n",
                "       CAST((SUM(mc.pages_kb)/1024.0) AS DECIMAL (15,2)) AS [Memory Usage (MB)] \n",
                "FROM sys.dm_os_memory_clerks AS mc WITH (NOLOCK)\n",
                "GROUP BY mc.[type]  \n",
                "ORDER BY SUM(mc.pages_kb) DESC OPTION (RECOMPILE);\n",
                ""
            ],
            "metadata": {
                "azdata_cell_guid": "49e2902b-3ca0-410d-bd68-af76c02fd128"
            },
            "outputs": [],
            "execution_count": 0
        },
        {
            "cell_type": "markdown",
            "source": [
                "## Ad hoc Queries\n",
                "\n",
                "Find single-use, ad-hoc and prepared queries that are bloating the plan cache "
            ],
            "metadata": {
                "azdata_cell_guid": "2205c845-3baf-49a9-9670-241494d1215d"
            }
        },
        {
            "cell_type": "code",
            "source": [
                "SELECT TOP(50) DB_NAME(t.[dbid]) AS [Database Name], t.[text] AS [Query Text], \n",
                "cp.objtype AS [Object Type], cp.cacheobjtype AS [Cache Object Type],  \n",
                "cp.size_in_bytes/1024 AS [Plan Size in KB]\n",
                "FROM sys.dm_exec_cached_plans AS cp WITH (NOLOCK)\n",
                "CROSS APPLY sys.dm_exec_sql_text(plan_handle) AS t\n",
                "WHERE cp.cacheobjtype = N'Compiled Plan' \n",
                "AND cp.objtype IN (N'Adhoc', N'Prepared') \n",
                "AND cp.usecounts = 1\n",
                "ORDER BY cp.size_in_bytes DESC, DB_NAME(t.[dbid]) OPTION (RECOMPILE);\n",
                ""
            ],
            "metadata": {
                "azdata_cell_guid": "e27ae1e2-b2f1-4b35-be48-9674a09ae811"
            },
            "outputs": [],
            "execution_count": 0
        },
        {
            "cell_type": "markdown",
            "source": [
                "## Top Logical Reads Queries\n",
                "\n",
                "Get top total logical reads queries for entire instance"
            ],
            "metadata": {
                "azdata_cell_guid": "7e31313e-e89e-44ac-abca-04e1bdf9ed02"
            }
        },
        {
            "cell_type": "code",
            "source": [
                "SELECT TOP(50) DB_NAME(t.[dbid]) AS [Database Name],\n",
                "REPLACE(REPLACE(LEFT(t.[text], 255), CHAR(10),''), CHAR(13),'') AS [Short Query Text], \n",
                "qs.total_logical_reads AS [Total Logical Reads],\n",
                "qs.min_logical_reads AS [Min Logical Reads],\n",
                "qs.total_logical_reads/qs.execution_count AS [Avg Logical Reads],\n",
                "qs.max_logical_reads AS [Max Logical Reads],   \n",
                "qs.min_worker_time AS [Min Worker Time],\n",
                "qs.total_worker_time/qs.execution_count AS [Avg Worker Time], \n",
                "qs.max_worker_time AS [Max Worker Time], \n",
                "qs.min_elapsed_time AS [Min Elapsed Time], \n",
                "qs.total_elapsed_time/qs.execution_count AS [Avg Elapsed Time], \n",
                "qs.max_elapsed_time AS [Max Elapsed Time],\n",
                "qs.execution_count AS [Execution Count], \n",
                "CASE WHEN CONVERT(nvarchar(max), qp.query_plan) LIKE N'%<MissingIndexes>%' THEN 1 ELSE 0 END AS [Has Missing Index],\n",
                "qs.creation_time AS [Creation Time]\n",
                ", t.[text] AS [Complete Query Text], qp.query_plan AS [Query Plan]\n",
                "FROM sys.dm_exec_query_stats AS qs WITH (NOLOCK)\n",
                "CROSS APPLY sys.dm_exec_sql_text(plan_handle) AS t \n",
                "CROSS APPLY sys.dm_exec_query_plan(plan_handle) AS qp \n",
                "ORDER BY qs.total_logical_reads DESC OPTION (RECOMPILE);\n",
                ""
            ],
            "metadata": {
                "azdata_cell_guid": "164b19b4-ade0-466f-959e-17ce150e5082"
            },
            "outputs": [],
            "execution_count": 0
        },
        {
            "cell_type": "markdown",
            "source": [
                "## Top Avg Elapsed Time Queries\n",
                "\n",
                "Get top average elapsed time queries for entire instance"
            ],
            "metadata": {
                "azdata_cell_guid": "91bb8e49-f855-400a-baed-9c307da3befb"
            }
        },
        {
            "cell_type": "code",
            "source": [
                "SELECT TOP(50) DB_NAME(t.[dbid]) AS [Database Name], \n",
                "REPLACE(REPLACE(LEFT(t.[text], 255), CHAR(10),''), CHAR(13),'') AS [Short Query Text],  \n",
                "qs.total_elapsed_time/qs.execution_count AS [Avg Elapsed Time],\n",
                "qs.min_elapsed_time, qs.max_elapsed_time, qs.last_elapsed_time,\n",
                "qs.execution_count AS [Execution Count],  \n",
                "qs.total_logical_reads/qs.execution_count AS [Avg Logical Reads], \n",
                "qs.total_physical_reads/qs.execution_count AS [Avg Physical Reads], \n",
                "qs.total_worker_time/qs.execution_count AS [Avg Worker Time],\n",
                "CASE WHEN CONVERT(nvarchar(max), qp.query_plan) LIKE N'%<MissingIndexes>%' THEN 1 ELSE 0 END AS [Has Missing Index],\n",
                "qs.creation_time AS [Creation Time]\n",
                ", t.[text] AS [Complete Query Text], qp.query_plan AS [Query Plan]\n",
                "FROM sys.dm_exec_query_stats AS qs WITH (NOLOCK)\n",
                "CROSS APPLY sys.dm_exec_sql_text(plan_handle) AS t \n",
                "CROSS APPLY sys.dm_exec_query_plan(plan_handle) AS qp \n",
                "ORDER BY qs.total_elapsed_time/qs.execution_count DESC OPTION (RECOMPILE);\n",
                ""
            ],
            "metadata": {
                "azdata_cell_guid": "0eee35e8-f1d1-4f75-b628-240c6b928eb3"
            },
            "outputs": [],
            "execution_count": 0
        },
        {
            "cell_type": "markdown",
            "source": [
                "## UDF Stats by DB\n",
                "\n",
                "Look at UDF execution statistics"
            ],
            "metadata": {
                "azdata_cell_guid": "41437c09-9542-43b3-9f02-e933046ca845"
            }
        },
        {
            "cell_type": "code",
            "source": [
                "SELECT TOP (25) DB_NAME(database_id) AS [Database Name], \n",
                "\t\t   OBJECT_NAME(object_id, database_id) AS [Function Name],\n",
                "\t\t   total_worker_time, execution_count, total_elapsed_time,  \n",
                "           total_elapsed_time/execution_count AS [avg_elapsed_time],  \n",
                "           last_elapsed_time, last_execution_time, cached_time, [type_desc] \n",
                "FROM sys.dm_exec_function_stats WITH (NOLOCK) \n",
                "ORDER BY total_worker_time DESC OPTION (RECOMPILE);\n",
                ""
            ],
            "metadata": {
                "azdata_cell_guid": "0aa7eb03-eefe-4021-98b4-2cf55596d9cd"
            },
            "outputs": [],
            "execution_count": 0
        },
        {
            "cell_type": "markdown",
            "source": [
                "## File Sizes and Space\n",
                "\n",
                "Individual File Sizes and space available for current database "
            ],
            "metadata": {
                "azdata_cell_guid": "2f673eb5-71dd-48a7-8aeb-ed7c3cfa4146"
            }
        },
        {
            "cell_type": "code",
            "source": [
                "SELECT f.name AS [File Name] , f.physical_name AS [Physical Name], \n",
                "CAST((f.size/128.0) AS DECIMAL(15,2)) AS [Total Size in MB],\n",
                "CAST(f.size/128.0 - CAST(FILEPROPERTY(f.name, 'SpaceUsed') AS int)/128.0 AS DECIMAL(15,2)) \n",
                "AS [Available Space In MB], f.[file_id], fg.name AS [Filegroup Name],\n",
                "f.is_percent_growth, f.growth, fg.is_default, fg.is_read_only, \n",
                "fg.is_autogrow_all_files\n",
                "FROM sys.database_files AS f WITH (NOLOCK) \n",
                "LEFT OUTER JOIN sys.filegroups AS fg WITH (NOLOCK)\n",
                "ON f.data_space_id = fg.data_space_id\n",
                "ORDER BY f.[file_id] OPTION (RECOMPILE);\n",
                ""
            ],
            "metadata": {
                "azdata_cell_guid": "56dfe6c9-b04f-4385-b8e8-cb445ad627fd"
            },
            "outputs": [],
            "execution_count": 0
        },
        {
            "cell_type": "markdown",
            "source": [
                "## Log Space Usage\n",
                "\n",
                "Log space usage for current database "
            ],
            "metadata": {
                "azdata_cell_guid": "136c8ece-6046-4be9-b62f-0b78a69c5d33"
            }
        },
        {
            "cell_type": "code",
            "source": [
                "SELECT DB_NAME(lsu.database_id) AS [Database Name], db.recovery_model_desc AS [Recovery Model],\n",
                "\t\tCAST(lsu.total_log_size_in_bytes/1048576.0 AS DECIMAL(10, 2)) AS [Total Log Space (MB)],\n",
                "\t\tCAST(lsu.used_log_space_in_bytes/1048576.0 AS DECIMAL(10, 2)) AS [Used Log Space (MB)], \n",
                "\t\tCAST(lsu.used_log_space_in_percent AS DECIMAL(10, 2)) AS [Used Log Space %],\n",
                "\t\tCAST(lsu.log_space_in_bytes_since_last_backup/1048576.0 AS DECIMAL(10, 2)) AS [Used Log Space Since Last Backup (MB)],\n",
                "\t\tdb.log_reuse_wait_desc\t\t \n",
                "FROM sys.dm_db_log_space_usage AS lsu WITH (NOLOCK)\n",
                "INNER JOIN sys.databases AS db WITH (NOLOCK)\n",
                "ON lsu.database_id = db.database_id\n",
                "OPTION (RECOMPILE);\n",
                ""
            ],
            "metadata": {
                "azdata_cell_guid": "bb377a5c-5254-4aa6-97d9-850749a9dac8"
            },
            "outputs": [],
            "execution_count": 0
        },
        {
            "cell_type": "markdown",
            "source": [
                "## Last VLF Status\n",
                "\n",
                "Status of last VLF for current database "
            ],
            "metadata": {
                "azdata_cell_guid": "9a2fdd3b-7285-421b-a2e0-5f30dda26cda"
            }
        },
        {
            "cell_type": "code",
            "source": [
                "SELECT TOP(1) DB_NAME(li.database_id) AS [Database Name], li.[file_id],\n",
                "              li.vlf_size_mb, li.vlf_sequence_number, li.vlf_active, li.vlf_status\n",
                "FROM sys.dm_db_log_info(DB_ID()) AS li \n",
                "ORDER BY vlf_sequence_number DESC OPTION (RECOMPILE);\n",
                ""
            ],
            "metadata": {
                "azdata_cell_guid": "7ed784f2-3e53-442f-a630-4cf9d2955998"
            },
            "outputs": [],
            "execution_count": 0
        },
        {
            "cell_type": "markdown",
            "source": [
                "## Database-scoped Configurations\n",
                "\n",
                "Get database scoped configuration values for current database"
            ],
            "metadata": {
                "azdata_cell_guid": "fcf84053-bfa4-46ac-abfb-d6cc22a2cd23"
            }
        },
        {
            "cell_type": "code",
            "source": [
                "SELECT configuration_id, name, [value] AS [value_for_primary], value_for_secondary\n",
                "FROM sys.database_scoped_configurations WITH (NOLOCK) OPTION (RECOMPILE);\n",
                ""
            ],
            "metadata": {
                "azdata_cell_guid": "9c3527f6-0017-48d6-9843-f242877fee08"
            },
            "outputs": [],
            "execution_count": 0
        },
        {
            "cell_type": "markdown",
            "source": [
                "## IO Stats By File\n",
                "\n",
                "I/O Statistics by file for the current database "
            ],
            "metadata": {
                "azdata_cell_guid": "ba086b23-9a3c-4417-a990-094fe5ced375"
            }
        },
        {
            "cell_type": "code",
            "source": [
                "SELECT DB_NAME(DB_ID()) AS [Database Name], df.name AS [Logical Name], vfs.[file_id], df.type_desc,\n",
                "df.physical_name AS [Physical Name], CAST(vfs.size_on_disk_bytes/1048576.0 AS DECIMAL(16, 2)) AS [Size on Disk (MB)],\n",
                "vfs.num_of_reads, vfs.num_of_writes, vfs.io_stall_read_ms, vfs.io_stall_write_ms,\n",
                "CAST(100. * vfs.io_stall_read_ms/(vfs.io_stall_read_ms + vfs.io_stall_write_ms) AS DECIMAL(16,1)) AS [IO Stall Reads Pct],\n",
                "CAST(100. * vfs.io_stall_write_ms/(vfs.io_stall_write_ms + vfs.io_stall_read_ms) AS DECIMAL(16,1)) AS [IO Stall Writes Pct],\n",
                "(vfs.num_of_reads + vfs.num_of_writes) AS [Writes + Reads], \n",
                "CAST(vfs.num_of_bytes_read/1048576.0 AS DECIMAL(16, 2)) AS [MB Read], \n",
                "CAST(vfs.num_of_bytes_written/1048576.0 AS DECIMAL(16, 2)) AS [MB Written],\n",
                "CAST(100. * vfs.num_of_reads/(vfs.num_of_reads + vfs.num_of_writes) AS DECIMAL(16,1)) AS [# Reads Pct],\n",
                "CAST(100. * vfs.num_of_writes/(vfs.num_of_reads + vfs.num_of_writes) AS DECIMAL(16,1)) AS [# Write Pct],\n",
                "CAST(100. * vfs.num_of_bytes_read/(vfs.num_of_bytes_read + vfs.num_of_bytes_written) AS DECIMAL(16,1)) AS [Read Bytes Pct],\n",
                "CAST(100. * vfs.num_of_bytes_written/(vfs.num_of_bytes_read + vfs.num_of_bytes_written) AS DECIMAL(16,1)) AS [Written Bytes Pct]\n",
                "FROM sys.dm_io_virtual_file_stats(DB_ID(), NULL) AS vfs\n",
                "INNER JOIN sys.database_files AS df WITH (NOLOCK)\n",
                "ON vfs.[file_id]= df.[file_id] OPTION (RECOMPILE);\n",
                ""
            ],
            "metadata": {
                "azdata_cell_guid": "27989024-4464-465a-988f-32b7dd001482"
            },
            "outputs": [],
            "execution_count": 0
        },
        {
            "cell_type": "markdown",
            "source": [
                "## Query Execution Counts\n",
                "\n",
                "Get most frequently executed queries for this database"
            ],
            "metadata": {
                "azdata_cell_guid": "f8a1c2a7-2fba-4491-bed7-b7df3b3c241e"
            }
        },
        {
            "cell_type": "code",
            "source": [
                "SELECT TOP(50) LEFT(t.[text], 50) AS [Short Query Text], qs.execution_count AS [Execution Count],\n",
                "qs.total_logical_reads AS [Total Logical Reads],\n",
                "qs.total_logical_reads/qs.execution_count AS [Avg Logical Reads],\n",
                "qs.total_worker_time AS [Total Worker Time],\n",
                "qs.total_worker_time/qs.execution_count AS [Avg Worker Time], \n",
                "qs.total_elapsed_time AS [Total Elapsed Time],\n",
                "qs.total_elapsed_time/qs.execution_count AS [Avg Elapsed Time],\n",
                "CASE WHEN CONVERT(nvarchar(max), qp.query_plan) LIKE N'%<MissingIndexes>%' THEN 1 ELSE 0 END AS [Has Missing Index], \n",
                "qs.creation_time AS [Creation Time]\n",
                ", t.[text] AS [Complete Query Text], qp.query_plan AS [Query Plan]\n",
                "FROM sys.dm_exec_query_stats AS qs WITH (NOLOCK)\n",
                "CROSS APPLY sys.dm_exec_sql_text(plan_handle) AS t \n",
                "CROSS APPLY sys.dm_exec_query_plan(plan_handle) AS qp \n",
                "WHERE t.dbid = DB_ID()\n",
                "ORDER BY qs.execution_count DESC OPTION (RECOMPILE);\n",
                ""
            ],
            "metadata": {
                "azdata_cell_guid": "be9e2dd6-486a-4a39-b1ba-b552bdc8edac"
            },
            "outputs": [],
            "execution_count": 0
        },
        {
            "cell_type": "markdown",
            "source": [
                "## SP Execution Counts\n",
                "\n",
                "Top Cached SPs By Execution Count"
            ],
            "metadata": {
                "azdata_cell_guid": "d1c45b5e-f9de-42cf-ab4e-7a604e76b63a"
            }
        },
        {
            "cell_type": "code",
            "source": [
                "SELECT TOP(100) p.name AS [SP Name], qs.execution_count AS [Execution Count],\n",
                "ISNULL(qs.execution_count/DATEDIFF(Minute, qs.cached_time, GETDATE()), 0) AS [Calls/Minute],\n",
                "qs.total_elapsed_time/qs.execution_count AS [Avg Elapsed Time],\n",
                "qs.total_worker_time/qs.execution_count AS [Avg Worker Time],    \n",
                "qs.total_logical_reads/qs.execution_count AS [Avg Logical Reads],\n",
                "CASE WHEN CONVERT(nvarchar(max), qp.query_plan) LIKE N'%<MissingIndexes>%' THEN 1 ELSE 0 END AS [Has Missing Index],\n",
                "FORMAT(qs.last_execution_time, 'yyyy-MM-dd HH:mm:ss', 'en-US') AS [Last Execution Time], \n",
                "FORMAT(qs.cached_time, 'yyyy-MM-dd HH:mm:ss', 'en-US') AS [Plan Cached Time]\n",
                "FROM sys.procedures AS p WITH (NOLOCK)\n",
                "INNER JOIN sys.dm_exec_procedure_stats AS qs WITH (NOLOCK)\n",
                "ON p.[object_id] = qs.[object_id]\n",
                "CROSS APPLY sys.dm_exec_query_plan(qs.plan_handle) AS qp\n",
                "WHERE qs.database_id = DB_ID()\n",
                "AND DATEDIFF(Minute, qs.cached_time, GETDATE()) > 0\n",
                "ORDER BY qs.execution_count DESC OPTION (RECOMPILE);\n",
                ""
            ],
            "metadata": {
                "azdata_cell_guid": "e7e2debe-0df2-455a-9d05-3d2f18c37bad"
            },
            "outputs": [],
            "execution_count": 0
        },
        {
            "cell_type": "markdown",
            "source": [
                "## SP Avg Elapsed Time\n",
                "\n",
                "Top Cached SPs By Avg Elapsed Time"
            ],
            "metadata": {
                "azdata_cell_guid": "a65a5510-1d31-4cf7-aa92-a4d134a1c69a"
            }
        },
        {
            "cell_type": "code",
            "source": [
                "SELECT TOP(25) p.name AS [SP Name], qs.min_elapsed_time, qs.total_elapsed_time/qs.execution_count AS [avg_elapsed_time], \n",
                "qs.max_elapsed_time, qs.last_elapsed_time, qs.total_elapsed_time, qs.execution_count, \n",
                "ISNULL(qs.execution_count/DATEDIFF(Minute, qs.cached_time, GETDATE()), 0) AS [Calls/Minute], \n",
                "qs.total_worker_time/qs.execution_count AS [AvgWorkerTime], \n",
                "qs.total_worker_time AS [TotalWorkerTime],\n",
                "CASE WHEN CONVERT(nvarchar(max), qp.query_plan) LIKE N'%<MissingIndexes>%' THEN 1 ELSE 0 END AS [Has Missing Index],\n",
                "FORMAT(qs.last_execution_time, 'yyyy-MM-dd HH:mm:ss', 'en-US') AS [Last Execution Time], \n",
                "FORMAT(qs.cached_time, 'yyyy-MM-dd HH:mm:ss', 'en-US') AS [Plan Cached Time]\n",
                "FROM sys.procedures AS p WITH (NOLOCK)\n",
                "INNER JOIN sys.dm_exec_procedure_stats AS qs WITH (NOLOCK)\n",
                "ON p.[object_id] = qs.[object_id]\n",
                "CROSS APPLY sys.dm_exec_query_plan(qs.plan_handle) AS qp\n",
                "WHERE qs.database_id = DB_ID()\n",
                "AND DATEDIFF(Minute, qs.cached_time, GETDATE()) > 0\n",
                "ORDER BY avg_elapsed_time DESC OPTION (RECOMPILE);\n",
                ""
            ],
            "metadata": {
                "azdata_cell_guid": "58b148a1-a874-4c8c-b489-b612d3f3bf0f"
            },
            "outputs": [],
            "execution_count": 0
        },
        {
            "cell_type": "markdown",
            "source": [
                "## SP Worker Time\n",
                "\n",
                "Top Cached SPs By Total Worker time. Worker time relates to CPU cost "
            ],
            "metadata": {
                "azdata_cell_guid": "73f6fcfb-1e3e-4500-800b-5022754f975c"
            }
        },
        {
            "cell_type": "code",
            "source": [
                "SELECT TOP(25) p.name AS [SP Name], qs.total_worker_time AS [TotalWorkerTime], \n",
                "qs.total_worker_time/qs.execution_count AS [AvgWorkerTime], qs.execution_count, \n",
                "ISNULL(qs.execution_count/DATEDIFF(Minute, qs.cached_time, GETDATE()), 0) AS [Calls/Minute],\n",
                "qs.total_elapsed_time, qs.total_elapsed_time/qs.execution_count AS [avg_elapsed_time],\n",
                "CASE WHEN CONVERT(nvarchar(max), qp.query_plan) LIKE N'%<MissingIndexes>%' THEN 1 ELSE 0 END AS [Has Missing Index],\n",
                "FORMAT(qs.last_execution_time, 'yyyy-MM-dd HH:mm:ss', 'en-US') AS [Last Execution Time], \n",
                "FORMAT(qs.cached_time, 'yyyy-MM-dd HH:mm:ss', 'en-US') AS [Plan Cached Time]\n",
                "FROM sys.procedures AS p WITH (NOLOCK)\n",
                "INNER JOIN sys.dm_exec_procedure_stats AS qs WITH (NOLOCK)\n",
                "ON p.[object_id] = qs.[object_id]\n",
                "CROSS APPLY sys.dm_exec_query_plan(qs.plan_handle) AS qp\n",
                "WHERE qs.database_id = DB_ID()\n",
                "AND DATEDIFF(Minute, qs.cached_time, GETDATE()) > 0\n",
                "ORDER BY qs.total_worker_time DESC OPTION (RECOMPILE);\n",
                ""
            ],
            "metadata": {
                "azdata_cell_guid": "3035ed6a-6bba-41e4-98ac-4b51cf3d2c4c"
            },
            "outputs": [],
            "execution_count": 0
        },
        {
            "cell_type": "markdown",
            "source": [
                "## SP Logical Reads\n",
                "\n",
                "Top Cached SPs By Total Logical Reads. Logical reads relate to memory pressure "
            ],
            "metadata": {
                "azdata_cell_guid": "13c39220-74d8-434b-a02c-71aacee1486b"
            }
        },
        {
            "cell_type": "code",
            "source": [
                "SELECT TOP(25) p.name AS [SP Name], qs.total_logical_reads AS [TotalLogicalReads], \n",
                "qs.total_logical_reads/qs.execution_count AS [AvgLogicalReads],qs.execution_count, \n",
                "ISNULL(qs.execution_count/DATEDIFF(Minute, qs.cached_time, GETDATE()), 0) AS [Calls/Minute], \n",
                "qs.total_elapsed_time, qs.total_elapsed_time/qs.execution_count AS [avg_elapsed_time],\n",
                "CASE WHEN CONVERT(nvarchar(max), qp.query_plan) LIKE N'%<MissingIndexes>%' THEN 1 ELSE 0 END AS [Has Missing Index], \n",
                "FORMAT(qs.last_execution_time, 'yyyy-MM-dd HH:mm:ss', 'en-US') AS [Last Execution Time], \n",
                "FORMAT(qs.cached_time, 'yyyy-MM-dd HH:mm:ss', 'en-US') AS [Plan Cached Time]\n",
                "FROM sys.procedures AS p WITH (NOLOCK)\n",
                "INNER JOIN sys.dm_exec_procedure_stats AS qs WITH (NOLOCK)\n",
                "ON p.[object_id] = qs.[object_id]\n",
                "CROSS APPLY sys.dm_exec_query_plan(qs.plan_handle) AS qp\n",
                "WHERE qs.database_id = DB_ID()\n",
                "AND DATEDIFF(Minute, qs.cached_time, GETDATE()) > 0\n",
                "ORDER BY qs.total_logical_reads DESC OPTION (RECOMPILE);\n",
                ""
            ],
            "metadata": {
                "azdata_cell_guid": "4cabbbb3-b9aa-4973-96d6-2a9e46a4f83d"
            },
            "outputs": [],
            "execution_count": 0
        },
        {
            "cell_type": "markdown",
            "source": [
                "## SP Physical Reads\n",
                "\n",
                "Top Cached SPs By Total Physical Reads. Physical reads relate to disk read I/O pressure "
            ],
            "metadata": {
                "azdata_cell_guid": "ec3aaf7d-4292-480e-b959-a6a85dae129e"
            }
        },
        {
            "cell_type": "code",
            "source": [
                "SELECT TOP(25) p.name AS [SP Name],qs.total_physical_reads AS [TotalPhysicalReads], \n",
                "qs.total_physical_reads/qs.execution_count AS [AvgPhysicalReads], qs.execution_count, \n",
                "qs.total_logical_reads,qs.total_elapsed_time, qs.total_elapsed_time/qs.execution_count AS [avg_elapsed_time],\n",
                "CASE WHEN CONVERT(nvarchar(max), qp.query_plan) LIKE N'%<MissingIndexes>%' THEN 1 ELSE 0 END AS [Has Missing Index],\n",
                "FORMAT(qs.last_execution_time, 'yyyy-MM-dd HH:mm:ss', 'en-US') AS [Last Execution Time], \n",
                "FORMAT(qs.cached_time, 'yyyy-MM-dd HH:mm:ss', 'en-US') AS [Plan Cached Time]\n",
                "FROM sys.procedures AS p WITH (NOLOCK)\n",
                "INNER JOIN sys.dm_exec_procedure_stats AS qs WITH (NOLOCK)\n",
                "ON p.[object_id] = qs.[object_id]\n",
                "CROSS APPLY sys.dm_exec_query_plan(qs.plan_handle) AS qp\n",
                "WHERE qs.database_id = DB_ID()\n",
                "AND qs.total_physical_reads > 0\n",
                "ORDER BY qs.total_physical_reads DESC, qs.total_logical_reads DESC OPTION (RECOMPILE);\n",
                ""
            ],
            "metadata": {
                "azdata_cell_guid": "f305a8a9-c497-4fcc-97ea-90c1ed1f441e"
            },
            "outputs": [],
            "execution_count": 0
        },
        {
            "cell_type": "markdown",
            "source": [
                "## SP Logical Writes\n",
                "\n",
                "Top Cached SPs By Total Logical Writes"
            ],
            "metadata": {
                "azdata_cell_guid": "23be17fe-7fba-417b-9445-9bd89f4f9145"
            }
        },
        {
            "cell_type": "code",
            "source": [
                "SELECT TOP(25) p.name AS [SP Name], qs.total_logical_writes AS [TotalLogicalWrites], \n",
                "qs.total_logical_writes/qs.execution_count AS [AvgLogicalWrites], qs.execution_count,\n",
                "ISNULL(qs.execution_count/DATEDIFF(Minute, qs.cached_time, GETDATE()), 0) AS [Calls/Minute],\n",
                "qs.total_elapsed_time, qs.total_elapsed_time/qs.execution_count AS [avg_elapsed_time],\n",
                "CASE WHEN CONVERT(nvarchar(max), qp.query_plan) LIKE N'%<MissingIndexes>%' THEN 1 ELSE 0 END AS [Has Missing Index], \n",
                "FORMAT(qs.last_execution_time, 'yyyy-MM-dd HH:mm:ss', 'en-US') AS [Last Execution Time], \n",
                "FORMAT(qs.cached_time, 'yyyy-MM-dd HH:mm:ss', 'en-US') AS [Plan Cached Time]\n",
                "FROM sys.procedures AS p WITH (NOLOCK)\n",
                "INNER JOIN sys.dm_exec_procedure_stats AS qs WITH (NOLOCK)\n",
                "ON p.[object_id] = qs.[object_id]\n",
                "CROSS APPLY sys.dm_exec_query_plan(qs.plan_handle) AS qp\n",
                "WHERE qs.database_id = DB_ID()\n",
                "AND qs.total_logical_writes > 0\n",
                "AND DATEDIFF(Minute, qs.cached_time, GETDATE()) > 0\n",
                "ORDER BY qs.total_logical_writes DESC OPTION (RECOMPILE);\n",
                ""
            ],
            "metadata": {
                "azdata_cell_guid": "0d09bb07-f716-4029-8c73-9d9b361342df"
            },
            "outputs": [],
            "execution_count": 0
        },
        {
            "cell_type": "markdown",
            "source": [
                "## Top IO Statements\n",
                "\n",
                "Lists the top statements by average input/output usage for the current database "
            ],
            "metadata": {
                "azdata_cell_guid": "56d3155f-76ce-4a43-9b9b-c72bf4c0f652"
            }
        },
        {
            "cell_type": "code",
            "source": [
                "SELECT TOP(50) OBJECT_NAME(qt.objectid, dbid) AS [SP Name],\n",
                "(qs.total_logical_reads + qs.total_logical_writes) /qs.execution_count AS [Avg IO], qs.execution_count AS [Execution Count],\n",
                "SUBSTRING(qt.[text],qs.statement_start_offset/2, \n",
                "\t(CASE \n",
                "\t\tWHEN qs.statement_end_offset = -1 \n",
                "\t THEN LEN(CONVERT(nvarchar(max), qt.[text])) * 2 \n",
                "\t\tELSE qs.statement_end_offset \n",
                "\t END - qs.statement_start_offset)/2) AS [Query Text]\t\n",
                "FROM sys.dm_exec_query_stats AS qs WITH (NOLOCK)\n",
                "CROSS APPLY sys.dm_exec_sql_text(qs.sql_handle) AS qt\n",
                "WHERE qt.[dbid] = DB_ID()\n",
                "ORDER BY [Avg IO] DESC OPTION (RECOMPILE);\n",
                ""
            ],
            "metadata": {
                "azdata_cell_guid": "231b630b-f8d3-4ec8-b6e6-ce4a25026e8a"
            },
            "outputs": [],
            "execution_count": 0
        },
        {
            "cell_type": "markdown",
            "source": [
                "## Bad NC Indexes\n",
                "\n",
                "Possible Bad NC Indexes (writes > reads) "
            ],
            "metadata": {
                "azdata_cell_guid": "61405d59-3992-492a-9c45-cbd0b69c55b3"
            }
        },
        {
            "cell_type": "code",
            "source": [
                "SELECT OBJECT_NAME(s.[object_id]) AS [Table Name], i.name AS [Index Name], i.index_id, \n",
                "i.is_disabled, i.is_hypothetical, i.has_filter, i.fill_factor,\n",
                "s.user_updates AS [Total Writes], s.user_seeks + s.user_scans + s.user_lookups AS [Total Reads],\n",
                "s.user_updates - (s.user_seeks + s.user_scans + s.user_lookups) AS [Difference]\n",
                "FROM sys.dm_db_index_usage_stats AS s WITH (NOLOCK)\n",
                "INNER JOIN sys.indexes AS i WITH (NOLOCK)\n",
                "ON s.[object_id] = i.[object_id]\n",
                "AND i.index_id = s.index_id\n",
                "WHERE OBJECTPROPERTY(s.[object_id],'IsUserTable') = 1\n",
                "AND s.database_id = DB_ID()\n",
                "AND s.user_updates > (s.user_seeks + s.user_scans + s.user_lookups)\n",
                "AND i.index_id > 1 AND i.[type_desc] = N'NONCLUSTERED'\n",
                "AND i.is_primary_key = 0 AND i.is_unique_constraint = 0 AND i.is_unique = 0\n",
                "ORDER BY [Difference] DESC, [Total Writes] DESC, [Total Reads] ASC OPTION (RECOMPILE);\n",
                ""
            ],
            "metadata": {
                "azdata_cell_guid": "84ac80b9-4d32-498d-af9d-c7c481bbbf60"
            },
            "outputs": [],
            "execution_count": 0
        },
        {
            "cell_type": "markdown",
            "source": [
                "## Missing Indexes\n",
                "\n",
                "Missing Indexes for current database by Index Advantage "
            ],
            "metadata": {
                "azdata_cell_guid": "80af7ef9-bef3-422d-b367-27e41b8d9e06"
            }
        },
        {
            "cell_type": "code",
            "source": [
                "SELECT DISTINCT CONVERT(decimal(18,2), user_seeks * avg_total_user_cost * (avg_user_impact * 0.01)) AS [index_advantage], \n",
                "migs.last_user_seek, mid.[statement] AS [Database.Schema.Table],\n",
                "mid.equality_columns, mid.inequality_columns, mid.included_columns,\n",
                "migs.unique_compiles, migs.user_seeks, migs.avg_total_user_cost, migs.avg_user_impact,\n",
                "OBJECT_NAME(mid.[object_id]) AS [Table Name], p.rows AS [Table Rows]\n",
                "FROM sys.dm_db_missing_index_group_stats AS migs WITH (NOLOCK)\n",
                "INNER JOIN sys.dm_db_missing_index_groups AS mig WITH (NOLOCK)\n",
                "ON migs.group_handle = mig.index_group_handle\n",
                "INNER JOIN sys.dm_db_missing_index_details AS mid WITH (NOLOCK)\n",
                "ON mig.index_handle = mid.index_handle\n",
                "INNER JOIN sys.partitions AS p WITH (NOLOCK)\n",
                "ON p.[object_id] = mid.[object_id]\n",
                "WHERE mid.database_id = DB_ID()\n",
                "AND p.index_id < 2 \n",
                "ORDER BY index_advantage DESC OPTION (RECOMPILE);\n",
                ""
            ],
            "metadata": {
                "azdata_cell_guid": "f9d25457-84c3-44dc-b616-4ce8577fb408"
            },
            "outputs": [],
            "execution_count": 0
        },
        {
            "cell_type": "markdown",
            "source": [
                "## Missing Index Warnings\n",
                "\n",
                "Find missing index warnings for cached plans in the current database "
            ],
            "metadata": {
                "azdata_cell_guid": "f17870e4-f0ee-492c-ad14-555549a80f8a"
            }
        },
        {
            "cell_type": "code",
            "source": [
                "SELECT TOP(25) OBJECT_NAME(objectid) AS [ObjectName], \n",
                "               cp.objtype, cp.usecounts, cp.size_in_bytes, query_plan\n",
                "FROM sys.dm_exec_cached_plans AS cp WITH (NOLOCK)\n",
                "CROSS APPLY sys.dm_exec_query_plan(cp.plan_handle) AS qp\n",
                "WHERE CAST(query_plan AS NVARCHAR(MAX)) LIKE N'%MissingIndex%'\n",
                "AND dbid = DB_ID()\n",
                "ORDER BY cp.usecounts DESC OPTION (RECOMPILE);\n",
                ""
            ],
            "metadata": {
                "azdata_cell_guid": "21039ab2-2391-45b1-a67d-7bea13aa8e1e"
            },
            "outputs": [],
            "execution_count": 0
        },
        {
            "cell_type": "markdown",
            "source": [
                "## Buffer Usage\n",
                "\n",
                "Breaks down buffers used by current database by object (table, index) in the buffer cache "
            ],
            "metadata": {
                "azdata_cell_guid": "8eb1b94e-b4f9-45ca-abac-a07ce2072bcc"
            }
        },
        {
            "cell_type": "code",
            "source": [
                "SELECT OBJECT_NAME(p.[object_id]) AS [Object Name], p.index_id, \n",
                "CAST(COUNT(*)/128.0 AS DECIMAL(10, 2)) AS [Buffer size(MB)],  \n",
                "COUNT(*) AS [BufferCount], p.[Rows] AS [Row Count],\n",
                "p.data_compression_desc AS [Compression Type]\n",
                "FROM sys.allocation_units AS a WITH (NOLOCK)\n",
                "INNER JOIN sys.dm_os_buffer_descriptors AS b WITH (NOLOCK)\n",
                "ON a.allocation_unit_id = b.allocation_unit_id\n",
                "INNER JOIN sys.partitions AS p WITH (NOLOCK)\n",
                "ON a.container_id = p.hobt_id\n",
                "WHERE b.database_id = CONVERT(int, DB_ID())\n",
                "AND p.[object_id] > 100\n",
                "AND OBJECT_NAME(p.[object_id]) NOT LIKE N'plan_%'\n",
                "AND OBJECT_NAME(p.[object_id]) NOT LIKE N'sys%'\n",
                "AND OBJECT_NAME(p.[object_id]) NOT LIKE N'xml_index_nodes%'\n",
                "GROUP BY p.[object_id], p.index_id, p.data_compression_desc, p.[Rows]\n",
                "ORDER BY [BufferCount] DESC OPTION (RECOMPILE);\n",
                ""
            ],
            "metadata": {
                "azdata_cell_guid": "1b4ed5f8-d054-4017-82b5-6811a75d9a88"
            },
            "outputs": [],
            "execution_count": 0
        },
        {
            "cell_type": "markdown",
            "source": [
                "## Table Sizes\n",
                "\n",
                "Get Table names, row counts, and compression status for clustered index or heap "
            ],
            "metadata": {
                "azdata_cell_guid": "a9beca0d-c4b4-4c11-b661-fbb0a8c5da9c"
            }
        },
        {
            "cell_type": "code",
            "source": [
                "SELECT SCHEMA_NAME(o.Schema_ID) AS [Schema Name], OBJECT_NAME(p.object_id) AS [ObjectName], \n",
                "SUM(p.Rows) AS [RowCount], data_compression_desc AS [CompressionType]\n",
                "FROM sys.partitions AS p WITH (NOLOCK)\n",
                "INNER JOIN sys.objects AS o WITH (NOLOCK)\n",
                "ON p.object_id = o.object_id\n",
                "WHERE index_id < 2 --ignore the partitions from the non-clustered index if any\n",
                "AND OBJECT_NAME(p.object_id) NOT LIKE N'sys%'\n",
                "AND OBJECT_NAME(p.object_id) NOT LIKE N'spt_%'\n",
                "AND OBJECT_NAME(p.object_id) NOT LIKE N'queue_%' \n",
                "AND OBJECT_NAME(p.object_id) NOT LIKE N'filestream_tombstone%' \n",
                "AND OBJECT_NAME(p.object_id) NOT LIKE N'fulltext%'\n",
                "AND OBJECT_NAME(p.object_id) NOT LIKE N'ifts_comp_fragment%'\n",
                "AND OBJECT_NAME(p.object_id) NOT LIKE N'filetable_updates%'\n",
                "AND OBJECT_NAME(p.object_id) NOT LIKE N'xml_index_nodes%'\n",
                "AND OBJECT_NAME(p.object_id) NOT LIKE N'sqlagent_job%'\n",
                "AND OBJECT_NAME(p.object_id) NOT LIKE N'plan_persist%'\n",
                "GROUP BY  SCHEMA_NAME(o.Schema_ID), p.object_id, data_compression_desc\n",
                "ORDER BY SUM(p.Rows) DESC OPTION (RECOMPILE);\n",
                ""
            ],
            "metadata": {
                "azdata_cell_guid": "3e24e2db-ab45-40f3-84ef-d23af7198020"
            },
            "outputs": [],
            "execution_count": 0
        },
        {
            "cell_type": "markdown",
            "source": [
                "## Table Properties\n",
                "\n",
                "Get some key table properties"
            ],
            "metadata": {
                "azdata_cell_guid": "f1acb9e1-cf3f-48d6-8b7d-b60a84f72572"
            }
        },
        {
            "cell_type": "code",
            "source": [
                "SELECT OBJECT_NAME(t.[object_id]) AS [ObjectName], p.[rows] AS [Table Rows], p.index_id, \n",
                "       p.data_compression_desc AS [Index Data Compression],\n",
                "       t.create_date, t.lock_on_bulk_load, t.is_replicated, t.has_replication_filter, \n",
                "       t.is_tracked_by_cdc, t.lock_escalation_desc, t.is_filetable, \n",
                "\t   t.is_memory_optimized, t.durability_desc, \n",
                "\t   t.temporal_type_desc, t.is_remote_data_archive_enabled, t.is_external -- new for SQL Server 2016\n",
                "FROM sys.tables AS t WITH (NOLOCK)\n",
                "INNER JOIN sys.partitions AS p WITH (NOLOCK)\n",
                "ON t.[object_id] = p.[object_id]\n",
                "WHERE OBJECT_NAME(t.[object_id]) NOT LIKE N'sys%'\n",
                "ORDER BY OBJECT_NAME(t.[object_id]), p.index_id OPTION (RECOMPILE);\n",
                ""
            ],
            "metadata": {
                "azdata_cell_guid": "79e160f3-2e0b-4e2f-b6e8-be006b00cc6f"
            },
            "outputs": [],
            "execution_count": 0
        },
        {
            "cell_type": "markdown",
            "source": [
                "## Statistics Update\n",
                "\n",
                "When were Statistics last updated on all indexes? "
            ],
            "metadata": {
                "azdata_cell_guid": "a97f07a8-e22d-495d-8308-e86865b02a27"
            }
        },
        {
            "cell_type": "code",
            "source": [
                "SELECT SCHEMA_NAME(o.Schema_ID) + N'.' + o.[NAME] AS [Object Name], o.[type_desc] AS [Object Type],\n",
                "      i.[name] AS [Index Name], STATS_DATE(i.[object_id], i.index_id) AS [Statistics Date], \n",
                "      s.auto_created, s.no_recompute, s.user_created, s.is_incremental, s.is_temporary,\n",
                "\t  st.row_count, st.used_page_count\n",
                "FROM sys.objects AS o WITH (NOLOCK)\n",
                "INNER JOIN sys.indexes AS i WITH (NOLOCK)\n",
                "ON o.[object_id] = i.[object_id]\n",
                "INNER JOIN sys.stats AS s WITH (NOLOCK)\n",
                "ON i.[object_id] = s.[object_id] \n",
                "AND i.index_id = s.stats_id\n",
                "INNER JOIN sys.dm_db_partition_stats AS st WITH (NOLOCK)\n",
                "ON o.[object_id] = st.[object_id]\n",
                "AND i.[index_id] = st.[index_id]\n",
                "WHERE o.[type] IN ('U', 'V')\n",
                "AND st.row_count > 0\n",
                "ORDER BY STATS_DATE(i.[object_id], i.index_id) DESC OPTION (RECOMPILE);\n",
                ""
            ],
            "metadata": {
                "azdata_cell_guid": "b79d1c6a-144b-434e-885a-147da912c485"
            },
            "outputs": [],
            "execution_count": 0
        },
        {
            "cell_type": "markdown",
            "source": [
                "## Volatile Indexes\n",
                "\n",
                "Look at most frequently modified indexes and statistics"
            ],
            "metadata": {
                "azdata_cell_guid": "edcab15e-dbef-4de5-ba74-8c5ce54c21e2"
            }
        },
        {
            "cell_type": "code",
            "source": [
                "SELECT o.[name] AS [Object Name], o.[object_id], o.[type_desc], s.[name] AS [Statistics Name], \n",
                "       s.stats_id, s.no_recompute, s.auto_created, s.is_incremental, s.is_temporary,\n",
                "\t   sp.modification_counter, sp.[rows], sp.rows_sampled, sp.last_updated\n",
                "FROM sys.objects AS o WITH (NOLOCK)\n",
                "INNER JOIN sys.stats AS s WITH (NOLOCK)\n",
                "ON s.object_id = o.object_id\n",
                "CROSS APPLY sys.dm_db_stats_properties(s.object_id, s.stats_id) AS sp\n",
                "WHERE o.[type_desc] NOT IN (N'SYSTEM_TABLE', N'INTERNAL_TABLE')\n",
                "AND sp.modification_counter > 0\n",
                "ORDER BY sp.modification_counter DESC, o.name OPTION (RECOMPILE);\n",
                ""
            ],
            "metadata": {
                "azdata_cell_guid": "a2ba06c6-82b1-4855-8d82-de044e904595"
            },
            "outputs": [],
            "execution_count": 0
        },
        {
            "cell_type": "markdown",
            "source": [
                "## Index Fragmentation\n",
                "\n",
                "Get fragmentation info for all indexes above a certain size in the current database "
            ],
            "metadata": {
                "azdata_cell_guid": "d1922d45-0968-4a14-a202-9611b20a3c1b"
            }
        },
        {
            "cell_type": "code",
            "source": [
                "SELECT DB_NAME(ps.database_id) AS [Database Name], SCHEMA_NAME(o.[schema_id]) AS [Schema Name],\n",
                "OBJECT_NAME(ps.OBJECT_ID) AS [Object Name], i.[name] AS [Index Name], ps.index_id, \n",
                "ps.index_type_desc, ps.avg_fragmentation_in_percent, \n",
                "ps.fragment_count, ps.page_count, i.fill_factor, i.has_filter, \n",
                "i.filter_definition, i.[allow_page_locks]\n",
                "FROM sys.dm_db_index_physical_stats(DB_ID(),NULL, NULL, NULL , N'LIMITED') AS ps\n",
                "INNER JOIN sys.indexes AS i WITH (NOLOCK)\n",
                "ON ps.[object_id] = i.[object_id] \n",
                "AND ps.index_id = i.index_id\n",
                "INNER JOIN sys.objects AS o WITH (NOLOCK)\n",
                "ON i.[object_id] = o.[object_id]\n",
                "WHERE ps.database_id = DB_ID()\n",
                "AND ps.page_count > 2500\n",
                "ORDER BY ps.avg_fragmentation_in_percent DESC OPTION (RECOMPILE);\n",
                ""
            ],
            "metadata": {
                "azdata_cell_guid": "ac0d8909-9ea0-42c1-8ae2-bde04e8d1f4c"
            },
            "outputs": [],
            "execution_count": 0
        },
        {
            "cell_type": "markdown",
            "source": [
                "## Overall Index Usage - Reads\n",
                "\n",
                "Index Read/Write stats (all tables in current DB) ordered by Reads "
            ],
            "metadata": {
                "azdata_cell_guid": "9a95b333-0682-476a-89a4-b1d43c172337"
            }
        },
        {
            "cell_type": "code",
            "source": [
                "SELECT OBJECT_NAME(i.[object_id]) AS [ObjectName], i.[name] AS [IndexName], i.index_id, \n",
                "       s.user_seeks, s.user_scans, s.user_lookups,\n",
                "\t   s.user_seeks + s.user_scans + s.user_lookups AS [Total Reads], \n",
                "\t   s.user_updates AS [Writes],  \n",
                "\t   i.[type_desc] AS [Index Type], i.fill_factor AS [Fill Factor], i.has_filter, i.filter_definition, \n",
                "\t   s.last_user_scan, s.last_user_lookup, s.last_user_seek\n",
                "FROM sys.indexes AS i WITH (NOLOCK)\n",
                "LEFT OUTER JOIN sys.dm_db_index_usage_stats AS s WITH (NOLOCK)\n",
                "ON i.[object_id] = s.[object_id]\n",
                "AND i.index_id = s.index_id\n",
                "AND s.database_id = DB_ID()\n",
                "WHERE OBJECTPROPERTY(i.[object_id],'IsUserTable') = 1\n",
                "ORDER BY s.user_seeks + s.user_scans + s.user_lookups DESC OPTION (RECOMPILE); -- Order by reads\n",
                ""
            ],
            "metadata": {
                "azdata_cell_guid": "8cc473c5-b122-4816-b1c3-613367a0a44f"
            },
            "outputs": [],
            "execution_count": 0
        },
        {
            "cell_type": "markdown",
            "source": [
                "## Overall Index Usage - Writes\n",
                "\n",
                "Index Read/Write stats (all tables in current DB) ordered by Writes "
            ],
            "metadata": {
                "azdata_cell_guid": "07d1cbe0-c6ad-4755-b307-02ed2ae3e632"
            }
        },
        {
            "cell_type": "code",
            "source": [
                "SELECT OBJECT_NAME(i.[object_id]) AS [ObjectName], i.[name] AS [IndexName], i.index_id,\n",
                "\t   s.user_updates AS [Writes], s.user_seeks + s.user_scans + s.user_lookups AS [Total Reads], \n",
                "\t   i.[type_desc] AS [Index Type], i.fill_factor AS [Fill Factor], i.has_filter, i.filter_definition,\n",
                "\t   s.last_system_update, s.last_user_update\n",
                "FROM sys.indexes AS i WITH (NOLOCK)\n",
                "LEFT OUTER JOIN sys.dm_db_index_usage_stats AS s WITH (NOLOCK)\n",
                "ON i.[object_id] = s.[object_id]\n",
                "AND i.index_id = s.index_id\n",
                "AND s.database_id = DB_ID()\n",
                "WHERE OBJECTPROPERTY(i.[object_id],'IsUserTable') = 1\n",
                "ORDER BY s.user_updates DESC OPTION (RECOMPILE);\t\t\t\t\t\t -- Order by writes\n",
                ""
            ],
            "metadata": {
                "azdata_cell_guid": "ef9a4fca-a300-4808-94d2-53fb5219112e"
            },
            "outputs": [],
            "execution_count": 0
        },
        {
            "cell_type": "markdown",
            "source": [
                "## XTP Index Usage\n",
                "\n",
                "Get in-memory OLTP index usage"
            ],
            "metadata": {
                "azdata_cell_guid": "2d1a410c-4913-4772-9fc0-05617ddc0d60"
            }
        },
        {
            "cell_type": "code",
            "source": [
                "SELECT OBJECT_NAME(i.[object_id]) AS [Object Name], i.index_id, i.[name] AS [Index Name],\n",
                "       i.[type_desc], xis.scans_started, xis.scans_retries, \n",
                "\t   xis.rows_touched, xis.rows_returned\n",
                "FROM sys.dm_db_xtp_index_stats AS xis WITH (NOLOCK)\n",
                "INNER JOIN sys.indexes AS i WITH (NOLOCK)\n",
                "ON i.[object_id] = xis.[object_id] \n",
                "AND i.index_id = xis.index_id \n",
                "ORDER BY OBJECT_NAME(i.[object_id]) OPTION (RECOMPILE);\n",
                ""
            ],
            "metadata": {
                "azdata_cell_guid": "4aa06d0d-e03c-4655-865c-5319af0b4c7b"
            },
            "outputs": [],
            "execution_count": 0
        },
        {
            "cell_type": "markdown",
            "source": [
                "## Columnstore Index Physical Stat\n",
                "\n",
                "Look at Columnstore index physical statistics"
            ],
            "metadata": {
                "azdata_cell_guid": "1a796cff-3730-46a5-a997-b664da2e984a"
            }
        },
        {
            "cell_type": "code",
            "source": [
                "SELECT OBJECT_NAME(ps.object_id) AS [TableName],  \n",
                "\ti.[name] AS [IndexName], ps.index_id, ps.partition_number,\n",
                "\tps.delta_store_hobt_id, ps.state_desc, ps.total_rows, ps.size_in_bytes,\n",
                "\tps.trim_reason_desc, ps.generation, ps.transition_to_compressed_state_desc,\n",
                "\tps.has_vertipaq_optimization, ps.deleted_rows,\n",
                "\t100 * (ISNULL(ps.deleted_rows, 0))/ps.total_rows AS [Fragmentation]\n",
                "FROM sys.dm_db_column_store_row_group_physical_stats AS ps WITH (NOLOCK)\n",
                "INNER JOIN sys.indexes AS i WITH (NOLOCK)\n",
                "ON ps.object_id = i.object_id \n",
                "AND ps.index_id = i.index_id\n",
                "ORDER BY ps.object_id, ps.partition_number, ps.row_group_id OPTION (RECOMPILE);\n",
                ""
            ],
            "metadata": {
                "azdata_cell_guid": "81f183fc-433c-45b1-b384-b05c9cb4413d"
            },
            "outputs": [],
            "execution_count": 0
        },
        {
            "cell_type": "markdown",
            "source": [
                "## Lock Waits\n",
                "\n",
                "Get lock waits for current database"
            ],
            "metadata": {
                "azdata_cell_guid": "c958d663-134a-4b3b-9933-b0aa76e62f00"
            }
        },
        {
            "cell_type": "code",
            "source": [
                "SELECT o.name AS [table_name], i.name AS [index_name], ios.index_id, ios.partition_number,\n",
                "\t\tSUM(ios.row_lock_wait_count) AS [total_row_lock_waits], \n",
                "\t\tSUM(ios.row_lock_wait_in_ms) AS [total_row_lock_wait_in_ms],\n",
                "\t\tSUM(ios.page_lock_wait_count) AS [total_page_lock_waits],\n",
                "\t\tSUM(ios.page_lock_wait_in_ms) AS [total_page_lock_wait_in_ms],\n",
                "\t\tSUM(ios.page_lock_wait_in_ms)+ SUM(row_lock_wait_in_ms) AS [total_lock_wait_in_ms]\n",
                "FROM sys.dm_db_index_operational_stats(DB_ID(), NULL, NULL, NULL) AS ios\n",
                "INNER JOIN sys.objects AS o WITH (NOLOCK)\n",
                "ON ios.[object_id] = o.[object_id]\n",
                "INNER JOIN sys.indexes AS i WITH (NOLOCK)\n",
                "ON ios.[object_id] = i.[object_id] \n",
                "AND ios.index_id = i.index_id\n",
                "WHERE o.[object_id] > 100\n",
                "GROUP BY o.name, i.name, ios.index_id, ios.partition_number\n",
                "HAVING SUM(ios.page_lock_wait_in_ms)+ SUM(row_lock_wait_in_ms) > 0\n",
                "ORDER BY total_lock_wait_in_ms DESC OPTION (RECOMPILE);\n",
                ""
            ],
            "metadata": {
                "azdata_cell_guid": "66866970-8853-43fb-8cac-16a38379020b"
            },
            "outputs": [],
            "execution_count": 0
        },
        {
            "cell_type": "markdown",
            "source": [
                "## UDF Statistics\n",
                "\n",
                "Look at UDF execution statistics"
            ],
            "metadata": {
                "azdata_cell_guid": "957d17e0-15fe-49c4-a5e3-a385444953f7"
            }
        },
        {
            "cell_type": "code",
            "source": [
                "SELECT OBJECT_NAME(object_id) AS [Function Name], execution_count,\n",
                "\t   total_worker_time, total_logical_reads, total_physical_reads, total_elapsed_time, \n",
                "\t   total_elapsed_time/execution_count AS [avg_elapsed_time],\n",
                "\t   FORMAT(cached_time, 'yyyy-MM-dd HH:mm:ss', 'en-US') AS [Plan Cached Time]\n",
                "FROM sys.dm_exec_function_stats WITH (NOLOCK) \n",
                "WHERE database_id = DB_ID()\n",
                "ORDER BY total_worker_time DESC OPTION (RECOMPILE); \n",
                ""
            ],
            "metadata": {
                "azdata_cell_guid": "fdd9cd3d-aa1f-40e5-b650-11cdf2ec75eb"
            },
            "outputs": [],
            "execution_count": 0
        },
        {
            "cell_type": "markdown",
            "source": [
                "## QueryStore Options\n",
                "\n",
                "Get QueryStore Options for this database"
            ],
            "metadata": {
                "azdata_cell_guid": "54fae8a5-3207-438c-b0e5-a5152596ea70"
            }
        },
        {
            "cell_type": "code",
            "source": [
                "SELECT actual_state_desc, desired_state_desc, [interval_length_minutes],\n",
                "       current_storage_size_mb, [max_storage_size_mb], \n",
                "\t   query_capture_mode_desc, size_based_cleanup_mode_desc\n",
                "FROM sys.database_query_store_options WITH (NOLOCK) OPTION (RECOMPILE);\n",
                ""
            ],
            "metadata": {
                "azdata_cell_guid": "9a7ceff5-0871-4295-821e-3a5ade96f50c"
            },
            "outputs": [],
            "execution_count": 0
        },
        {
            "cell_type": "markdown",
            "source": [
                "## Input Buffer\n",
                "\n",
                "Get input buffer information for the current database"
            ],
            "metadata": {
                "azdata_cell_guid": "4012e46e-83c9-4b74-9a7e-1dc30f9587c8"
            }
        },
        {
            "cell_type": "code",
            "source": [
                "SELECT es.session_id, DB_NAME(es.database_id) AS [Database Name],\n",
                "       es.login_time, es.cpu_time, es.logical_reads, es.memory_usage,\n",
                "       es.[status], ib.event_info AS [Input Buffer]\n",
                "FROM sys.dm_exec_sessions AS es WITH (NOLOCK)\n",
                "CROSS APPLY sys.dm_exec_input_buffer(es.session_id, NULL) AS ib\n",
                "WHERE es.database_id = DB_ID()\n",
                "AND es.session_id > 50\n",
                "AND es.session_id <> @@SPID OPTION (RECOMPILE);\n",
                ""
            ],
            "metadata": {
                "azdata_cell_guid": "4af00964-a951-407e-b68e-e08a3b29d934"
            },
            "outputs": [],
            "execution_count": 0
        },
        {
            "cell_type": "markdown",
            "source": [
                "## Resumable Index Rebuild\n",
                "\n",
                "Get any resumable index rebuild operation information"
            ],
            "metadata": {
                "azdata_cell_guid": "fb442a36-aea3-4dfa-a8a6-f6d465cb2cd2"
            }
        },
        {
            "cell_type": "code",
            "source": [
                "SELECT OBJECT_NAME(iro.object_id) AS [Object Name], iro.index_id, iro.name AS [Index Name],\n",
                "       iro.sql_text, iro.last_max_dop_used, iro.partition_number, iro.state_desc, \n",
                "\t   iro.start_time, iro.percent_complete\n",
                "FROM  sys.index_resumable_operations AS iro WITH (NOLOCK)\n",
                "OPTION (RECOMPILE);\n",
                ""
            ],
            "metadata": {
                "azdata_cell_guid": "60c3aa51-fc27-43ce-92e1-d543746843b0"
            },
            "outputs": [],
            "execution_count": 0
        },
        {
            "cell_type": "markdown",
            "source": [
                "## Automatic Tuning Options\n",
                "\n",
                "Get database automatic tuning options"
            ],
            "metadata": {
                "azdata_cell_guid": "15d1b9d1-18d6-4c53-9583-f74362d50eaa"
            }
        },
        {
            "cell_type": "code",
            "source": [
                "SELECT [name], desired_state_desc, actual_state_desc, reason_desc\n",
                "FROM sys.database_automatic_tuning_options WITH (NOLOCK)\n",
                "OPTION (RECOMPILE);\n",
                ""
            ],
            "metadata": {
                "azdata_cell_guid": "d891eb2a-be1d-46ce-bd9b-4c08b5664bca"
            },
            "outputs": [],
            "execution_count": 0
        },
        {
            "cell_type": "markdown",
            "source": [
                "## Recent Full Backups\n",
                "\n",
                "Look at recent Full backups for the current database"
            ],
            "metadata": {
                "azdata_cell_guid": "0e14f664-08b4-4188-97fc-a79f3b2abf56"
            }
        },
        {
            "cell_type": "code",
            "source": [
                "SELECT TOP (30) bs.machine_name, bs.server_name, bs.database_name AS [Database Name], bs.recovery_model,\n",
                "CONVERT (BIGINT, bs.backup_size / 1048576 ) AS [Uncompressed Backup Size (MB)],\n",
                "CONVERT (BIGINT, bs.compressed_backup_size / 1048576 ) AS [Compressed Backup Size (MB)],\n",
                "CONVERT (NUMERIC (20,2), (CONVERT (FLOAT, bs.backup_size) /\n",
                "CONVERT (FLOAT, bs.compressed_backup_size))) AS [Compression Ratio], bs.has_backup_checksums, bs.is_copy_only, bs.encryptor_type,\n",
                "DATEDIFF (SECOND, bs.backup_start_date, bs.backup_finish_date) AS [Backup Elapsed Time (sec)],\n",
                "bs.backup_finish_date AS [Backup Finish Date], bmf.physical_device_name AS [Backup Location], bmf.physical_block_size\n",
                "FROM msdb.dbo.backupset AS bs WITH (NOLOCK)\n",
                "INNER JOIN msdb.dbo.backupmediafamily AS bmf WITH (NOLOCK)\n",
                "ON bs.media_set_id = bmf.media_set_id  \n",
                "WHERE bs.database_name = DB_NAME(DB_ID())\n",
                "AND bs.[type] = 'D' -- Change to L if you want Log backups\n",
                "ORDER BY bs.backup_finish_date DESC OPTION (RECOMPILE);\n",
                ""
            ],
            "metadata": {
                "azdata_cell_guid": "c36f2ef9-4bcd-4329-820f-c6c7353687fc"
            },
            "outputs": [],
            "execution_count": 0
        }
    ]
}